{
 "cells": [
  {
   "cell_type": "markdown",
   "metadata": {},
   "source": [
    "# 1. Import and Install Dependencies"
   ]
  },
  {
   "cell_type": "code",
   "execution_count": 30,
   "metadata": {},
   "outputs": [
    {
     "name": "stderr",
     "output_type": "stream",
     "text": [
      "ERROR: unknown command \"upgrade\"\n",
      "\n"
     ]
    }
   ],
   "source": [
    "!pip upgrade tensorflow-gpu==2.4.1"
   ]
  },
  {
   "cell_type": "code",
   "execution_count": null,
   "metadata": {},
   "outputs": [],
   "source": [
    "!pip install tensorflow==2.4.1 tensorflow-gpu==2.4.1 opencv-python mediapipe sklearn matplotlib"
   ]
  },
  {
   "cell_type": "code",
   "execution_count": 1,
   "metadata": {},
   "outputs": [],
   "source": [
    "import cv2"
   ]
  },
  {
   "cell_type": "code",
   "execution_count": 1,
   "metadata": {},
   "outputs": [],
   "source": [
    "import cv2\n",
    "import numpy as np\n",
    "import os\n",
    "from matplotlib import pyplot as plt\n",
    "import time\n",
    "import mediapipe as mp\n",
    "import tensorflow as tf\n"
   ]
  },
  {
   "cell_type": "code",
   "execution_count": 2,
   "metadata": {},
   "outputs": [],
   "source": [
    "import time\n",
    "cap = cv2.VideoCapture(0,cv2.CAP_DSHOW )\n",
    "# Set mediapipe model \n",
    "\n",
    "while cap.isOpened():\n",
    "    t = time.time()\n",
    "        # Read feed\n",
    "    ret, frame = cap.read()\n",
    "\n",
    "\n",
    "        # Show to screen\n",
    "    cv2.imshow('OpenCV Feed', frame)\n",
    "    #print('fps', 1/(time.time()-t))\n",
    "        # Break gracefully\n",
    "    if cv2.waitKey(10) & 0xFF == ord('q'):\n",
    "        break\n",
    "cap.release()\n",
    "cv2.destroyAllWindows()"
   ]
  },
  {
   "cell_type": "markdown",
   "metadata": {},
   "source": [
    "# 2. Keypoints using MP Holistic"
   ]
  },
  {
   "cell_type": "code",
   "execution_count": 3,
   "metadata": {},
   "outputs": [],
   "source": [
    "mp_holistic = mp.solutions.holistic # Holistic model\n",
    "mp_drawing = mp.solutions.drawing_utils # Drawing utilities"
   ]
  },
  {
   "cell_type": "code",
   "execution_count": 4,
   "metadata": {},
   "outputs": [],
   "source": [
    "def mediapipe_detection(image, model):\n",
    "    image = cv2.cvtColor(image, cv2.COLOR_BGR2RGB) # COLOR CONVERSION BGR 2 RGB\n",
    "    image.flags.writeable = False                  # Image is no longer writeable\n",
    "    results = model.process(image)                 # Make prediction\n",
    "    image.flags.writeable = True                   # Image is now writeable \n",
    "    image = cv2.cvtColor(image, cv2.COLOR_RGB2BGR) # COLOR COVERSION RGB 2 BGR\n",
    "    return image, results"
   ]
  },
  {
   "cell_type": "code",
   "execution_count": 5,
   "metadata": {},
   "outputs": [],
   "source": [
    "def draw_landmarks(image, results):\n",
    "    #tạm thời bỏ qua mặt\n",
    "    #mp_drawing.draw_landmarks(image, results.face_landmarks, mp_holistic.FACE_CONNECTIONS) # Draw face connections\n",
    "    #mp_drawing.draw_landmarks(image, results.pose_landmarks, mp_holistic.POSE_CONNECTIONS) # Draw pose connections\n",
    "    #mp_drawing.draw_landmarks(image, results.left_hand_landmarks, mp_holistic.HAND_CONNECTIONS) # Draw left hand connections\n",
    "    mp_drawing.draw_landmarks(image, results.right_hand_landmarks, mp_holistic.HAND_CONNECTIONS) # Draw right hand connections"
   ]
  },
  {
   "cell_type": "code",
   "execution_count": 6,
   "metadata": {},
   "outputs": [],
   "source": [
    "def draw_styled_landmarks(image, results):\n",
    "    #tạm thời bỏ qua mặt\n",
    "    # Draw face connections\n",
    "    \"\"\"mp_drawing.draw_landmarks(image, results.face_landmarks, mp_holistic.FACE_CONNECTIONS, \n",
    "                             mp_drawing.DrawingSpec(color=(80,110,10), thickness=1, circle_radius=1), \n",
    "                             mp_drawing.DrawingSpec(color=(80,256,121), thickness=1, circle_radius=1)\n",
    "                             ) \"\"\"\n",
    "    # Draw pose connections\n",
    "    \"\"\"mp_drawing.draw_landmarks(image, results.pose_landmarks, mp_holistic.POSE_CONNECTIONS,\n",
    "                             mp_drawing.DrawingSpec(color=(80,22,10), thickness=2, circle_radius=4), \n",
    "                             mp_drawing.DrawingSpec(color=(80,44,121), thickness=2, circle_radius=2)\n",
    "                             )\"\"\"\n",
    "    # Draw left hand connections\n",
    "    \"\"\"mp_drawing.draw_landmarks(image, results.left_hand_landmarks, mp_holistic.HAND_CONNECTIONS, \n",
    "                             mp_drawing.DrawingSpec(color=(121,22,76), thickness=2, circle_radius=4), \n",
    "                             mp_drawing.DrawingSpec(color=(121,44,250), thickness=2, circle_radius=2)\n",
    "                             )\"\"\" \n",
    "    # Draw right hand connections  \n",
    "    mp_drawing.draw_landmarks(image, results.right_hand_landmarks, mp_holistic.HAND_CONNECTIONS, \n",
    "                             mp_drawing.DrawingSpec(color=(245,117,66), thickness=2, circle_radius=4), \n",
    "                             mp_drawing.DrawingSpec(color=(245,66,230), thickness=2, circle_radius=2)\n",
    "                             )"
   ]
  },
  {
   "cell_type": "code",
   "execution_count": 10,
   "metadata": {},
   "outputs": [
    {
     "name": "stdout",
     "output_type": "stream",
     "text": [
      "fps 1.7343208128636425\n",
      "fps 32.345237636208\n",
      "fps 26.36351865237751\n",
      "fps 16.99433563203488\n",
      "fps 19.282117293343692\n",
      "fps 27.10076437483443\n",
      "fps 14.003325298308638\n",
      "fps 33.42261321348601\n",
      "fps 18.75295201219703\n",
      "fps 28.17635480555425\n",
      "fps 18.550494909377182\n",
      "fps 18.882374126629692\n",
      "fps 18.784026225866693\n",
      "fps 27.454125347733594\n",
      "fps 18.897262032952924\n",
      "fps 17.965373973083874\n",
      "fps 21.05532017429369\n",
      "fps 27.841750305347563\n",
      "fps 18.90748445902999\n",
      "fps 17.608550905343055\n",
      "fps 21.194378894071157\n",
      "fps 27.814793692056714\n",
      "fps 18.73577943948612\n"
     ]
    }
   ],
   "source": [
    "import time\n",
    "cap = cv2.VideoCapture(0, cv2.CAP_DSHOW)\n",
    "cap.set(cv2.CAP_PROP_FRAME_WIDTH, 640)  \n",
    "cap.set(cv2.CAP_PROP_FRAME_HEIGHT, 480)\n",
    "# Set mediapipe model \n",
    "with mp_holistic.Holistic(min_detection_confidence=0.5, min_tracking_confidence=0.5) as holistic:\n",
    "    while cap.isOpened():\n",
    "        t = time.time()\n",
    "        # Read feed\n",
    "        ret, frame = cap.read()\n",
    "\n",
    "        # Make detections\n",
    "        image, results = mediapipe_detection(frame, holistic)\n",
    "        \n",
    "        \n",
    "        # Draw landmarks\n",
    "        draw_styled_landmarks(image, results)\n",
    "\n",
    "        # Show to screen\n",
    "        cv2.imshow('OpenCV Feed', image)\n",
    "        print('fps', 1/(time.time()-t))\n",
    "        # Break gracefully\n",
    "        if cv2.waitKey(10) & 0xFF == ord('q'):\n",
    "            break\n",
    "    cap.release()\n",
    "    cv2.destroyAllWindows()"
   ]
  },
  {
   "cell_type": "code",
   "execution_count": 10,
   "metadata": {},
   "outputs": [],
   "source": [
    "draw_landmarks(frame, results)"
   ]
  },
  {
   "cell_type": "code",
   "execution_count": 11,
   "metadata": {},
   "outputs": [
    {
     "data": {
      "text/plain": [
       "<matplotlib.image.AxesImage at 0x1f58c71eb48>"
      ]
     },
     "execution_count": 11,
     "metadata": {},
     "output_type": "execute_result"
    },
    {
     "data": {
      "image/png": "[encoded data removed]",
      "text/plain": [
       "<Figure size 432x288 with 1 Axes>"
      ]
     },
     "metadata": {
      "needs_background": "light"
     },
     "output_type": "display_data"
    }
   ],
   "source": [
    "plt.imshow(cv2.cvtColor(frame, cv2.COLOR_BGR2RGB))"
   ]
  },
  {
   "cell_type": "markdown",
   "metadata": {},
   "source": [
    "# 3. Extract Keypoint Values"
   ]
  },
  {
   "cell_type": "code",
   "execution_count": 13,
   "metadata": {},
   "outputs": [
    {
     "data": {
      "text/plain": [
       "21"
      ]
     },
     "execution_count": 13,
     "metadata": {},
     "output_type": "execute_result"
    }
   ],
   "source": [
    "len(results.right_hand_landmarks.landmark)"
   ]
  },
  {
   "cell_type": "code",
   "execution_count": 14,
   "metadata": {},
   "outputs": [],
   "source": [
    "pose = []\n",
    "for res in results.pose_landmarks.landmark:\n",
    "    test = np.array([res.x, res.y, res.z, res.visibility])\n",
    "    pose.append(test)"
   ]
  },
  {
   "cell_type": "code",
   "execution_count": 105,
   "metadata": {},
   "outputs": [],
   "source": [
    "pose = np.array([[res.x, res.y, res.z, res.visibility] for res in results.pose_landmarks.landmark]).flatten() if results.pose_landmarks else np.zeros(132)\n",
    "face = np.array([[res.x, res.y, res.z] for res in results.face_landmarks.landmark]).flatten() if results.face_landmarks else np.zeros(1404)\n",
    "lh = np.array([[res.x, res.y, res.z] for res in results.left_hand_landmarks.landmark]).flatten() if results.left_hand_landmarks else np.zeros(21*3)\n",
    "rh = np.array([[res.x, res.y, res.z] for res in results.right_hand_landmarks.landmark]).flatten() if results.right_hand_landmarks else np.zeros(21*3)"
   ]
  },
  {
   "cell_type": "code",
   "execution_count": 28,
   "metadata": {},
   "outputs": [
    {
     "ename": "IndentationError",
     "evalue": "unexpected indent (1373052555.py, line 2)",
     "output_type": "error",
     "traceback": [
      "\u001b[1;36m  File \u001b[1;32m\"C:\\Users\\Admin\\AppData\\Local\\Temp\\ipykernel_3336\\1373052555.py\"\u001b[1;36m, line \u001b[1;32m2\u001b[0m\n\u001b[1;33m    if results.face_landmarks\u001b[0m\n\u001b[1;37m    ^\u001b[0m\n\u001b[1;31mIndentationError\u001b[0m\u001b[1;31m:\u001b[0m unexpected indent\n"
     ]
    }
   ],
   "source": [
    "face = np.array([[res.x, res.y, res.z] for res in results.face_landmarks.landmark]).flatten() \n",
    "    if results.face_landmarks \n",
    "    else np.zeros(1404)\n"
   ]
  },
  {
   "cell_type": "code",
   "execution_count": 7,
   "metadata": {},
   "outputs": [],
   "source": [
    "def extract_keypoints(results):\n",
    "    #pose = np.array([[res.x, res.y, res.z, res.visibility] for res in results.pose_landmarks.landmark]).flatten() if results.pose_landmarks else np.zeros(33*4)\n",
    "    #tạm thời bỏ qua mặt\n",
    "    #face = np.array([[res.x, res.y, res.z] for res in results.face_landmarks.landmark]).flatten() if results.face_landmarks else np.zeros(468*3)\n",
    "    #lh = np.array([[res.x, res.y, res.z] for res in results.left_hand_landmarks.landmark]).flatten() if results.left_hand_landmarks else np.zeros(21*3)\n",
    "    rh = np.array([[res.x, res.y, res.z] for res in results.right_hand_landmarks.landmark]).flatten() if results.right_hand_landmarks else np.zeros(21*3)\n",
    "    return np.concatenate([rh])"
   ]
  },
  {
   "cell_type": "code",
   "execution_count": 11,
   "metadata": {},
   "outputs": [],
   "source": [
    "def extract_keypoints_E(results):\n",
    "    face = np.array([[res.x, res.y, res.z] for res in results.face_landmarks.landmark]).flatten() if results.face_landmarks else np.zeros(468*3)\n",
    "    lh = np.array([[res.x, res.y, res.z] for res in results.left_hand_landmarks.landmark]).flatten() if results.left_hand_landmarks else np.zeros(21*3)\n",
    "    rh = np.array([[res.x, res.y, res.z] for res in results.right_hand_landmarks.landmark]).flatten() if results.right_hand_landmarks else np.zeros(21*3)\n",
    "    return np.concatenate([pose, face, lh, rh])"
   ]
  },
  {
   "cell_type": "code",
   "execution_count": 15,
   "metadata": {},
   "outputs": [],
   "source": [
    "result_test = extract_keypoints(results)"
   ]
  },
  {
   "cell_type": "code",
   "execution_count": 16,
   "metadata": {},
   "outputs": [
    {
     "data": {
      "text/plain": [
       "(63,)"
      ]
     },
     "execution_count": 16,
     "metadata": {},
     "output_type": "execute_result"
    }
   ],
   "source": [
    "result_test.shape"
   ]
  },
  {
   "cell_type": "code",
   "execution_count": 124,
   "metadata": {},
   "outputs": [],
   "source": [
    "np.save('0', result_test)"
   ]
  },
  {
   "cell_type": "code",
   "execution_count": 125,
   "metadata": {},
   "outputs": [
    {
     "data": {
      "text/plain": [
       "array([ 0.3835876 ,  0.47759178, -0.77978629, ...,  0.        ,\n",
       "        0.        ,  0.        ])"
      ]
     },
     "execution_count": 125,
     "metadata": {},
     "output_type": "execute_result"
    }
   ],
   "source": [
    "np.load('0.npy')"
   ]
  },
  {
   "cell_type": "markdown",
   "metadata": {},
   "source": [
    "# 4. Setup Folders for Collection"
   ]
  },
  {
   "cell_type": "code",
   "execution_count": 40,
   "metadata": {},
   "outputs": [],
   "source": [
    "# Path for exported data, numpy arrays\n",
    "DATA_TRAIN_PATH = os.path.join(\"For thesis\\MP_Data_Train\") \n",
    "\n",
    "# Path for video\n",
    "VIDEO_TRAIN_PATH = os.path.join(\"For thesis\\MP_Video_Train\")\n",
    "\n",
    "# Actions that we try to detect\n",
    "#actions =       np.array([ \"aw\",\"ee\",\"ow\",\"sac\", \"hoi\",\"nang\",\"nothing\",\"aa\",\"oo\",\"uw\", \"nga\",\"huyen\" ])\n",
    "#actions_train = np.array([ \"aw\",\"ee\",\"ow\",\"sac\", \"hoi\",\"nang\",\"nothing\",\"aa\",\"oo\",\"uw\", \"nga\",\"huyen\" ])\n",
    "#actions_train = np.array([ \"aw\"])\n",
    "actions_train = np.array([\"nga\"])\n",
    "#actions_train = np.array([ \"hoi\",\"nang\",\"nothing\"])\n",
    "#actions_train = np.array([\"aa\"])\n",
    "#actions_train = np.array([\"oo\"])\n",
    "#actions_train = np.array([\"uw\"])\n",
    "#actions_train = np.array([\"nga\"])\n",
    "#actions_train = np.array([\"huyen\"])\n",
    "#\"aw\",\"ee\",\"ow\",\"sac\", \"hoi\",\"nang\",\"nothing\" \n",
    "# Thirty videos worth of data\n",
    "no_sequences_train = 1\n",
    "\n",
    "# Videos are going to be 30 frames in length\n",
    "sequence_length = 50\n",
    "\n",
    "# Folder start\n",
    "start_folder = 0"
   ]
  },
  {
   "cell_type": "code",
   "execution_count": 16,
   "metadata": {},
   "outputs": [
    {
     "ename": "NameError",
     "evalue": "name 'action' is not defined",
     "output_type": "error",
     "traceback": [
      "\u001b[1;31m---------------------------------------------------------------------------\u001b[0m",
      "\u001b[1;31mNameError\u001b[0m                                 Traceback (most recent call last)",
      "\u001b[1;32m~\\AppData\\Local\\Temp\\ipykernel_3980\\3677511720.py\u001b[0m in \u001b[0;36m<module>\u001b[1;34m\u001b[0m\n\u001b[1;32m----> 1\u001b[1;33m \u001b[0mos\u001b[0m\u001b[1;33m.\u001b[0m\u001b[0mpath\u001b[0m\u001b[1;33m.\u001b[0m\u001b[0mjoin\u001b[0m\u001b[1;33m(\u001b[0m\u001b[0mDATA_PATH\u001b[0m\u001b[1;33m,\u001b[0m \u001b[0maction\u001b[0m\u001b[1;33m)\u001b[0m\u001b[1;33m\u001b[0m\u001b[1;33m\u001b[0m\u001b[0m\n\u001b[0m",
      "\u001b[1;31mNameError\u001b[0m: name 'action' is not defined"
     ]
    }
   ],
   "source": [
    "os.path.join(DATA_PATH, action)"
   ]
  },
  {
   "cell_type": "code",
   "execution_count": 56,
   "metadata": {},
   "outputs": [
    {
     "data": {
      "text/plain": [
       "array([], dtype=float64)"
      ]
     },
     "execution_count": 56,
     "metadata": {},
     "output_type": "execute_result"
    }
   ],
   "source": [
    "np.array(os.listdir(os.path.join(DATA_PATH, action)))"
   ]
  },
  {
   "cell_type": "code",
   "execution_count": 42,
   "metadata": {},
   "outputs": [],
   "source": [
    "for action in actions_train: \n",
    "    for sequence in range(no_sequences_train):\n",
    "        try: \n",
    "            os.makedirs(os.path.join(DATA_TRAIN_PATH, action, str(sequence)))\n",
    "            os.makedirs(os.path.join(VIDEO_TRAIN_PATH, action))\n",
    "        except:\n",
    "            pass"
   ]
  },
  {
   "cell_type": "code",
   "execution_count": 57,
   "metadata": {
    "scrolled": true
   },
   "outputs": [],
   "source": [
    "for action in actions_train: \n",
    "    dirmax = np.max(np.array(os.listdir(os.path.join(DATA_TRAIN_PATH, action))).astype(int))\n",
    "    for sequence in range(1,no_sequences_train+1):\n",
    "        try: \n",
    "            os.makedirs(os.path.join(DATA_TRAIN_PATH, action, str(dirmax+sequence)))\n",
    "            os.makedirs(os.path.join(VIDEO_TRAIN_PATH, action))\n",
    "        except:\n",
    "            pass"
   ]
  },
  {
   "cell_type": "markdown",
   "metadata": {},
   "source": [
    "# 5. Collect Keypoint Values for Training and Testing"
   ]
  },
  {
   "cell_type": "code",
   "execution_count": 10,
   "metadata": {},
   "outputs": [
    {
     "ename": "NameError",
     "evalue": "name 'wv_path' is not defined",
     "output_type": "error",
     "traceback": [
      "\u001b[1;31m---------------------------------------------------------------------------\u001b[0m",
      "\u001b[1;31mNameError\u001b[0m                                 Traceback (most recent call last)",
      "\u001b[1;32m~\\AppData\\Local\\Temp\\ipykernel_3128\\3537008846.py\u001b[0m in \u001b[0;36m<module>\u001b[1;34m\u001b[0m\n\u001b[1;32m----> 1\u001b[1;33m \u001b[0mprint\u001b[0m\u001b[1;33m(\u001b[0m\u001b[0mwv_path\u001b[0m\u001b[1;33m)\u001b[0m\u001b[1;33m\u001b[0m\u001b[1;33m\u001b[0m\u001b[0m\n\u001b[0m",
      "\u001b[1;31mNameError\u001b[0m: name 'wv_path' is not defined"
     ]
    }
   ],
   "source": [
    "print(wv_path)"
   ]
  },
  {
   "cell_type": "code",
   "execution_count": 43,
   "metadata": {},
   "outputs": [
    {
     "name": "stdout",
     "output_type": "stream",
     "text": [
      "fps 0.5502556653596528\n",
      "fps 20.05749973698557\n",
      "fps 19.38845282669995\n",
      "fps 13.736593545513497\n",
      "fps 13.362762839301643\n",
      "fps 14.517331967312412\n",
      "fps 14.485895062581163\n",
      "fps 13.944803327359955\n",
      "fps 14.535342858826098\n",
      "fps 14.355795295857178\n",
      "fps 14.325200142080385\n",
      "fps 14.532170104843013\n",
      "fps 14.53106248527598\n",
      "fps 14.323390101390231\n",
      "fps 13.805999282429733\n",
      "fps 14.322803159393665\n",
      "fps 13.935907446232362\n",
      "fps 13.919350610130456\n",
      "fps 13.735468933695307\n",
      "fps 13.02174479975163\n",
      "fps 13.73533399265144\n",
      "fps 13.728635255224784\n",
      "fps 13.744921400084548\n",
      "fps 13.924896002443486\n",
      "fps 14.05164627527706\n",
      "fps 12.086599946400938\n",
      "fps 14.323977091494005\n",
      "fps 13.93775981869598\n",
      "fps 13.554148031333213\n",
      "fps 13.93188023570209\n",
      "fps 12.534079227330322\n",
      "fps 14.138802367757506\n",
      "fps 14.132799601048596\n",
      "fps 13.370217242313638\n",
      "fps 12.534603637580764\n",
      "fps 12.320352958109723\n",
      "fps 13.747624494826168\n",
      "fps 13.198766442192712\n",
      "fps 14.119098112877273\n",
      "fps 14.1080326539948\n",
      "fps 13.01770328988206\n",
      "fps 13.959515679187385\n",
      "fps 13.927485364582123\n",
      "fps 13.748615895971758\n",
      "fps 14.324808743169399\n",
      "fps 14.294491532644221\n",
      "fps 13.942346558876714\n",
      "fps 13.919766361343422\n",
      "fps 13.368640475294988\n",
      "fps 11.266288464844422\n"
     ]
    }
   ],
   "source": [
    "import time\n",
    "cap = cv2.VideoCapture(0,cv2.CAP_DSHOW)\n",
    "\n",
    "# get the size of the frame\n",
    "w = int(cap.get(3))\n",
    "h = int (cap.get(4))\n",
    "\n",
    "#archive file type\n",
    "fourcc = cv2.VideoWriter_fourcc(*'mp4v')\n",
    "\n",
    "# Set mediapipe model \n",
    "with mp_holistic.Holistic(min_detection_confidence=0.5, min_tracking_confidence=0.5) as holistic:\n",
    "    \n",
    "    # NEW LOOP\n",
    "    # Loop through actions\n",
    "    for action in actions_train:\n",
    "        # Loop through sequences aka videos\n",
    "        for sequence in range(start_folder, start_folder+no_sequences_train):\n",
    "            # Loop through video length aka sequence length\n",
    "            #write video\n",
    "            wv_path = os.path.join(VIDEO_TRAIN_PATH, action, '{}.mp4'.format(str(sequence)))\n",
    "            VDWT = cv2.VideoWriter (wv_path,fourcc,30,(w,h))\n",
    "            for frame_num in range(sequence_length):\n",
    "                t = time.time()\n",
    "                # Read feed\n",
    "                ret, frame = cap.read()\n",
    "                if ret == False:\n",
    "                    break\n",
    "                # Make detections\n",
    "                image, results = mediapipe_detection(frame, holistic)\n",
    "\n",
    "                # Draw landmarks\n",
    "                draw_styled_landmarks(image, results)\n",
    "                \n",
    "                # NEW Apply wait logic\n",
    "                if frame_num == 0: \n",
    "                    cv2.putText(image, 'STARTING COLLECTION', (120,200), \n",
    "                               cv2.FONT_HERSHEY_SIMPLEX, 1, (0,255, 0), 4, cv2.LINE_AA)\n",
    "                    cv2.putText(image, 'Collecting frames for {} Video Number {}'.format(action, sequence), (15,12), \n",
    "                               cv2.FONT_HERSHEY_SIMPLEX, 0.5, (0, 0, 255), 1, cv2.LINE_AA)\n",
    "                    # Show to screen\n",
    "                    cv2.imshow('OpenCV Feed', image)\n",
    "                    cv2.waitKey(1500)\n",
    "                else: \n",
    "                    cv2.putText(image, 'Collecting frames for {} Video Number {}'.format(action, sequence), (15,12), \n",
    "                               cv2.FONT_HERSHEY_SIMPLEX, 0.5, (0, 0, 255), 1, cv2.LINE_AA)\n",
    "                    # Show to screen\n",
    "                    cv2.imshow('OpenCV Feed', image)\n",
    "                # NEW Export keypoints\n",
    "                keypoints = extract_keypoints(results)\n",
    "                npy_path = os.path.join(DATA_TRAIN_PATH, action, str(sequence), str(frame_num))\n",
    "                np.save(npy_path, keypoints)\n",
    "                \n",
    "                VDWT.write(image)\n",
    "                # Break gracefully\n",
    "                print('fps', 1/(time.time()-t))\n",
    "                if cv2.waitKey(5) & 0xFF == ord('q'):\n",
    "                    break\n",
    "            VDWT.release()\n",
    "\n",
    "                    \n",
    "    cap.release()\n",
    "    \n",
    "    cv2.destroyAllWindows()"
   ]
  },
  {
   "cell_type": "code",
   "execution_count": 158,
   "metadata": {},
   "outputs": [],
   "source": [
    "cap.release()\n",
    "cv2.destroyAllWindows()"
   ]
  },
  {
   "cell_type": "markdown",
   "metadata": {},
   "source": [
    "# For test data\n"
   ]
  },
  {
   "cell_type": "code",
   "execution_count": 26,
   "metadata": {},
   "outputs": [],
   "source": [
    "# Path for exported data, numpy arrays\n",
    "DATA_PATH_TEST = os.path.join(\"MP_Data_Test\") \n",
    "\n",
    "# Path for video\n",
    "VIDEO_PATH_TEST = os.path.join(\"MP_Video_Test\")\n",
    "#actions =      np.array([ \"aw\",\"ee\",\"ow\",\"sac\", \"hoi\",\"nang\",\"nothing\",\"aa\",\"oo\",\"uw\", \"nga\",\"huyen\" ])\n",
    "# Actions that we try to detect\n",
    "#actions_test = np.array([ \"aw\",\"ee\",\"ow\",\"sac\", \"hoi\",\"nang\",\"nothing\",\"aa\",\"oo\",\"uw\", \"nga\",\"huyen\" ])\n",
    "#actions_test = np.array([\"aw\",\"ee\"])\n",
    "#actions_test = np.array([ \"ow\",\"sac\" ])\n",
    "#actions_test = np.array([ \"hoi\",\"nang\",\"nothing\"])\n",
    "#actions_test = np.array([ \"aa\",\"oo\"])\n",
    "#actions_test = np.array([ \"oo\"])\n",
    "#actions_test = np.array([ \"uw\",\"nga\"])\n",
    "#actions_test = np.array([ \"nga\"])\n",
    "actions_test = np.array([ \"huyen\"])\n",
    "#\"aw\",\"ee\",\"ow\",\"sac\", \"hoi\",\"nang\",\"nothing\" \n",
    "# Thirty videos worth of data\n",
    "no_sequences_test = 20\n",
    "\n",
    "# Videos are going to be 30 frames in length\n",
    "sequence_length = 30\n",
    "\n",
    "# Folder start\n",
    "start_folder = 40"
   ]
  },
  {
   "cell_type": "code",
   "execution_count": 94,
   "metadata": {},
   "outputs": [],
   "source": [
    "for action in actions_test: \n",
    "    for sequence in range(no_sequences_test):\n",
    "        try: \n",
    "            os.makedirs(os.path.join(DATA_PATH_TEST, action, str(sequence)))\n",
    "            os.makedirs(os.path.join(VIDEO_PATH_TEST, action))\n",
    "        except:\n",
    "            pass"
   ]
  },
  {
   "cell_type": "code",
   "execution_count": 27,
   "metadata": {},
   "outputs": [],
   "source": [
    "for action in actions_test: \n",
    "    dirmax = np.max(np.array(os.listdir(os.path.join(DATA_PATH_TEST, action))).astype(int))\n",
    "    for sequence in range(1,no_sequences_test+1):\n",
    "        try: \n",
    "            os.makedirs(os.path.join(DATA_PATH_TEST, action, str(dirmax+sequence)))\n",
    "            os.makedirs(os.path.join(VIDEO_PATH_TEST, action))\n",
    "        except:\n",
    "            pass"
   ]
  },
  {
   "cell_type": "code",
   "execution_count": null,
   "metadata": {},
   "outputs": [
    {
     "name": "stdout",
     "output_type": "stream",
     "text": [
      "fps 0.5810326670735725\n",
      "fps 13.517716142090098\n",
      "fps 13.546530931264574\n",
      "fps 12.838946266445456\n",
      "fps 13.931324941043611\n",
      "fps 12.22020412147063\n",
      "fps 13.359528086738269\n",
      "fps 10.954188485093825\n",
      "fps 13.735019140526504\n",
      "fps 13.00668273002701\n",
      "fps 13.05741859161945\n",
      "fps 13.368810918664618\n",
      "fps 13.29844830975466\n",
      "fps 13.535164998289671\n",
      "fps 13.623841618891397\n",
      "fps 13.01330090068847\n",
      "fps 13.528529129063264\n",
      "fps 13.578721089844862\n",
      "fps 10.893560434879722\n",
      "fps 11.644763290281741\n",
      "fps 13.02174479975163\n",
      "fps 13.36246483607158\n",
      "fps 13.538354276344457\n",
      "fps 13.252899059030213\n",
      "fps 13.548587579746426\n",
      "fps 13.358464365678177\n",
      "fps 13.192414754051955\n",
      "fps 12.08123856844531\n",
      "fps 11.79898728479802\n",
      "fps 13.186732480271639\n",
      "fps 0.9177028547373359\n",
      "fps 12.970162130737428\n",
      "fps 13.537873604028146\n",
      "fps 13.36919443213729\n",
      "fps 13.426241053022446\n",
      "fps 11.935200598708679\n",
      "fps 13.556776604134614\n",
      "fps 13.363358885639094\n",
      "fps 13.525824260874051\n",
      "fps 10.897806046622808\n",
      "fps 13.356167306191985\n",
      "fps 13.671401657138015\n",
      "fps 13.192539238197087\n",
      "fps 13.708712605283715\n",
      "fps 10.773410048289325\n",
      "fps 13.195444535330019\n",
      "fps 13.034856546168763\n",
      "fps 13.50874752003298\n",
      "fps 12.855040349151182\n",
      "fps 13.298237492985166\n",
      "fps 13.53975278991016\n",
      "fps 11.478475996562727\n",
      "fps 11.765261613637065\n",
      "fps 13.367617906337845\n",
      "fps 13.192829710338668\n",
      "fps 13.536606540605263\n",
      "fps 13.548675110555507\n",
      "fps 12.073657212436634\n",
      "fps 13.362081708591381\n",
      "fps 11.52420622273022\n",
      "fps 0.9249879036935525\n",
      "fps 11.347856671320196\n",
      "fps 13.729084630366115\n",
      "fps 9.033296289595878\n",
      "fps 9.37067330355966\n",
      "fps 10.666802302071915\n",
      "fps 12.533180340409256\n",
      "fps 10.22300325874218\n",
      "fps 13.19299570016262\n",
      "fps 11.370745090384636\n",
      "fps 13.186276451595663\n",
      "fps 9.865793534304316\n",
      "fps 10.657993169621077\n",
      "fps 13.542069713680567\n",
      "fps 12.091408342294088\n",
      "fps 13.390578109236722\n",
      "fps 13.166945012996472\n",
      "fps 11.925766489148453\n",
      "fps 13.36808656435754\n",
      "fps 11.010781593323655\n",
      "fps 13.542244608033062\n",
      "fps 13.156578282867889\n",
      "fps 13.529576465275314\n",
      "fps 13.861710214090726\n",
      "fps 14.526432450404522\n",
      "fps 14.51205790562656\n",
      "fps 15.435330139033026\n",
      "fps 14.806631082493151\n",
      "fps 15.195982812466035\n",
      "fps 15.449657804200648\n",
      "fps 0.9186718903491029\n",
      "fps 15.395331082073117\n",
      "fps 15.191689726612868\n",
      "fps 14.807258349219799\n",
      "fps 15.417004524787085\n",
      "fps 15.462757878282925\n",
      "fps 14.11092794326432\n",
      "fps 15.158472986696639\n",
      "fps 14.752988019781782\n",
      "fps 14.014695317746986\n",
      "fps 14.974416097223115\n",
      "fps 14.534184391264874\n",
      "fps 12.753451148761235\n",
      "fps 13.268998854785542\n",
      "fps 14.537408411260303\n",
      "fps 14.567450325260573\n",
      "fps 14.517884709905644\n",
      "fps 14.576309826653878\n",
      "fps 14.225405805064339\n",
      "fps 15.640466868031472\n",
      "fps 11.21543628468137\n",
      "fps 14.299754869371627\n",
      "fps 14.518789288582427\n",
      "fps 13.383271803675187\n",
      "fps 11.827801496838816\n",
      "fps 15.439023223113422\n",
      "fps 15.461389875993452\n",
      "fps 15.415531290084276\n",
      "fps 13.733984728025252\n",
      "fps 11.105649596343927\n",
      "fps 0.920718978036495\n",
      "fps 14.534134027298906\n",
      "fps 14.592994895953295\n",
      "fps 11.890436744853238\n",
      "fps 14.515523285793883\n",
      "fps 14.563201588850271\n",
      "fps 13.47152043064629\n",
      "fps 15.420405372118076\n",
      "fps 15.445959631297713\n",
      "fps 13.789613497981351\n",
      "fps 14.915043045662896\n",
      "fps 12.107778553984538\n",
      "fps 11.640109676631551\n",
      "fps 12.443089008808025\n",
      "fps 11.788508021450495\n",
      "fps 12.77761733291902\n",
      "fps 15.427779024302325\n",
      "fps 15.997619982988981\n",
      "fps 12.861465622451044\n",
      "fps 11.16658679701394\n",
      "fps 15.443855308118298\n",
      "fps 15.431411720989098\n",
      "fps 16.205486438451434\n",
      "fps 15.435500550176462\n"
     ]
    }
   ],
   "source": [
    "import time\n",
    "cap = cv2.VideoCapture(0)\n",
    "\n",
    "# get the size of the frame\n",
    "w = int(cap.get(3))\n",
    "h = int (cap.get(4))\n",
    "\n",
    "#archive file type\n",
    "fourcc = cv2.VideoWriter_fourcc(*'mp4v')\n",
    "\n",
    "# Set mediapipe model \n",
    "with mp_holistic.Holistic(min_detection_confidence=0.5, min_tracking_confidence=0.5) as holistic:\n",
    "    \n",
    "    # NEW LOOP\n",
    "    # Loop through actions\n",
    "    for action in actions_test:\n",
    "        # Loop through sequences aka videos\n",
    "        for sequence in range(start_folder, start_folder+no_sequences_test):\n",
    "            # Loop through video length aka sequence length\n",
    "            #write video\n",
    "            wv_path = os.path.join(VIDEO_PATH_TEST, action, '{}.mp4'.format(str(sequence)))\n",
    "            VDWT = cv2.VideoWriter (wv_path,fourcc,30,(w,h))\n",
    "            for frame_num in range(sequence_length):\n",
    "                t = time.time()\n",
    "                # Read feed\n",
    "                ret, frame = cap.read()\n",
    "                if ret == False:\n",
    "                    break\n",
    "                # Make detections\n",
    "                image, results = mediapipe_detection(frame, holistic)\n",
    "\n",
    "                # Draw landmarks\n",
    "                draw_styled_landmarks(image, results)\n",
    "                \n",
    "                # NEW Apply wait logic\n",
    "                if frame_num == 0: \n",
    "                    cv2.putText(image, 'STARTING COLLECTION', (120,200), \n",
    "                               cv2.FONT_HERSHEY_SIMPLEX, 1, (0,255, 0), 4, cv2.LINE_AA)\n",
    "                    cv2.putText(image, 'Collecting frames for {} Video Number {}'.format(action, sequence), (15,12), \n",
    "                               cv2.FONT_HERSHEY_SIMPLEX, 0.5, (0, 0, 255), 1, cv2.LINE_AA)\n",
    "                    # Show to screen\n",
    "                    cv2.imshow('OpenCV Feed', image)\n",
    "                    cv2.waitKey(1000)\n",
    "                else: \n",
    "                    cv2.putText(image, 'Collecting frames for {} Video Number {}'.format(action, sequence), (15,12), \n",
    "                               cv2.FONT_HERSHEY_SIMPLEX, 0.5, (0, 0, 255), 1, cv2.LINE_AA)\n",
    "                    # Show to screen\n",
    "                    cv2.imshow('OpenCV Feed', image)\n",
    "                # NEW Export keypoints\n",
    "                keypoints = extract_keypoints(results)\n",
    "                npy_path = os.path.join(DATA_PATH_TEST, action, str(sequence), str(frame_num))\n",
    "                np.save(npy_path, keypoints)\n",
    "                \n",
    "                VDWT.write(frame)\n",
    "                # Break gracefully\n",
    "                print('fps', 1/(time.time()-t))\n",
    "                if cv2.waitKey(10) & 0xFF == ord('q'):\n",
    "                    break\n",
    "            VDWT.release()\n",
    "\n",
    "                    \n",
    "    cap.release()\n",
    "    \n",
    "    cv2.destroyAllWindows()"
   ]
  },
  {
   "cell_type": "markdown",
   "metadata": {},
   "source": [
    "# 6. Preprocess Data and Create Labels and Features"
   ]
  },
  {
   "cell_type": "code",
   "execution_count": 12,
   "metadata": {},
   "outputs": [],
   "source": [
    "from sklearn.model_selection import train_test_split\n",
    "from tensorflow.keras.utils import to_categorical"
   ]
  },
  {
   "cell_type": "code",
   "execution_count": 18,
   "metadata": {},
   "outputs": [],
   "source": [
    "label_map = {label:num for num, label in enumerate(actions_train)}"
   ]
  },
  {
   "cell_type": "code",
   "execution_count": 19,
   "metadata": {},
   "outputs": [
    {
     "data": {
      "text/plain": [
       "{'aw': 0,\n",
       " 'ee': 1,\n",
       " 'ow': 2,\n",
       " 'sac': 3,\n",
       " 'hoi': 4,\n",
       " 'nang': 5,\n",
       " 'nothing': 6,\n",
       " 'aa': 7,\n",
       " 'oo': 8,\n",
       " 'uw': 9,\n",
       " 'nga': 10,\n",
       " 'huyen': 11}"
      ]
     },
     "execution_count": 19,
     "metadata": {},
     "output_type": "execute_result"
    }
   ],
   "source": [
    "label_map"
   ]
  },
  {
   "cell_type": "code",
   "execution_count": 14,
   "metadata": {},
   "outputs": [],
   "source": [
    "sequences_train, labels_train = [], []\n",
    "for action in actions_train:\n",
    "    for sequence in np.array(os.listdir(os.path.join(DATA_TRAIN_PATH, action))).astype(int):\n",
    "        window = []\n",
    "        for frame_num in range(sequence_length):\n",
    "            res = np.load(os.path.join(DATA_TRAIN_PATH, action, str(sequence), \"{}.npy\".format(frame_num)))\n",
    "            window.append(res)\n",
    "        sequences_train.append(window)\n",
    "        labels_train.append(label_map[action])"
   ]
  },
  {
   "cell_type": "code",
   "execution_count": 64,
   "metadata": {
    "collapsed": true
   },
   "outputs": [
    {
     "name": "stdout",
     "output_type": "stream",
     "text": [
      "[array([0., 0., 0., 0., 0., 0., 0., 0., 0., 0., 0., 0., 0., 0., 0., 0., 0.,\n",
      "       0., 0., 0., 0., 0., 0., 0., 0., 0., 0., 0., 0., 0., 0., 0., 0., 0.,\n",
      "       0., 0., 0., 0., 0., 0., 0., 0., 0., 0., 0., 0., 0., 0., 0., 0., 0.,\n",
      "       0., 0., 0., 0., 0., 0., 0., 0., 0., 0., 0., 0.]), array([ 3.48159134e-01,  9.04761016e-01,  3.83194305e-07,  3.95580322e-01,\n",
      "        8.91195178e-01,  6.38091192e-03,  4.23494458e-01,  8.54793549e-01,\n",
      "        2.24801898e-03,  4.46972907e-01,  8.28765273e-01, -6.75740838e-03,\n",
      "        4.68349636e-01,  8.04538488e-01, -1.48754427e-02,  3.91465336e-01,\n",
      "        7.53800273e-01, -5.72597189e-03,  4.49993998e-01,  7.52298653e-01,\n",
      "       -2.86000390e-02,  4.80424494e-01,  7.80126572e-01, -4.22510430e-02,\n",
      "        4.95147377e-01,  8.10238004e-01, -4.75291945e-02,  3.80178392e-01,\n",
      "        7.49998808e-01, -1.96652934e-02,  4.61272031e-01,  7.63760686e-01,\n",
      "       -4.54721898e-02,  4.79592174e-01,  8.10096025e-01, -5.27234897e-02,\n",
      "        4.78446156e-01,  8.45756233e-01, -5.13844639e-02,  3.77946615e-01,\n",
      "        7.67141163e-01, -3.40158083e-02,  4.55559134e-01,  7.95483768e-01,\n",
      "       -5.75730987e-02,  4.65615451e-01,  8.46002698e-01, -5.56247495e-02,\n",
      "        4.57630962e-01,  8.78706634e-01, -4.68242057e-02,  3.81093770e-01,\n",
      "        7.94752300e-01, -4.79572155e-02,  4.41656232e-01,  8.14956903e-01,\n",
      "       -6.08035065e-02,  4.56661552e-01,  8.50194275e-01, -5.54174781e-02,\n",
      "        4.57053512e-01,  8.78353000e-01, -4.67007868e-02]), array([ 3.48813534e-01,  8.50283384e-01,  3.25125256e-07,  3.76961470e-01,\n",
      "        8.10185730e-01,  1.15497438e-02,  4.07133341e-01,  7.73526669e-01,\n",
      "        4.42405837e-03,  4.35453266e-01,  7.57825792e-01, -7.46299187e-03,\n",
      "        4.60988492e-01,  7.56101191e-01, -2.00302526e-02,  3.95987689e-01,\n",
      "        7.34199405e-01, -2.11417936e-02,  4.57953691e-01,  7.26957381e-01,\n",
      "       -3.87231335e-02,  4.94148493e-01,  7.36683547e-01, -4.57762331e-02,\n",
      "        5.22027075e-01,  7.46676087e-01, -4.84605283e-02,  3.84293586e-01,\n",
      "        7.44146824e-01, -3.66417058e-02,  4.58210438e-01,  7.55011559e-01,\n",
      "       -5.87673858e-02,  4.79393393e-01,  7.96994209e-01, -6.13224655e-02,\n",
      "        4.81941521e-01,  8.29595208e-01, -5.88336550e-02,  3.79589438e-01,\n",
      "        7.71324337e-01, -5.00479229e-02,  4.52414572e-01,  7.94238210e-01,\n",
      "       -6.82616979e-02,  4.65066791e-01,  8.38091850e-01, -6.28458038e-02,\n",
      "        4.57291514e-01,  8.64812553e-01, -5.44732884e-02,  3.80498350e-01,\n",
      "        8.03086996e-01, -6.22102693e-02,  4.39115644e-01,  8.19861412e-01,\n",
      "       -7.19689652e-02,  4.53325570e-01,  8.52426469e-01, -6.63834363e-02,\n",
      "        4.51027602e-01,  8.75842214e-01, -5.95427379e-02]), array([ 3.28633279e-01,  8.88117075e-01,  3.16413946e-07,  3.72433096e-01,\n",
      "        8.75204086e-01, -2.94269947e-03,  4.03052509e-01,  8.34541917e-01,\n",
      "       -8.63438845e-03,  4.23145682e-01,  8.02820265e-01, -1.70658343e-02,\n",
      "        4.42196220e-01,  7.77151346e-01, -2.53939796e-02,  3.78141999e-01,\n",
      "        7.40150034e-01, -4.01022844e-03,  4.29005831e-01,  7.36474276e-01,\n",
      "       -2.48713475e-02,  4.67369795e-01,  7.37747669e-01, -3.95263880e-02,\n",
      "        4.99323964e-01,  7.41747737e-01, -4.79644723e-02,  3.62746060e-01,\n",
      "        7.34820366e-01, -1.38593009e-02,  4.28337932e-01,  7.35408723e-01,\n",
      "       -4.02207412e-02,  4.46311980e-01,  7.81778395e-01, -4.90756109e-02,\n",
      "        4.50220257e-01,  8.21929395e-01, -4.87522371e-02,  3.52201581e-01,\n",
      "        7.46503234e-01, -2.52077784e-02,  4.16643530e-01,  7.70378768e-01,\n",
      "       -5.44185378e-02,  4.25822407e-01,  8.24983776e-01, -5.49154505e-02,\n",
      "        4.21050847e-01,  8.63962948e-01, -4.63321097e-02,  3.44529867e-01,\n",
      "        7.71237671e-01, -3.67793441e-02,  3.97019207e-01,  7.83282101e-01,\n",
      "       -5.70295639e-02,  4.14696455e-01,  8.22445512e-01, -5.49829826e-02,\n",
      "        4.18489665e-01,  8.57474566e-01, -4.72404659e-02]), array([ 3.18987250e-01,  8.74100685e-01,  3.07383175e-07,  3.62637341e-01,\n",
      "        8.70194554e-01, -4.11802810e-03,  3.94098520e-01,  8.26902151e-01,\n",
      "       -9.42061376e-03,  4.14203197e-01,  7.91977048e-01, -1.58596803e-02,\n",
      "        4.32765484e-01,  7.64936924e-01, -2.21590754e-02,  3.67004097e-01,\n",
      "        7.28029132e-01, -7.87703507e-03,  4.17482376e-01,  7.35201716e-01,\n",
      "       -2.76418161e-02,  4.57058012e-01,  7.39984453e-01, -4.15943749e-02,\n",
      "        4.86750484e-01,  7.44619608e-01, -4.96625341e-02,  3.52156609e-01,\n",
      "        7.19943404e-01, -1.63679551e-02,  4.21831995e-01,  7.29351044e-01,\n",
      "       -4.13604528e-02,  4.43635672e-01,  7.80980110e-01, -4.87188175e-02,\n",
      "        4.46422845e-01,  8.21111619e-01, -4.74298634e-02,  3.41581672e-01,\n",
      "        7.29994595e-01, -2.59244144e-02,  4.10249770e-01,  7.52104282e-01,\n",
      "       -5.47817163e-02,  4.22308177e-01,  8.09496939e-01, -5.37549742e-02,\n",
      "        4.16148484e-01,  8.47251236e-01, -4.44233343e-02,  3.32241923e-01,\n",
      "        7.53241956e-01, -3.54736373e-02,  3.90215248e-01,  7.68395543e-01,\n",
      "       -5.71188666e-02,  4.08190012e-01,  8.11945498e-01, -5.41954786e-02,\n",
      "        4.09800678e-01,  8.46234620e-01, -4.55979928e-02]), array([ 2.98938751e-01,  8.81616235e-01,  2.70146103e-07,  3.49268883e-01,\n",
      "        8.69141221e-01, -4.30217740e-04,  3.88880998e-01,  8.20608079e-01,\n",
      "       -3.25430674e-03,  4.11573499e-01,  7.80790985e-01, -8.55328701e-03,\n",
      "        4.31555659e-01,  7.50125229e-01, -1.35190077e-02,  3.61095965e-01,\n",
      "        7.22925723e-01,  2.14652880e-03,  4.14453000e-01,  7.27303803e-01,\n",
      "       -1.50004458e-02,  4.52043116e-01,  7.29282796e-01, -2.71193366e-02,\n",
      "        4.83228624e-01,  7.31913805e-01, -3.41568105e-02,  3.44398290e-01,\n",
      "        7.13479102e-01, -8.20600614e-03,  4.14401293e-01,  7.17143536e-01,\n",
      "       -3.33871730e-02,  4.37083960e-01,  7.71587014e-01, -4.11645621e-02,\n",
      "        4.44278240e-01,  8.17861199e-01, -3.92095633e-02,  3.31077456e-01,\n",
      "        7.20646083e-01, -1.97302606e-02,  4.01154518e-01,  7.42177606e-01,\n",
      "       -4.81941104e-02,  4.13566321e-01,  8.04579973e-01, -4.70017046e-02,\n",
      "        4.10585582e-01,  8.49257588e-01, -3.69020849e-02,  3.19408059e-01,\n",
      "        7.41049647e-01, -3.12671624e-02,  3.78621757e-01,  7.55739152e-01,\n",
      "       -5.06132543e-02,  3.97857130e-01,  7.97303259e-01, -4.73571904e-02,\n",
      "        4.02586669e-01,  8.31629932e-01, -3.85305844e-02]), array([ 2.87353992e-01,  8.83539855e-01,  2.07835896e-07,  3.42906982e-01,\n",
      "        8.58619630e-01,  8.22061114e-03,  3.85036618e-01,  8.12639356e-01,\n",
      "        7.53282197e-03,  4.11292404e-01,  7.75988102e-01,  1.15428993e-03,\n",
      "        4.35179979e-01,  7.45784700e-01, -5.76480851e-03,  3.59434694e-01,\n",
      "        7.18596816e-01,  1.17172236e-02,  4.10584807e-01,  7.20403910e-01,\n",
      "       -5.53295435e-03,  4.46058929e-01,  7.23312974e-01, -1.77754499e-02,\n",
      "        4.76062447e-01,  7.26647198e-01, -2.44930517e-02,  3.41225415e-01,\n",
      "        7.08559871e-01, -4.03244607e-03,  4.10630316e-01,  7.11402774e-01,\n",
      "       -3.11431512e-02,  4.30013716e-01,  7.67843783e-01, -4.02895026e-02,\n",
      "        4.35526818e-01,  8.16404104e-01, -3.83475982e-02,  3.25412512e-01,\n",
      "        7.13311374e-01, -2.07731444e-02,  3.95583391e-01,  7.36143768e-01,\n",
      "       -5.15171848e-02,  4.05872643e-01,  8.01056206e-01, -5.18124513e-02,\n",
      "        4.02922451e-01,  8.47468376e-01, -4.15967926e-02,  3.10928404e-01,\n",
      "        7.30880857e-01, -3.67851034e-02,  3.69705379e-01,  7.41998136e-01,\n",
      "       -5.69227263e-02,  3.89011532e-01,  7.83833563e-01, -5.39314970e-02,\n",
      "        3.94923836e-01,  8.19531024e-01, -4.49161865e-02]), array([ 3.29714894e-01,  8.51908803e-01,  2.81475707e-07,  3.71303767e-01,\n",
      "        8.38526964e-01,  2.16977860e-04,  4.04774308e-01,  8.03191066e-01,\n",
      "       -8.47611018e-03,  4.31512058e-01,  7.74895906e-01, -2.16303244e-02,\n",
      "        4.54386503e-01,  7.53435194e-01, -3.42091396e-02,  3.73797834e-01,\n",
      "        7.25649118e-01, -1.53968958e-02,  4.28943336e-01,  7.06213713e-01,\n",
      "       -4.08143401e-02,  4.62280810e-01,  7.23380208e-01, -5.39423004e-02,\n",
      "        4.82870042e-01,  7.43781269e-01, -5.92107177e-02,  3.58977735e-01,\n",
      "        7.18310118e-01, -2.87287291e-02,  4.33897048e-01,  7.11705148e-01,\n",
      "       -5.95625639e-02,  4.60894316e-01,  7.60339200e-01, -6.77974895e-02,\n",
      "        4.67825055e-01,  8.05681348e-01, -6.66498318e-02,  3.49647284e-01,\n",
      "        7.25442946e-01, -4.29663844e-02,  4.18814242e-01,  7.55816221e-01,\n",
      "       -7.65222013e-02,  4.25842077e-01,  8.15872312e-01, -7.61431977e-02,\n",
      "        4.19657350e-01,  8.56634498e-01, -6.62944987e-02,  3.43973935e-01,\n",
      "        7.45409667e-01, -5.66740185e-02,  3.98299366e-01,  7.61920154e-01,\n",
      "       -7.78739676e-02,  4.14215505e-01,  8.06091964e-01, -7.41203353e-02,\n",
      "        4.17437673e-01,  8.43952656e-01, -6.55345395e-02]), array([ 3.38986754e-01,  8.15341949e-01,  2.56864325e-07,  3.81417185e-01,\n",
      "        8.15491796e-01, -3.09784198e-03,  4.12411183e-01,  7.95527518e-01,\n",
      "       -1.49490861e-02,  4.35995072e-01,  7.77434826e-01, -3.00504267e-02,\n",
      "        4.56096858e-01,  7.60352254e-01, -4.50522304e-02,  3.97991538e-01,\n",
      "        7.20429361e-01, -2.70673074e-02,  4.45684493e-01,  7.02398121e-01,\n",
      "       -5.21580651e-02,  4.76680070e-01,  7.17615545e-01, -6.48066998e-02,\n",
      "        4.97851431e-01,  7.35539198e-01, -7.05626756e-02,  3.80963027e-01,\n",
      "        7.14108407e-01, -3.87931950e-02,  4.46874410e-01,  7.10318923e-01,\n",
      "       -6.91478103e-02,  4.74121839e-01,  7.52293646e-01, -7.67279938e-02,\n",
      "        4.84138578e-01,  7.93302953e-01, -7.58762956e-02,  3.68668586e-01,\n",
      "        7.25466073e-01, -5.07606789e-02,  4.31833267e-01,  7.66639888e-01,\n",
      "       -8.23508427e-02,  4.40702647e-01,  8.22360575e-01, -8.13903585e-02,\n",
      "        4.37735915e-01,  8.60227346e-01, -7.20954388e-02,  3.59665513e-01,\n",
      "        7.49235988e-01, -6.24351203e-02,  4.09140021e-01,  7.78752983e-01,\n",
      "       -8.25819448e-02,  4.25578624e-01,  8.18889976e-01, -7.91015700e-02,\n",
      "        4.30546165e-01,  8.51942539e-01, -7.11409897e-02]), array([ 3.39974850e-01,  8.60438287e-01,  4.16424257e-07,  3.79274964e-01,\n",
      "        8.52777958e-01,  7.96765613e-04,  4.09176558e-01,  8.23215723e-01,\n",
      "       -6.99956715e-03,  4.32317764e-01,  7.96607912e-01, -1.88148506e-02,\n",
      "        4.51243788e-01,  7.69933581e-01, -3.10132578e-02,  3.84602249e-01,\n",
      "        7.41953075e-01, -1.22754304e-02,  4.34678644e-01,  7.25212514e-01,\n",
      "       -3.63342054e-02,  4.73259985e-01,  7.31406271e-01, -5.05072884e-02,\n",
      "        5.01041293e-01,  7.42642820e-01, -5.71882278e-02,  3.69540125e-01,\n",
      "        7.37071514e-01, -2.53368933e-02,  4.37868625e-01,  7.21338928e-01,\n",
      "       -5.33168614e-02,  4.71313000e-01,  7.56767154e-01, -6.28157184e-02,\n",
      "        4.85446274e-01,  7.94257283e-01, -6.33210167e-02,  3.58789951e-01,\n",
      "        7.48706400e-01, -3.90348323e-02,  4.29099560e-01,  7.74876356e-01,\n",
      "       -7.07692131e-02,  4.43950772e-01,  8.30824792e-01, -7.17508569e-02,\n",
      "        4.43134248e-01,  8.69581461e-01, -6.33205399e-02,  3.52146745e-01,\n",
      "        7.72647977e-01, -5.21077290e-02,  4.08033222e-01,  7.89681911e-01,\n",
      "       -7.39265457e-02,  4.28584069e-01,  8.30359221e-01, -7.15252534e-02,\n",
      "        4.34807926e-01,  8.65120888e-01, -6.36392087e-02]), array([ 3.84903550e-01,  8.99961650e-01,  2.32782185e-07,  4.34271038e-01,\n",
      "        8.90588701e-01,  1.17770443e-03,  4.68308032e-01,  8.66595209e-01,\n",
      "       -7.83745665e-03,  4.92533445e-01,  8.46699536e-01, -2.09675003e-02,\n",
      "        5.11522770e-01,  8.32675219e-01, -3.38643864e-02,  4.67046857e-01,\n",
      "        7.85777152e-01, -1.71220656e-02,  5.06484091e-01,  7.61980236e-01,\n",
      "       -3.67249399e-02,  5.30756533e-01,  7.65804827e-01, -4.80008796e-02,\n",
      "        5.49676836e-01,  7.77379334e-01, -5.40312454e-02,  4.50530738e-01,\n",
      "        7.85898328e-01, -2.92769652e-02,  5.00184417e-01,  8.09751749e-01,\n",
      "       -5.27155437e-02,  5.16452193e-01,  8.57851923e-01, -5.88074028e-02,\n",
      "        5.19090772e-01,  9.00622845e-01, -5.88370375e-02,  4.34957564e-01,\n",
      "        8.05722415e-01, -4.15350534e-02,  4.85879719e-01,  8.51688921e-01,\n",
      "       -6.52230680e-02,  4.91170019e-01,  8.94724250e-01, -6.42720759e-02,\n",
      "        4.84131902e-01,  9.25484419e-01, -5.82628623e-02,  4.21126604e-01,\n",
      "        8.35089862e-01, -5.36453761e-02,  4.64281321e-01,  8.76228452e-01,\n",
      "       -7.06670806e-02,  4.73979235e-01,  9.13821518e-01, -6.91952258e-02,\n",
      "        4.72604722e-01,  9.43890393e-01, -6.37555793e-02]), array([ 3.90785038e-01,  9.53827858e-01,  9.33299944e-08,  4.33577627e-01,\n",
      "        9.35607374e-01,  1.26955169e-03,  4.67278361e-01,  9.03794050e-01,\n",
      "       -4.60115774e-03,  4.91760999e-01,  8.80028784e-01, -1.40526565e-02,\n",
      "        5.12020171e-01,  8.66138995e-01, -2.27558166e-02,  4.58558977e-01,\n",
      "        8.29113841e-01, -8.96930508e-03,  5.06080627e-01,  8.16623211e-01,\n",
      "       -2.83512864e-02,  5.31303823e-01,  8.36354375e-01, -4.17582169e-02,\n",
      "        5.45130551e-01,  8.59434962e-01, -4.94479537e-02,  4.49520409e-01,\n",
      "        8.35999846e-01, -1.96447577e-02,  5.00824392e-01,  8.44397068e-01,\n",
      "       -3.78852710e-02,  5.25838017e-01,  8.72799337e-01, -4.59932797e-02,\n",
      "        5.39185286e-01,  8.98654521e-01, -5.02120368e-02,  4.42928076e-01,\n",
      "        8.58692825e-01, -3.11559476e-02,  4.92166340e-01,  8.80004168e-01,\n",
      "       -4.76325676e-02,  5.14126360e-01,  9.08698916e-01, -4.91890796e-02,\n",
      "        5.26685357e-01,  9.32376742e-01, -4.83257733e-02,  4.38921094e-01,\n",
      "        8.91191185e-01, -4.29460891e-02,  4.79430586e-01,  9.12972450e-01,\n",
      "       -5.23563772e-02,  4.93563592e-01,  9.35026288e-01, -5.00902273e-02,\n",
      "        5.00180781e-01,  9.55072820e-01, -4.68939953e-02]), array([0., 0., 0., 0., 0., 0., 0., 0., 0., 0., 0., 0., 0., 0., 0., 0., 0.,\n",
      "       0., 0., 0., 0., 0., 0., 0., 0., 0., 0., 0., 0., 0., 0., 0., 0., 0.,\n",
      "       0., 0., 0., 0., 0., 0., 0., 0., 0., 0., 0., 0., 0., 0., 0., 0., 0.,\n",
      "       0., 0., 0., 0., 0., 0., 0., 0., 0., 0., 0., 0.]), array([0., 0., 0., 0., 0., 0., 0., 0., 0., 0., 0., 0., 0., 0., 0., 0., 0.,\n",
      "       0., 0., 0., 0., 0., 0., 0., 0., 0., 0., 0., 0., 0., 0., 0., 0., 0.,\n",
      "       0., 0., 0., 0., 0., 0., 0., 0., 0., 0., 0., 0., 0., 0., 0., 0., 0.,\n",
      "       0., 0., 0., 0., 0., 0., 0., 0., 0., 0., 0., 0.]), array([0., 0., 0., 0., 0., 0., 0., 0., 0., 0., 0., 0., 0., 0., 0., 0., 0.,\n",
      "       0., 0., 0., 0., 0., 0., 0., 0., 0., 0., 0., 0., 0., 0., 0., 0., 0.,\n",
      "       0., 0., 0., 0., 0., 0., 0., 0., 0., 0., 0., 0., 0., 0., 0., 0., 0.,\n",
      "       0., 0., 0., 0., 0., 0., 0., 0., 0., 0., 0., 0.]), array([0., 0., 0., 0., 0., 0., 0., 0., 0., 0., 0., 0., 0., 0., 0., 0., 0.,\n",
      "       0., 0., 0., 0., 0., 0., 0., 0., 0., 0., 0., 0., 0., 0., 0., 0., 0.,\n",
      "       0., 0., 0., 0., 0., 0., 0., 0., 0., 0., 0., 0., 0., 0., 0., 0., 0.,\n",
      "       0., 0., 0., 0., 0., 0., 0., 0., 0., 0., 0., 0.]), array([0., 0., 0., 0., 0., 0., 0., 0., 0., 0., 0., 0., 0., 0., 0., 0., 0.,\n",
      "       0., 0., 0., 0., 0., 0., 0., 0., 0., 0., 0., 0., 0., 0., 0., 0., 0.,\n",
      "       0., 0., 0., 0., 0., 0., 0., 0., 0., 0., 0., 0., 0., 0., 0., 0., 0.,\n",
      "       0., 0., 0., 0., 0., 0., 0., 0., 0., 0., 0., 0.]), array([0., 0., 0., 0., 0., 0., 0., 0., 0., 0., 0., 0., 0., 0., 0., 0., 0.,\n",
      "       0., 0., 0., 0., 0., 0., 0., 0., 0., 0., 0., 0., 0., 0., 0., 0., 0.,\n",
      "       0., 0., 0., 0., 0., 0., 0., 0., 0., 0., 0., 0., 0., 0., 0., 0., 0.,\n",
      "       0., 0., 0., 0., 0., 0., 0., 0., 0., 0., 0., 0.]), array([0., 0., 0., 0., 0., 0., 0., 0., 0., 0., 0., 0., 0., 0., 0., 0., 0.,\n",
      "       0., 0., 0., 0., 0., 0., 0., 0., 0., 0., 0., 0., 0., 0., 0., 0., 0.,\n",
      "       0., 0., 0., 0., 0., 0., 0., 0., 0., 0., 0., 0., 0., 0., 0., 0., 0.,\n",
      "       0., 0., 0., 0., 0., 0., 0., 0., 0., 0., 0., 0.]), array([0., 0., 0., 0., 0., 0., 0., 0., 0., 0., 0., 0., 0., 0., 0., 0., 0.,\n",
      "       0., 0., 0., 0., 0., 0., 0., 0., 0., 0., 0., 0., 0., 0., 0., 0., 0.,\n",
      "       0., 0., 0., 0., 0., 0., 0., 0., 0., 0., 0., 0., 0., 0., 0., 0., 0.,\n",
      "       0., 0., 0., 0., 0., 0., 0., 0., 0., 0., 0., 0.]), array([0., 0., 0., 0., 0., 0., 0., 0., 0., 0., 0., 0., 0., 0., 0., 0., 0.,\n",
      "       0., 0., 0., 0., 0., 0., 0., 0., 0., 0., 0., 0., 0., 0., 0., 0., 0.,\n",
      "       0., 0., 0., 0., 0., 0., 0., 0., 0., 0., 0., 0., 0., 0., 0., 0., 0.,\n",
      "       0., 0., 0., 0., 0., 0., 0., 0., 0., 0., 0., 0.]), array([0., 0., 0., 0., 0., 0., 0., 0., 0., 0., 0., 0., 0., 0., 0., 0., 0.,\n",
      "       0., 0., 0., 0., 0., 0., 0., 0., 0., 0., 0., 0., 0., 0., 0., 0., 0.,\n",
      "       0., 0., 0., 0., 0., 0., 0., 0., 0., 0., 0., 0., 0., 0., 0., 0., 0.,\n",
      "       0., 0., 0., 0., 0., 0., 0., 0., 0., 0., 0., 0.]), array([0., 0., 0., 0., 0., 0., 0., 0., 0., 0., 0., 0., 0., 0., 0., 0., 0.,\n",
      "       0., 0., 0., 0., 0., 0., 0., 0., 0., 0., 0., 0., 0., 0., 0., 0., 0.,\n",
      "       0., 0., 0., 0., 0., 0., 0., 0., 0., 0., 0., 0., 0., 0., 0., 0., 0.,\n",
      "       0., 0., 0., 0., 0., 0., 0., 0., 0., 0., 0., 0.]), array([0., 0., 0., 0., 0., 0., 0., 0., 0., 0., 0., 0., 0., 0., 0., 0., 0.,\n",
      "       0., 0., 0., 0., 0., 0., 0., 0., 0., 0., 0., 0., 0., 0., 0., 0., 0.,\n",
      "       0., 0., 0., 0., 0., 0., 0., 0., 0., 0., 0., 0., 0., 0., 0., 0., 0.,\n",
      "       0., 0., 0., 0., 0., 0., 0., 0., 0., 0., 0., 0.]), array([0., 0., 0., 0., 0., 0., 0., 0., 0., 0., 0., 0., 0., 0., 0., 0., 0.,\n",
      "       0., 0., 0., 0., 0., 0., 0., 0., 0., 0., 0., 0., 0., 0., 0., 0., 0.,\n",
      "       0., 0., 0., 0., 0., 0., 0., 0., 0., 0., 0., 0., 0., 0., 0., 0., 0.,\n",
      "       0., 0., 0., 0., 0., 0., 0., 0., 0., 0., 0., 0.]), array([0., 0., 0., 0., 0., 0., 0., 0., 0., 0., 0., 0., 0., 0., 0., 0., 0.,\n",
      "       0., 0., 0., 0., 0., 0., 0., 0., 0., 0., 0., 0., 0., 0., 0., 0., 0.,\n",
      "       0., 0., 0., 0., 0., 0., 0., 0., 0., 0., 0., 0., 0., 0., 0., 0., 0.,\n",
      "       0., 0., 0., 0., 0., 0., 0., 0., 0., 0., 0., 0.]), array([0., 0., 0., 0., 0., 0., 0., 0., 0., 0., 0., 0., 0., 0., 0., 0., 0.,\n",
      "       0., 0., 0., 0., 0., 0., 0., 0., 0., 0., 0., 0., 0., 0., 0., 0., 0.,\n",
      "       0., 0., 0., 0., 0., 0., 0., 0., 0., 0., 0., 0., 0., 0., 0., 0., 0.,\n",
      "       0., 0., 0., 0., 0., 0., 0., 0., 0., 0., 0., 0.]), array([0., 0., 0., 0., 0., 0., 0., 0., 0., 0., 0., 0., 0., 0., 0., 0., 0.,\n",
      "       0., 0., 0., 0., 0., 0., 0., 0., 0., 0., 0., 0., 0., 0., 0., 0., 0.,\n",
      "       0., 0., 0., 0., 0., 0., 0., 0., 0., 0., 0., 0., 0., 0., 0., 0., 0.,\n",
      "       0., 0., 0., 0., 0., 0., 0., 0., 0., 0., 0., 0.]), array([0., 0., 0., 0., 0., 0., 0., 0., 0., 0., 0., 0., 0., 0., 0., 0., 0.,\n",
      "       0., 0., 0., 0., 0., 0., 0., 0., 0., 0., 0., 0., 0., 0., 0., 0., 0.,\n",
      "       0., 0., 0., 0., 0., 0., 0., 0., 0., 0., 0., 0., 0., 0., 0., 0., 0.,\n",
      "       0., 0., 0., 0., 0., 0., 0., 0., 0., 0., 0., 0.]), array([0., 0., 0., 0., 0., 0., 0., 0., 0., 0., 0., 0., 0., 0., 0., 0., 0.,\n",
      "       0., 0., 0., 0., 0., 0., 0., 0., 0., 0., 0., 0., 0., 0., 0., 0., 0.,\n",
      "       0., 0., 0., 0., 0., 0., 0., 0., 0., 0., 0., 0., 0., 0., 0., 0., 0.,\n",
      "       0., 0., 0., 0., 0., 0., 0., 0., 0., 0., 0., 0.])]\n"
     ]
    }
   ],
   "source": [
    "print(window)"
   ]
  },
  {
   "cell_type": "code",
   "execution_count": 15,
   "metadata": {
    "scrolled": true
   },
   "outputs": [
    {
     "data": {
      "text/plain": [
       "list"
      ]
     },
     "execution_count": 15,
     "metadata": {},
     "output_type": "execute_result"
    }
   ],
   "source": [
    "type(sequences_train)"
   ]
  },
  {
   "cell_type": "code",
   "execution_count": 16,
   "metadata": {},
   "outputs": [
    {
     "data": {
      "text/plain": [
       "(700, 30, 63)"
      ]
     },
     "execution_count": 16,
     "metadata": {},
     "output_type": "execute_result"
    }
   ],
   "source": [
    "np.array(sequences_train).shape\n"
   ]
  },
  {
   "cell_type": "code",
   "execution_count": 69,
   "metadata": {},
   "outputs": [
    {
     "data": {
      "text/plain": [
       "(700,)"
      ]
     },
     "execution_count": 69,
     "metadata": {},
     "output_type": "execute_result"
    }
   ],
   "source": [
    "np.array(labels_train).shape"
   ]
  },
  {
   "cell_type": "code",
   "execution_count": 17,
   "metadata": {},
   "outputs": [],
   "source": [
    "X = np.array(sequences_train)"
   ]
  },
  {
   "cell_type": "code",
   "execution_count": 18,
   "metadata": {},
   "outputs": [
    {
     "data": {
      "text/plain": [
       "(700, 30, 63)"
      ]
     },
     "execution_count": 18,
     "metadata": {},
     "output_type": "execute_result"
    }
   ],
   "source": [
    "X.shape"
   ]
  },
  {
   "cell_type": "code",
   "execution_count": 19,
   "metadata": {},
   "outputs": [],
   "source": [
    "y = to_categorical(labels_train).astype(int)"
   ]
  },
  {
   "cell_type": "code",
   "execution_count": 20,
   "metadata": {},
   "outputs": [
    {
     "data": {
      "text/plain": [
       "(700, 7)"
      ]
     },
     "execution_count": 20,
     "metadata": {},
     "output_type": "execute_result"
    }
   ],
   "source": [
    "y.shape"
   ]
  },
  {
   "cell_type": "code",
   "execution_count": 21,
   "metadata": {},
   "outputs": [],
   "source": [
    "X_train, X_val, y_train, y_val = train_test_split(X, y, test_size=0.15)"
   ]
  },
  {
   "cell_type": "code",
   "execution_count": 22,
   "metadata": {},
   "outputs": [
    {
     "data": {
      "text/plain": [
       "(595, 7)"
      ]
     },
     "execution_count": 22,
     "metadata": {},
     "output_type": "execute_result"
    }
   ],
   "source": [
    "y_train.shape"
   ]
  },
  {
   "cell_type": "code",
   "execution_count": 90,
   "metadata": {},
   "outputs": [
    {
     "data": {
      "text/plain": [
       "(560, 30, 63)"
      ]
     },
     "execution_count": 90,
     "metadata": {},
     "output_type": "execute_result"
    }
   ],
   "source": [
    "X_train.shape"
   ]
  },
  {
   "cell_type": "code",
   "execution_count": 91,
   "metadata": {},
   "outputs": [
    {
     "data": {
      "text/plain": [
       "(140, 30, 63)"
      ]
     },
     "execution_count": 91,
     "metadata": {},
     "output_type": "execute_result"
    }
   ],
   "source": [
    "X_val.shape"
   ]
  },
  {
   "cell_type": "code",
   "execution_count": 76,
   "metadata": {},
   "outputs": [
    {
     "data": {
      "text/plain": [
       "(560, 7)"
      ]
     },
     "execution_count": 76,
     "metadata": {},
     "output_type": "execute_result"
    }
   ],
   "source": [
    "y_train.shape"
   ]
  },
  {
   "cell_type": "code",
   "execution_count": 83,
   "metadata": {},
   "outputs": [
    {
     "data": {
      "text/plain": [
       "7"
      ]
     },
     "execution_count": 83,
     "metadata": {},
     "output_type": "execute_result"
    }
   ],
   "source": [
    "actions_train.shape[0]"
   ]
  },
  {
   "cell_type": "markdown",
   "metadata": {},
   "source": [
    "# 7. Build and Train LSTM Neural Network"
   ]
  },
  {
   "cell_type": "code",
   "execution_count": 8,
   "metadata": {},
   "outputs": [],
   "source": [
    "from tensorflow.keras.models import Sequential\n",
    "from tensorflow.keras.layers import LSTM, Dense\n",
    "from tensorflow.keras.callbacks import TensorBoard"
   ]
  },
  {
   "cell_type": "code",
   "execution_count": 9,
   "metadata": {},
   "outputs": [],
   "source": [
    "log_dir = os.path.join('Logs')\n",
    "tb_callback = TensorBoard(log_dir=log_dir)"
   ]
  },
  {
   "cell_type": "code",
   "execution_count": 10,
   "metadata": {},
   "outputs": [],
   "source": [
    "model = Sequential()\n",
    "model.add(LSTM(64, return_sequences=True, activation='relu', input_shape=(30,63)))\n",
    "model.add(LSTM(128, return_sequences=True, activation='relu'))\n",
    "model.add(LSTM(64, return_sequences=False, activation='relu'))\n",
    "model.add(Dense(64, activation='relu'))\n",
    "model.add(Dense(32, activation='relu'))\n",
    "model.add(Dense(actions_train.shape[0], activation='softmax'))"
   ]
  },
  {
   "cell_type": "code",
   "execution_count": 11,
   "metadata": {},
   "outputs": [],
   "source": [
    "model.compile(optimizer='Adam', loss=tf.keras.losses.MeanSquaredError(), metrics=['categorical_accuracy'])"
   ]
  },
  {
   "cell_type": "code",
   "execution_count": 97,
   "metadata": {
    "scrolled": true
   },
   "outputs": [
    {
     "name": "stdout",
     "output_type": "stream",
     "text": [
      "Epoch 1/310\n",
      "18/18 [==============================] - 3s 64ms/step - loss: 1.8962 - categorical_accuracy: 0.1602 - val_loss: 1.2925 - val_categorical_accuracy: 0.5643\n",
      "Epoch 2/310\n",
      "18/18 [==============================] - 1s 28ms/step - loss: 1.3792 - categorical_accuracy: 0.4891 - val_loss: 1.0706 - val_categorical_accuracy: 0.6929\n",
      "Epoch 3/310\n",
      "18/18 [==============================] - 1s 28ms/step - loss: 1.0985 - categorical_accuracy: 0.6367 - val_loss: 0.6081 - val_categorical_accuracy: 0.7714\n",
      "Epoch 4/310\n",
      "18/18 [==============================] - 1s 29ms/step - loss: 0.7240 - categorical_accuracy: 0.7307 - val_loss: 0.3814 - val_categorical_accuracy: 0.8786\n",
      "Epoch 5/310\n",
      "18/18 [==============================] - 1s 29ms/step - loss: 0.4700 - categorical_accuracy: 0.8445 - val_loss: 0.4963 - val_categorical_accuracy: 0.8571\n",
      "Epoch 6/310\n",
      "18/18 [==============================] - 1s 29ms/step - loss: 0.4710 - categorical_accuracy: 0.8505 - val_loss: 0.4264 - val_categorical_accuracy: 0.8857\n",
      "Epoch 7/310\n",
      "18/18 [==============================] - 1s 29ms/step - loss: 0.2855 - categorical_accuracy: 0.9078 - val_loss: 0.1285 - val_categorical_accuracy: 0.9857\n",
      "Epoch 8/310\n",
      "18/18 [==============================] - 1s 29ms/step - loss: 0.4642 - categorical_accuracy: 0.8947 - val_loss: 0.7759 - val_categorical_accuracy: 0.7714\n",
      "Epoch 9/310\n",
      "18/18 [==============================] - 1s 30ms/step - loss: 0.6755 - categorical_accuracy: 0.8539 - val_loss: 0.5768 - val_categorical_accuracy: 0.8071\n",
      "Epoch 10/310\n",
      "18/18 [==============================] - 1s 29ms/step - loss: 0.5511 - categorical_accuracy: 0.8384 - val_loss: 0.2795 - val_categorical_accuracy: 0.9214\n",
      "Epoch 11/310\n",
      "18/18 [==============================] - 1s 29ms/step - loss: 0.2472 - categorical_accuracy: 0.9292 - val_loss: 0.1039 - val_categorical_accuracy: 0.9714\n",
      "Epoch 12/310\n",
      "18/18 [==============================] - 1s 29ms/step - loss: 0.1715 - categorical_accuracy: 0.9496 - val_loss: 0.1895 - val_categorical_accuracy: 0.9571\n",
      "Epoch 13/310\n",
      "18/18 [==============================] - 1s 29ms/step - loss: 0.1381 - categorical_accuracy: 0.9565 - val_loss: 0.2760 - val_categorical_accuracy: 0.8643\n",
      "Epoch 14/310\n",
      "18/18 [==============================] - 1s 29ms/step - loss: 0.3853 - categorical_accuracy: 0.8936 - val_loss: 0.2304 - val_categorical_accuracy: 0.9000\n",
      "Epoch 15/310\n",
      "18/18 [==============================] - 1s 30ms/step - loss: 0.2416 - categorical_accuracy: 0.9124 - val_loss: 0.2336 - val_categorical_accuracy: 0.9643\n",
      "Epoch 16/310\n",
      "18/18 [==============================] - 1s 30ms/step - loss: 0.1136 - categorical_accuracy: 0.9773 - val_loss: 0.0698 - val_categorical_accuracy: 0.9786\n",
      "Epoch 17/310\n",
      "18/18 [==============================] - 1s 31ms/step - loss: 0.1328 - categorical_accuracy: 0.9745 - val_loss: 0.0421 - val_categorical_accuracy: 0.9929\n",
      "Epoch 18/310\n",
      "18/18 [==============================] - 1s 31ms/step - loss: 0.1439 - categorical_accuracy: 0.9682 - val_loss: 0.0978 - val_categorical_accuracy: 0.9857\n",
      "Epoch 19/310\n",
      "18/18 [==============================] - 1s 31ms/step - loss: 0.0969 - categorical_accuracy: 0.9781 - val_loss: 0.0388 - val_categorical_accuracy: 0.9929\n",
      "Epoch 20/310\n",
      "18/18 [==============================] - 1s 30ms/step - loss: 0.1025 - categorical_accuracy: 0.9689 - val_loss: 0.0333 - val_categorical_accuracy: 0.9929\n",
      "Epoch 21/310\n",
      "18/18 [==============================] - 1s 29ms/step - loss: 0.0908 - categorical_accuracy: 0.9670 - val_loss: 0.0284 - val_categorical_accuracy: 0.9929\n",
      "Epoch 22/310\n",
      "18/18 [==============================] - 1s 30ms/step - loss: 0.0371 - categorical_accuracy: 0.9844 - val_loss: 0.0200 - val_categorical_accuracy: 0.9929\n",
      "Epoch 23/310\n",
      "18/18 [==============================] - 1s 29ms/step - loss: 0.0562 - categorical_accuracy: 0.9840 - val_loss: 0.0277 - val_categorical_accuracy: 0.9929\n",
      "Epoch 24/310\n",
      "18/18 [==============================] - 1s 30ms/step - loss: 0.1015 - categorical_accuracy: 0.9665 - val_loss: 0.0303 - val_categorical_accuracy: 0.9929\n",
      "Epoch 25/310\n",
      "18/18 [==============================] - 1s 31ms/step - loss: 0.0529 - categorical_accuracy: 0.9850 - val_loss: 0.0370 - val_categorical_accuracy: 0.9929\n",
      "Epoch 26/310\n",
      "18/18 [==============================] - 1s 34ms/step - loss: 0.0574 - categorical_accuracy: 0.9822 - val_loss: 0.1843 - val_categorical_accuracy: 0.9500\n",
      "Epoch 27/310\n",
      "18/18 [==============================] - 1s 37ms/step - loss: 0.1985 - categorical_accuracy: 0.9377 - val_loss: 0.0700 - val_categorical_accuracy: 0.9929\n",
      "Epoch 28/310\n",
      "18/18 [==============================] - 1s 38ms/step - loss: 0.0582 - categorical_accuracy: 0.9888 - val_loss: 0.0274 - val_categorical_accuracy: 0.9929\n",
      "Epoch 29/310\n",
      "18/18 [==============================] - 1s 38ms/step - loss: 0.0420 - categorical_accuracy: 0.9775 - val_loss: 0.0990 - val_categorical_accuracy: 0.9857\n",
      "Epoch 30/310\n",
      "18/18 [==============================] - 1s 37ms/step - loss: 0.0469 - categorical_accuracy: 0.9859 - val_loss: 0.0816 - val_categorical_accuracy: 0.9571\n",
      "Epoch 31/310\n",
      "18/18 [==============================] - 1s 37ms/step - loss: 0.0608 - categorical_accuracy: 0.9878 - val_loss: 0.0101 - val_categorical_accuracy: 1.0000\n",
      "Epoch 32/310\n",
      "18/18 [==============================] - 1s 37ms/step - loss: 0.0150 - categorical_accuracy: 0.9939 - val_loss: 0.0288 - val_categorical_accuracy: 0.9929\n",
      "Epoch 33/310\n",
      "18/18 [==============================] - 1s 37ms/step - loss: 0.0386 - categorical_accuracy: 0.9806 - val_loss: 0.2596 - val_categorical_accuracy: 0.9000\n",
      "Epoch 34/310\n",
      "18/18 [==============================] - 1s 37ms/step - loss: 0.2383 - categorical_accuracy: 0.9242 - val_loss: 0.0654 - val_categorical_accuracy: 0.9929\n",
      "Epoch 35/310\n",
      "18/18 [==============================] - 1s 38ms/step - loss: 0.5650 - categorical_accuracy: 0.8155 - val_loss: 0.2489 - val_categorical_accuracy: 0.9286\n",
      "Epoch 36/310\n",
      "18/18 [==============================] - 1s 37ms/step - loss: 0.2011 - categorical_accuracy: 0.9435 - val_loss: 0.0496 - val_categorical_accuracy: 0.9857\n",
      "Epoch 37/310\n",
      "18/18 [==============================] - 1s 37ms/step - loss: 0.1033 - categorical_accuracy: 0.9584 - val_loss: 0.0320 - val_categorical_accuracy: 0.9929\n",
      "Epoch 38/310\n",
      "18/18 [==============================] - 1s 37ms/step - loss: 0.0896 - categorical_accuracy: 0.9856 - val_loss: 0.1485 - val_categorical_accuracy: 0.9214\n",
      "Epoch 39/310\n",
      "18/18 [==============================] - 1s 37ms/step - loss: 0.1456 - categorical_accuracy: 0.9583 - val_loss: 0.0305 - val_categorical_accuracy: 0.9929\n",
      "Epoch 40/310\n",
      "18/18 [==============================] - 1s 37ms/step - loss: 0.0823 - categorical_accuracy: 0.9725 - val_loss: 0.1284 - val_categorical_accuracy: 0.9500\n",
      "Epoch 41/310\n",
      "18/18 [==============================] - 1s 37ms/step - loss: 0.2007 - categorical_accuracy: 0.9332 - val_loss: 0.0837 - val_categorical_accuracy: 0.9643\n",
      "Epoch 42/310\n",
      "18/18 [==============================] - 1s 37ms/step - loss: 0.0981 - categorical_accuracy: 0.9722 - val_loss: 0.0234 - val_categorical_accuracy: 0.9929\n",
      "Epoch 43/310\n",
      "18/18 [==============================] - 1s 37ms/step - loss: 0.0340 - categorical_accuracy: 0.9933 - val_loss: 0.0180 - val_categorical_accuracy: 0.9929\n",
      "Epoch 44/310\n",
      "18/18 [==============================] - 1s 37ms/step - loss: 0.0224 - categorical_accuracy: 0.9961 - val_loss: 0.0140 - val_categorical_accuracy: 1.0000\n",
      "Epoch 45/310\n",
      "18/18 [==============================] - 1s 37ms/step - loss: 0.0601 - categorical_accuracy: 0.9763 - val_loss: 0.0139 - val_categorical_accuracy: 0.9929\n",
      "Epoch 46/310\n",
      "18/18 [==============================] - 1s 37ms/step - loss: 0.0327 - categorical_accuracy: 0.9886 - val_loss: 0.0166 - val_categorical_accuracy: 0.9929\n",
      "Epoch 47/310\n",
      "18/18 [==============================] - 1s 37ms/step - loss: 0.0227 - categorical_accuracy: 0.9926 - val_loss: 0.0091 - val_categorical_accuracy: 0.9929\n",
      "Epoch 48/310\n",
      "18/18 [==============================] - 1s 37ms/step - loss: 0.0159 - categorical_accuracy: 0.9951 - val_loss: 0.0054 - val_categorical_accuracy: 1.0000\n",
      "Epoch 49/310\n",
      "18/18 [==============================] - 1s 37ms/step - loss: 0.0125 - categorical_accuracy: 0.9972 - val_loss: 0.0027 - val_categorical_accuracy: 1.0000\n",
      "Epoch 50/310\n",
      "18/18 [==============================] - 1s 36ms/step - loss: 0.0041 - categorical_accuracy: 1.0000 - val_loss: 0.0035 - val_categorical_accuracy: 1.0000\n",
      "Epoch 51/310\n",
      "18/18 [==============================] - 1s 36ms/step - loss: 0.0123 - categorical_accuracy: 0.9965 - val_loss: 0.0022 - val_categorical_accuracy: 1.0000\n",
      "Epoch 52/310\n",
      "18/18 [==============================] - 1s 36ms/step - loss: 0.0153 - categorical_accuracy: 0.9939 - val_loss: 0.0144 - val_categorical_accuracy: 0.9929\n",
      "Epoch 53/310\n",
      "18/18 [==============================] - 1s 36ms/step - loss: 0.0096 - categorical_accuracy: 0.9967 - val_loss: 0.0023 - val_categorical_accuracy: 1.0000\n",
      "Epoch 54/310\n",
      "18/18 [==============================] - 1s 36ms/step - loss: 0.0042 - categorical_accuracy: 1.0000 - val_loss: 0.0038 - val_categorical_accuracy: 1.0000\n",
      "Epoch 55/310\n",
      "18/18 [==============================] - 1s 38ms/step - loss: 0.0032 - categorical_accuracy: 1.0000 - val_loss: 0.0019 - val_categorical_accuracy: 1.0000\n",
      "Epoch 56/310\n",
      "18/18 [==============================] - 1s 37ms/step - loss: 0.0019 - categorical_accuracy: 1.0000 - val_loss: 0.0020 - val_categorical_accuracy: 1.0000\n",
      "Epoch 57/310\n",
      "18/18 [==============================] - 1s 36ms/step - loss: 0.0012 - categorical_accuracy: 1.0000 - val_loss: 0.0025 - val_categorical_accuracy: 1.0000\n",
      "Epoch 58/310\n",
      "18/18 [==============================] - 1s 36ms/step - loss: 0.0013 - categorical_accuracy: 1.0000 - val_loss: 0.0014 - val_categorical_accuracy: 1.0000\n",
      "Epoch 59/310\n",
      "18/18 [==============================] - 1s 37ms/step - loss: 0.0012 - categorical_accuracy: 1.0000 - val_loss: 0.0017 - val_categorical_accuracy: 1.0000\n",
      "Epoch 60/310\n",
      "18/18 [==============================] - 1s 36ms/step - loss: 0.0011 - categorical_accuracy: 1.0000 - val_loss: 0.0012 - val_categorical_accuracy: 1.0000\n",
      "Epoch 61/310\n",
      "18/18 [==============================] - 1s 36ms/step - loss: 6.7616e-04 - categorical_accuracy: 1.0000 - val_loss: 0.0017 - val_categorical_accuracy: 1.0000\n",
      "Epoch 62/310\n",
      "18/18 [==============================] - 1s 36ms/step - loss: 3.9281e-04 - categorical_accuracy: 1.0000 - val_loss: 0.0013 - val_categorical_accuracy: 1.0000\n",
      "Epoch 63/310\n",
      "18/18 [==============================] - 1s 36ms/step - loss: 3.3889e-04 - categorical_accuracy: 1.0000 - val_loss: 0.0016 - val_categorical_accuracy: 1.0000\n",
      "Epoch 64/310\n",
      "18/18 [==============================] - 1s 36ms/step - loss: 2.9556e-04 - categorical_accuracy: 1.0000 - val_loss: 0.0016 - val_categorical_accuracy: 1.0000\n",
      "Epoch 65/310\n",
      "18/18 [==============================] - 1s 37ms/step - loss: 3.4789e-04 - categorical_accuracy: 1.0000 - val_loss: 0.0013 - val_categorical_accuracy: 1.0000\n",
      "Epoch 66/310\n",
      "18/18 [==============================] - 1s 48ms/step - loss: 2.5560e-04 - categorical_accuracy: 1.0000 - val_loss: 0.0013 - val_categorical_accuracy: 1.0000\n",
      "Epoch 67/310\n",
      "18/18 [==============================] - 1s 42ms/step - loss: 2.3718e-04 - categorical_accuracy: 1.0000 - val_loss: 0.0012 - val_categorical_accuracy: 1.0000\n",
      "Epoch 68/310\n",
      "18/18 [==============================] - 1s 36ms/step - loss: 1.9727e-04 - categorical_accuracy: 1.0000 - val_loss: 0.0015 - val_categorical_accuracy: 1.0000\n",
      "Epoch 69/310\n",
      "18/18 [==============================] - 1s 36ms/step - loss: 2.0323e-04 - categorical_accuracy: 1.0000 - val_loss: 0.0012 - val_categorical_accuracy: 1.0000\n",
      "Epoch 70/310\n",
      "18/18 [==============================] - 1s 36ms/step - loss: 1.3188e-04 - categorical_accuracy: 1.0000 - val_loss: 0.0011 - val_categorical_accuracy: 1.0000\n",
      "Epoch 71/310\n",
      "18/18 [==============================] - 1s 36ms/step - loss: 1.6210e-04 - categorical_accuracy: 1.0000 - val_loss: 0.0013 - val_categorical_accuracy: 1.0000\n",
      "Epoch 72/310\n",
      "18/18 [==============================] - 1s 36ms/step - loss: 1.4530e-04 - categorical_accuracy: 1.0000 - val_loss: 0.0013 - val_categorical_accuracy: 1.0000\n",
      "Epoch 73/310\n",
      "18/18 [==============================] - 1s 36ms/step - loss: 2.2678e-04 - categorical_accuracy: 1.0000 - val_loss: 0.0012 - val_categorical_accuracy: 1.0000\n",
      "Epoch 74/310\n",
      "18/18 [==============================] - 1s 36ms/step - loss: 1.4792e-04 - categorical_accuracy: 1.0000 - val_loss: 0.0012 - val_categorical_accuracy: 1.0000\n",
      "Epoch 75/310\n",
      "18/18 [==============================] - 1s 36ms/step - loss: 0.0132 - categorical_accuracy: 0.9988 - val_loss: 0.0163 - val_categorical_accuracy: 1.0000\n",
      "Epoch 76/310\n",
      "18/18 [==============================] - 1s 36ms/step - loss: 0.3578 - categorical_accuracy: 0.9183 - val_loss: 3.0789 - val_categorical_accuracy: 0.2500\n",
      "Epoch 77/310\n",
      "18/18 [==============================] - 1s 36ms/step - loss: 6.4739 - categorical_accuracy: 0.3321 - val_loss: 1.5577 - val_categorical_accuracy: 0.4214\n",
      "Epoch 78/310\n",
      "18/18 [==============================] - 1s 36ms/step - loss: 1.7068 - categorical_accuracy: 0.4060 - val_loss: 1.4565 - val_categorical_accuracy: 0.4357\n",
      "Epoch 79/310\n",
      "18/18 [==============================] - 1s 35ms/step - loss: 1.4610 - categorical_accuracy: 0.4192 - val_loss: 1.4036 - val_categorical_accuracy: 0.3571\n",
      "Epoch 80/310\n",
      "18/18 [==============================] - 1s 36ms/step - loss: 1.3081 - categorical_accuracy: 0.5059 - val_loss: 0.6878 - val_categorical_accuracy: 0.7714\n",
      "Epoch 81/310\n",
      "18/18 [==============================] - 1s 36ms/step - loss: 0.6635 - categorical_accuracy: 0.7614 - val_loss: 0.1950 - val_categorical_accuracy: 0.9643\n",
      "Epoch 82/310\n",
      "18/18 [==============================] - 1s 36ms/step - loss: 0.2524 - categorical_accuracy: 0.9407 - val_loss: 0.1134 - val_categorical_accuracy: 0.9714\n",
      "Epoch 83/310\n",
      "18/18 [==============================] - 1s 36ms/step - loss: 0.2084 - categorical_accuracy: 0.9362 - val_loss: 0.1655 - val_categorical_accuracy: 0.9357\n",
      "Epoch 84/310\n",
      "18/18 [==============================] - 1s 36ms/step - loss: 0.1372 - categorical_accuracy: 0.9614 - val_loss: 0.0546 - val_categorical_accuracy: 0.9857\n",
      "Epoch 85/310\n",
      "18/18 [==============================] - 1s 36ms/step - loss: 0.5187 - categorical_accuracy: 0.9750 - val_loss: 0.0897 - val_categorical_accuracy: 0.9786\n",
      "Epoch 86/310\n",
      "18/18 [==============================] - 1s 36ms/step - loss: 0.3090 - categorical_accuracy: 0.8905 - val_loss: 0.5046 - val_categorical_accuracy: 0.7357\n",
      "Epoch 87/310\n",
      "18/18 [==============================] - 1s 36ms/step - loss: 0.5460 - categorical_accuracy: 0.7346 - val_loss: 0.2508 - val_categorical_accuracy: 0.9214\n",
      "Epoch 88/310\n",
      "18/18 [==============================] - 1s 36ms/step - loss: 0.3369 - categorical_accuracy: 0.9096 - val_loss: 0.1249 - val_categorical_accuracy: 0.9714\n",
      "Epoch 89/310\n",
      "18/18 [==============================] - 1s 36ms/step - loss: 0.1177 - categorical_accuracy: 0.9793 - val_loss: 0.1496 - val_categorical_accuracy: 0.9429\n",
      "Epoch 90/310\n",
      "18/18 [==============================] - 1s 36ms/step - loss: 0.1658 - categorical_accuracy: 0.9504 - val_loss: 0.0686 - val_categorical_accuracy: 0.9786\n",
      "Epoch 91/310\n",
      "18/18 [==============================] - 1s 37ms/step - loss: 0.1047 - categorical_accuracy: 0.9742 - val_loss: 0.0988 - val_categorical_accuracy: 0.9571\n",
      "Epoch 92/310\n",
      "18/18 [==============================] - 1s 36ms/step - loss: 0.1380 - categorical_accuracy: 0.9578 - val_loss: 0.2426 - val_categorical_accuracy: 0.9429\n",
      "Epoch 93/310\n",
      "18/18 [==============================] - 1s 36ms/step - loss: 0.1387 - categorical_accuracy: 0.9553 - val_loss: 0.0899 - val_categorical_accuracy: 0.9643\n",
      "Epoch 94/310\n",
      "18/18 [==============================] - 1s 36ms/step - loss: 0.0899 - categorical_accuracy: 0.9761 - val_loss: 0.0318 - val_categorical_accuracy: 0.9929\n",
      "Epoch 95/310\n",
      "18/18 [==============================] - 1s 36ms/step - loss: 0.0502 - categorical_accuracy: 0.9841 - val_loss: 0.0615 - val_categorical_accuracy: 0.9786\n",
      "Epoch 96/310\n",
      "18/18 [==============================] - 1s 36ms/step - loss: 0.0211 - categorical_accuracy: 0.9946 - val_loss: 0.1141 - val_categorical_accuracy: 0.9643\n",
      "Epoch 97/310\n",
      "18/18 [==============================] - 1s 37ms/step - loss: 0.0669 - categorical_accuracy: 0.9818 - val_loss: 0.1961 - val_categorical_accuracy: 0.9500\n",
      "Epoch 98/310\n",
      "18/18 [==============================] - 1s 36ms/step - loss: 0.0708 - categorical_accuracy: 0.9750 - val_loss: 0.0974 - val_categorical_accuracy: 0.9786\n"
     ]
    },
    {
     "name": "stdout",
     "output_type": "stream",
     "text": [
      "Epoch 99/310\n",
      "18/18 [==============================] - 1s 35ms/step - loss: 0.0996 - categorical_accuracy: 0.9745 - val_loss: 0.0310 - val_categorical_accuracy: 1.0000\n",
      "Epoch 100/310\n",
      "18/18 [==============================] - 1s 36ms/step - loss: 0.0324 - categorical_accuracy: 0.9945 - val_loss: 0.0331 - val_categorical_accuracy: 0.9857\n",
      "Epoch 101/310\n",
      "18/18 [==============================] - 1s 36ms/step - loss: 0.0229 - categorical_accuracy: 0.9968 - val_loss: 0.0223 - val_categorical_accuracy: 0.9857\n",
      "Epoch 102/310\n",
      "18/18 [==============================] - 1s 36ms/step - loss: 0.0259 - categorical_accuracy: 0.9917 - val_loss: 0.0506 - val_categorical_accuracy: 0.9857\n",
      "Epoch 103/310\n",
      "18/18 [==============================] - 1s 36ms/step - loss: 0.0628 - categorical_accuracy: 0.9834 - val_loss: 0.0193 - val_categorical_accuracy: 0.9857\n",
      "Epoch 104/310\n",
      "18/18 [==============================] - 1s 36ms/step - loss: 0.0328 - categorical_accuracy: 0.9919 - val_loss: 0.0154 - val_categorical_accuracy: 0.9929\n",
      "Epoch 105/310\n",
      "18/18 [==============================] - 1s 36ms/step - loss: 0.0155 - categorical_accuracy: 0.9995 - val_loss: 0.0108 - val_categorical_accuracy: 1.0000\n",
      "Epoch 106/310\n",
      "18/18 [==============================] - 1s 36ms/step - loss: 0.0120 - categorical_accuracy: 0.9993 - val_loss: 0.0120 - val_categorical_accuracy: 1.0000\n",
      "Epoch 107/310\n",
      "18/18 [==============================] - 1s 36ms/step - loss: 0.0167 - categorical_accuracy: 0.9982 - val_loss: 0.0134 - val_categorical_accuracy: 0.9929\n",
      "Epoch 108/310\n",
      "18/18 [==============================] - 1s 36ms/step - loss: 0.0067 - categorical_accuracy: 0.9998 - val_loss: 0.0113 - val_categorical_accuracy: 1.0000\n",
      "Epoch 109/310\n",
      "18/18 [==============================] - 1s 36ms/step - loss: 0.0139 - categorical_accuracy: 0.9979 - val_loss: 0.0233 - val_categorical_accuracy: 0.9857\n",
      "Epoch 110/310\n",
      "18/18 [==============================] - 1s 36ms/step - loss: 0.0079 - categorical_accuracy: 0.9995 - val_loss: 0.0118 - val_categorical_accuracy: 0.9929\n",
      "Epoch 111/310\n",
      "18/18 [==============================] - 1s 36ms/step - loss: 0.0089 - categorical_accuracy: 0.9984 - val_loss: 0.0111 - val_categorical_accuracy: 1.0000\n",
      "Epoch 112/310\n",
      "18/18 [==============================] - 1s 36ms/step - loss: 0.0112 - categorical_accuracy: 0.9976 - val_loss: 0.0133 - val_categorical_accuracy: 0.9857\n",
      "Epoch 113/310\n",
      "18/18 [==============================] - 1s 36ms/step - loss: 0.0041 - categorical_accuracy: 0.9993 - val_loss: 0.0079 - val_categorical_accuracy: 1.0000\n",
      "Epoch 114/310\n",
      "18/18 [==============================] - 1s 36ms/step - loss: 0.0085 - categorical_accuracy: 0.9986 - val_loss: 0.0151 - val_categorical_accuracy: 0.9929\n",
      "Epoch 115/310\n",
      "18/18 [==============================] - 1s 36ms/step - loss: 0.0049 - categorical_accuracy: 0.9986 - val_loss: 0.0092 - val_categorical_accuracy: 1.0000\n",
      "Epoch 116/310\n",
      "18/18 [==============================] - 1s 36ms/step - loss: 0.0028 - categorical_accuracy: 1.0000 - val_loss: 0.0082 - val_categorical_accuracy: 1.0000\n",
      "Epoch 117/310\n",
      "18/18 [==============================] - 1s 36ms/step - loss: 0.0050 - categorical_accuracy: 0.9997 - val_loss: 0.0292 - val_categorical_accuracy: 0.9857\n",
      "Epoch 118/310\n",
      "18/18 [==============================] - 1s 36ms/step - loss: 0.0651 - categorical_accuracy: 0.9760 - val_loss: 0.0609 - val_categorical_accuracy: 0.9714\n",
      "Epoch 119/310\n",
      "18/18 [==============================] - 1s 36ms/step - loss: 0.0704 - categorical_accuracy: 0.9819 - val_loss: 0.0298 - val_categorical_accuracy: 0.9929\n",
      "Epoch 120/310\n",
      "18/18 [==============================] - 1s 36ms/step - loss: 0.0280 - categorical_accuracy: 0.9906 - val_loss: 0.0188 - val_categorical_accuracy: 0.9857\n",
      "Epoch 121/310\n",
      "18/18 [==============================] - 1s 36ms/step - loss: 0.0080 - categorical_accuracy: 1.0000 - val_loss: 0.0142 - val_categorical_accuracy: 0.9929\n",
      "Epoch 122/310\n",
      "18/18 [==============================] - 1s 36ms/step - loss: 0.0037 - categorical_accuracy: 1.0000 - val_loss: 0.0134 - val_categorical_accuracy: 0.9929\n",
      "Epoch 123/310\n",
      "18/18 [==============================] - 1s 36ms/step - loss: 0.0023 - categorical_accuracy: 1.0000 - val_loss: 0.0088 - val_categorical_accuracy: 1.0000\n",
      "Epoch 124/310\n",
      "18/18 [==============================] - 1s 36ms/step - loss: 0.0018 - categorical_accuracy: 1.0000 - val_loss: 0.0132 - val_categorical_accuracy: 0.9929\n",
      "Epoch 125/310\n",
      "18/18 [==============================] - 1s 36ms/step - loss: 0.0017 - categorical_accuracy: 1.0000 - val_loss: 0.0122 - val_categorical_accuracy: 0.9929\n",
      "Epoch 126/310\n",
      "18/18 [==============================] - 1s 36ms/step - loss: 0.0016 - categorical_accuracy: 1.0000 - val_loss: 0.0128 - val_categorical_accuracy: 0.9929\n",
      "Epoch 127/310\n",
      "18/18 [==============================] - 1s 36ms/step - loss: 0.0012 - categorical_accuracy: 1.0000 - val_loss: 0.0131 - val_categorical_accuracy: 0.9929\n",
      "Epoch 128/310\n",
      "18/18 [==============================] - 1s 36ms/step - loss: 0.0010 - categorical_accuracy: 1.0000 - val_loss: 0.0119 - val_categorical_accuracy: 0.9929\n",
      "Epoch 129/310\n",
      "18/18 [==============================] - 1s 36ms/step - loss: 9.6392e-04 - categorical_accuracy: 1.0000 - val_loss: 0.0124 - val_categorical_accuracy: 0.9929\n",
      "Epoch 130/310\n",
      "18/18 [==============================] - 1s 36ms/step - loss: 9.6183e-04 - categorical_accuracy: 1.0000 - val_loss: 0.0118 - val_categorical_accuracy: 0.9929\n",
      "Epoch 131/310\n",
      "18/18 [==============================] - 1s 36ms/step - loss: 5.8254e-04 - categorical_accuracy: 1.0000 - val_loss: 0.0109 - val_categorical_accuracy: 0.9929\n",
      "Epoch 132/310\n",
      "18/18 [==============================] - 1s 36ms/step - loss: 6.6158e-04 - categorical_accuracy: 1.0000 - val_loss: 0.0130 - val_categorical_accuracy: 0.9929\n",
      "Epoch 133/310\n",
      "18/18 [==============================] - 1s 36ms/step - loss: 5.7780e-04 - categorical_accuracy: 1.0000 - val_loss: 0.0121 - val_categorical_accuracy: 0.9929\n",
      "Epoch 134/310\n",
      "18/18 [==============================] - 1s 36ms/step - loss: 7.1917e-04 - categorical_accuracy: 1.0000 - val_loss: 0.0112 - val_categorical_accuracy: 0.9929\n",
      "Epoch 135/310\n",
      "18/18 [==============================] - 1s 36ms/step - loss: 4.7193e-04 - categorical_accuracy: 1.0000 - val_loss: 0.0110 - val_categorical_accuracy: 0.9929\n",
      "Epoch 136/310\n",
      "18/18 [==============================] - 1s 36ms/step - loss: 4.2931e-04 - categorical_accuracy: 1.0000 - val_loss: 0.0124 - val_categorical_accuracy: 0.9929\n",
      "Epoch 137/310\n",
      "18/18 [==============================] - 1s 36ms/step - loss: 4.4366e-04 - categorical_accuracy: 1.0000 - val_loss: 0.0118 - val_categorical_accuracy: 0.9929\n",
      "Epoch 138/310\n",
      "18/18 [==============================] - 1s 37ms/step - loss: 3.7225e-04 - categorical_accuracy: 1.0000 - val_loss: 0.0121 - val_categorical_accuracy: 0.9929\n",
      "Epoch 139/310\n",
      "18/18 [==============================] - 1s 36ms/step - loss: 4.8664e-04 - categorical_accuracy: 1.0000 - val_loss: 0.0117 - val_categorical_accuracy: 0.9929\n",
      "Epoch 140/310\n",
      "18/18 [==============================] - 1s 36ms/step - loss: 5.5238e-04 - categorical_accuracy: 1.0000 - val_loss: 0.0124 - val_categorical_accuracy: 0.9929\n",
      "Epoch 141/310\n",
      "18/18 [==============================] - 1s 36ms/step - loss: 3.5181e-04 - categorical_accuracy: 1.0000 - val_loss: 0.0114 - val_categorical_accuracy: 0.9929\n",
      "Epoch 142/310\n",
      "18/18 [==============================] - 1s 36ms/step - loss: 3.6425e-04 - categorical_accuracy: 1.0000 - val_loss: 0.0131 - val_categorical_accuracy: 0.9929\n",
      "Epoch 143/310\n",
      "18/18 [==============================] - 1s 36ms/step - loss: 3.4321e-04 - categorical_accuracy: 1.0000 - val_loss: 0.0111 - val_categorical_accuracy: 0.9929\n",
      "Epoch 144/310\n",
      "18/18 [==============================] - 1s 36ms/step - loss: 3.1919e-04 - categorical_accuracy: 1.0000 - val_loss: 0.0123 - val_categorical_accuracy: 0.9929\n",
      "Epoch 145/310\n",
      "18/18 [==============================] - 1s 36ms/step - loss: 2.4028e-04 - categorical_accuracy: 1.0000 - val_loss: 0.0120 - val_categorical_accuracy: 0.9929\n",
      "Epoch 146/310\n",
      "18/18 [==============================] - 1s 36ms/step - loss: 3.8263e-04 - categorical_accuracy: 1.0000 - val_loss: 0.0120 - val_categorical_accuracy: 0.9929\n",
      "Epoch 147/310\n",
      "18/18 [==============================] - 1s 36ms/step - loss: 2.3331e-04 - categorical_accuracy: 1.0000 - val_loss: 0.0118 - val_categorical_accuracy: 0.9929\n",
      "Epoch 148/310\n",
      "18/18 [==============================] - 1s 36ms/step - loss: 2.4478e-04 - categorical_accuracy: 1.0000 - val_loss: 0.0120 - val_categorical_accuracy: 0.9929\n",
      "Epoch 149/310\n",
      "18/18 [==============================] - 1s 36ms/step - loss: 2.1483e-04 - categorical_accuracy: 1.0000 - val_loss: 0.0116 - val_categorical_accuracy: 0.9929\n",
      "Epoch 150/310\n",
      "18/18 [==============================] - 1s 36ms/step - loss: 2.8221e-04 - categorical_accuracy: 1.0000 - val_loss: 0.0120 - val_categorical_accuracy: 0.9929\n",
      "Epoch 151/310\n",
      "18/18 [==============================] - 1s 36ms/step - loss: 2.0872e-04 - categorical_accuracy: 1.0000 - val_loss: 0.0124 - val_categorical_accuracy: 0.9929\n",
      "Epoch 152/310\n",
      "18/18 [==============================] - 1s 36ms/step - loss: 1.9182e-04 - categorical_accuracy: 1.0000 - val_loss: 0.0125 - val_categorical_accuracy: 0.9929\n",
      "Epoch 153/310\n",
      "18/18 [==============================] - 1s 36ms/step - loss: 1.9557e-04 - categorical_accuracy: 1.0000 - val_loss: 0.0132 - val_categorical_accuracy: 0.9929\n",
      "Epoch 154/310\n",
      "18/18 [==============================] - 1s 36ms/step - loss: 2.2813e-04 - categorical_accuracy: 1.0000 - val_loss: 0.0124 - val_categorical_accuracy: 0.9929\n",
      "Epoch 155/310\n",
      "18/18 [==============================] - 1s 36ms/step - loss: 2.3720e-04 - categorical_accuracy: 1.0000 - val_loss: 0.0126 - val_categorical_accuracy: 0.9929\n",
      "Epoch 156/310\n",
      "18/18 [==============================] - 1s 36ms/step - loss: 1.6316e-04 - categorical_accuracy: 1.0000 - val_loss: 0.0118 - val_categorical_accuracy: 0.9929\n",
      "Epoch 157/310\n",
      "18/18 [==============================] - 1s 36ms/step - loss: 1.9516e-04 - categorical_accuracy: 1.0000 - val_loss: 0.0121 - val_categorical_accuracy: 0.9929\n",
      "Epoch 158/310\n",
      "18/18 [==============================] - 1s 36ms/step - loss: 1.9768e-04 - categorical_accuracy: 1.0000 - val_loss: 0.0123 - val_categorical_accuracy: 0.9929\n",
      "Epoch 159/310\n",
      "18/18 [==============================] - 1s 36ms/step - loss: 1.6876e-04 - categorical_accuracy: 1.0000 - val_loss: 0.0120 - val_categorical_accuracy: 0.9929\n",
      "Epoch 160/310\n",
      "18/18 [==============================] - 1s 36ms/step - loss: 1.5650e-04 - categorical_accuracy: 1.0000 - val_loss: 0.0120 - val_categorical_accuracy: 0.9929\n",
      "Epoch 161/310\n",
      "18/18 [==============================] - 1s 36ms/step - loss: 1.5177e-04 - categorical_accuracy: 1.0000 - val_loss: 0.0116 - val_categorical_accuracy: 0.9929\n",
      "Epoch 162/310\n",
      "18/18 [==============================] - 1s 36ms/step - loss: 1.5083e-04 - categorical_accuracy: 1.0000 - val_loss: 0.0123 - val_categorical_accuracy: 0.9929\n",
      "Epoch 163/310\n",
      "18/18 [==============================] - 1s 36ms/step - loss: 1.6606e-04 - categorical_accuracy: 1.0000 - val_loss: 0.0121 - val_categorical_accuracy: 0.9929\n",
      "Epoch 164/310\n",
      "18/18 [==============================] - 1s 40ms/step - loss: 1.0640e-04 - categorical_accuracy: 1.0000 - val_loss: 0.0122 - val_categorical_accuracy: 0.9929\n",
      "Epoch 165/310\n",
      "18/18 [==============================] - 1s 37ms/step - loss: 1.2209e-04 - categorical_accuracy: 1.0000 - val_loss: 0.0121 - val_categorical_accuracy: 0.9929\n",
      "Epoch 166/310\n",
      "18/18 [==============================] - 1s 36ms/step - loss: 1.6769e-04 - categorical_accuracy: 1.0000 - val_loss: 0.0131 - val_categorical_accuracy: 0.9929\n",
      "Epoch 167/310\n",
      "18/18 [==============================] - 1s 36ms/step - loss: 1.0997e-04 - categorical_accuracy: 1.0000 - val_loss: 0.0117 - val_categorical_accuracy: 0.9929\n",
      "Epoch 168/310\n",
      "18/18 [==============================] - 1s 36ms/step - loss: 1.1096e-04 - categorical_accuracy: 1.0000 - val_loss: 0.0121 - val_categorical_accuracy: 0.9929\n",
      "Epoch 169/310\n",
      "18/18 [==============================] - 1s 36ms/step - loss: 1.1249e-04 - categorical_accuracy: 1.0000 - val_loss: 0.0112 - val_categorical_accuracy: 0.9929\n",
      "Epoch 170/310\n",
      "18/18 [==============================] - 1s 36ms/step - loss: 1.1937e-04 - categorical_accuracy: 1.0000 - val_loss: 0.0110 - val_categorical_accuracy: 0.9929\n",
      "Epoch 171/310\n",
      "18/18 [==============================] - 1s 36ms/step - loss: 1.0786e-04 - categorical_accuracy: 1.0000 - val_loss: 0.0125 - val_categorical_accuracy: 0.9929\n",
      "Epoch 172/310\n",
      "18/18 [==============================] - 1s 36ms/step - loss: 9.7422e-05 - categorical_accuracy: 1.0000 - val_loss: 0.0120 - val_categorical_accuracy: 0.9929\n",
      "Epoch 173/310\n",
      "18/18 [==============================] - 1s 36ms/step - loss: 1.3831e-04 - categorical_accuracy: 1.0000 - val_loss: 0.0122 - val_categorical_accuracy: 0.9929\n",
      "Epoch 174/310\n",
      "18/18 [==============================] - 1s 36ms/step - loss: 1.2291e-04 - categorical_accuracy: 1.0000 - val_loss: 0.0131 - val_categorical_accuracy: 0.9929\n",
      "Epoch 175/310\n",
      "18/18 [==============================] - 1s 36ms/step - loss: 1.0053e-04 - categorical_accuracy: 1.0000 - val_loss: 0.0126 - val_categorical_accuracy: 0.9929\n",
      "Epoch 176/310\n",
      "18/18 [==============================] - 1s 36ms/step - loss: 9.7373e-05 - categorical_accuracy: 1.0000 - val_loss: 0.0121 - val_categorical_accuracy: 0.9929\n",
      "Epoch 177/310\n",
      "18/18 [==============================] - 1s 37ms/step - loss: 7.8645e-05 - categorical_accuracy: 1.0000 - val_loss: 0.0125 - val_categorical_accuracy: 0.9929\n",
      "Epoch 178/310\n",
      "18/18 [==============================] - 1s 36ms/step - loss: 9.0045e-05 - categorical_accuracy: 1.0000 - val_loss: 0.0124 - val_categorical_accuracy: 0.9929\n",
      "Epoch 179/310\n",
      "18/18 [==============================] - 1s 36ms/step - loss: 6.8031e-05 - categorical_accuracy: 1.0000 - val_loss: 0.0124 - val_categorical_accuracy: 0.9929\n",
      "Epoch 180/310\n",
      "18/18 [==============================] - 1s 36ms/step - loss: 7.7040e-05 - categorical_accuracy: 1.0000 - val_loss: 0.0126 - val_categorical_accuracy: 0.9929\n",
      "Epoch 181/310\n",
      "18/18 [==============================] - 1s 36ms/step - loss: 9.1560e-05 - categorical_accuracy: 1.0000 - val_loss: 0.0122 - val_categorical_accuracy: 0.9929\n",
      "Epoch 182/310\n",
      "18/18 [==============================] - 1s 36ms/step - loss: 7.4309e-05 - categorical_accuracy: 1.0000 - val_loss: 0.0124 - val_categorical_accuracy: 0.9929\n",
      "Epoch 183/310\n",
      "18/18 [==============================] - 1s 36ms/step - loss: 7.1190e-05 - categorical_accuracy: 1.0000 - val_loss: 0.0127 - val_categorical_accuracy: 0.9929\n",
      "Epoch 184/310\n",
      "18/18 [==============================] - 1s 36ms/step - loss: 7.4339e-05 - categorical_accuracy: 1.0000 - val_loss: 0.0127 - val_categorical_accuracy: 0.9929\n",
      "Epoch 185/310\n",
      "18/18 [==============================] - 1s 36ms/step - loss: 6.0252e-05 - categorical_accuracy: 1.0000 - val_loss: 0.0123 - val_categorical_accuracy: 0.9929\n",
      "Epoch 186/310\n",
      "18/18 [==============================] - 1s 36ms/step - loss: 7.7772e-05 - categorical_accuracy: 1.0000 - val_loss: 0.0128 - val_categorical_accuracy: 0.9929\n",
      "Epoch 187/310\n",
      "18/18 [==============================] - 1s 36ms/step - loss: 8.7039e-05 - categorical_accuracy: 1.0000 - val_loss: 0.0123 - val_categorical_accuracy: 0.9929\n",
      "Epoch 188/310\n",
      "18/18 [==============================] - 1s 36ms/step - loss: 8.8301e-05 - categorical_accuracy: 1.0000 - val_loss: 0.0127 - val_categorical_accuracy: 0.9929\n",
      "Epoch 189/310\n",
      "18/18 [==============================] - 1s 36ms/step - loss: 5.7643e-05 - categorical_accuracy: 1.0000 - val_loss: 0.0123 - val_categorical_accuracy: 0.9929\n",
      "Epoch 190/310\n",
      "18/18 [==============================] - 1s 36ms/step - loss: 7.5531e-05 - categorical_accuracy: 1.0000 - val_loss: 0.0126 - val_categorical_accuracy: 0.9929\n",
      "Epoch 191/310\n",
      "18/18 [==============================] - 1s 36ms/step - loss: 5.9494e-05 - categorical_accuracy: 1.0000 - val_loss: 0.0129 - val_categorical_accuracy: 0.9929\n",
      "Epoch 192/310\n",
      "18/18 [==============================] - 1s 36ms/step - loss: 6.8169e-05 - categorical_accuracy: 1.0000 - val_loss: 0.0125 - val_categorical_accuracy: 0.9929\n",
      "Epoch 193/310\n",
      "18/18 [==============================] - 1s 36ms/step - loss: 4.8718e-05 - categorical_accuracy: 1.0000 - val_loss: 0.0123 - val_categorical_accuracy: 0.9929\n",
      "Epoch 194/310\n",
      "18/18 [==============================] - 1s 36ms/step - loss: 8.4350e-05 - categorical_accuracy: 1.0000 - val_loss: 0.0133 - val_categorical_accuracy: 0.9929\n"
     ]
    },
    {
     "name": "stdout",
     "output_type": "stream",
     "text": [
      "Epoch 195/310\n",
      "18/18 [==============================] - 1s 36ms/step - loss: 5.5639e-05 - categorical_accuracy: 1.0000 - val_loss: 0.0129 - val_categorical_accuracy: 0.9929\n",
      "Epoch 196/310\n",
      "18/18 [==============================] - 1s 36ms/step - loss: 5.5519e-05 - categorical_accuracy: 1.0000 - val_loss: 0.0121 - val_categorical_accuracy: 0.9929\n",
      "Epoch 197/310\n",
      "18/18 [==============================] - 1s 36ms/step - loss: 5.4157e-05 - categorical_accuracy: 1.0000 - val_loss: 0.0122 - val_categorical_accuracy: 0.9929\n",
      "Epoch 198/310\n",
      "18/18 [==============================] - 1s 36ms/step - loss: 5.8327e-05 - categorical_accuracy: 1.0000 - val_loss: 0.0122 - val_categorical_accuracy: 0.9929\n",
      "Epoch 199/310\n",
      "18/18 [==============================] - 1s 36ms/step - loss: 5.3955e-05 - categorical_accuracy: 1.0000 - val_loss: 0.0123 - val_categorical_accuracy: 0.9929\n",
      "Epoch 200/310\n",
      "18/18 [==============================] - 1s 35ms/step - loss: 5.7942e-05 - categorical_accuracy: 1.0000 - val_loss: 0.0129 - val_categorical_accuracy: 0.9929\n",
      "Epoch 201/310\n",
      "18/18 [==============================] - 1s 36ms/step - loss: 6.0014e-05 - categorical_accuracy: 1.0000 - val_loss: 0.0122 - val_categorical_accuracy: 0.9929\n",
      "Epoch 202/310\n",
      "18/18 [==============================] - 1s 36ms/step - loss: 5.3737e-05 - categorical_accuracy: 1.0000 - val_loss: 0.0124 - val_categorical_accuracy: 0.9929\n",
      "Epoch 203/310\n",
      "18/18 [==============================] - 1s 36ms/step - loss: 6.4248e-05 - categorical_accuracy: 1.0000 - val_loss: 0.0125 - val_categorical_accuracy: 0.9929\n",
      "Epoch 204/310\n",
      "18/18 [==============================] - 1s 36ms/step - loss: 5.7398e-05 - categorical_accuracy: 1.0000 - val_loss: 0.0120 - val_categorical_accuracy: 0.9929\n",
      "Epoch 205/310\n",
      "18/18 [==============================] - 1s 36ms/step - loss: 5.0751e-05 - categorical_accuracy: 1.0000 - val_loss: 0.0127 - val_categorical_accuracy: 0.9929\n",
      "Epoch 206/310\n",
      "18/18 [==============================] - 1s 36ms/step - loss: 4.2304e-05 - categorical_accuracy: 1.0000 - val_loss: 0.0127 - val_categorical_accuracy: 0.9929\n",
      "Epoch 207/310\n",
      "18/18 [==============================] - 1s 36ms/step - loss: 4.5722e-05 - categorical_accuracy: 1.0000 - val_loss: 0.0125 - val_categorical_accuracy: 0.9929\n",
      "Epoch 208/310\n",
      "18/18 [==============================] - 1s 36ms/step - loss: 4.2621e-05 - categorical_accuracy: 1.0000 - val_loss: 0.0121 - val_categorical_accuracy: 0.9929\n",
      "Epoch 209/310\n",
      "18/18 [==============================] - 1s 36ms/step - loss: 3.8120e-05 - categorical_accuracy: 1.0000 - val_loss: 0.0124 - val_categorical_accuracy: 0.9929\n",
      "Epoch 210/310\n",
      "18/18 [==============================] - 1s 36ms/step - loss: 3.5830e-05 - categorical_accuracy: 1.0000 - val_loss: 0.0126 - val_categorical_accuracy: 0.9929\n",
      "Epoch 211/310\n",
      "18/18 [==============================] - 1s 36ms/step - loss: 3.7636e-05 - categorical_accuracy: 1.0000 - val_loss: 0.0128 - val_categorical_accuracy: 0.9929\n",
      "Epoch 212/310\n",
      "18/18 [==============================] - 1s 36ms/step - loss: 4.5913e-05 - categorical_accuracy: 1.0000 - val_loss: 0.0121 - val_categorical_accuracy: 0.9929\n",
      "Epoch 213/310\n",
      "18/18 [==============================] - 1s 36ms/step - loss: 3.3918e-05 - categorical_accuracy: 1.0000 - val_loss: 0.0128 - val_categorical_accuracy: 0.9929\n",
      "Epoch 214/310\n",
      "18/18 [==============================] - 1s 36ms/step - loss: 3.7029e-05 - categorical_accuracy: 1.0000 - val_loss: 0.0128 - val_categorical_accuracy: 0.9929\n",
      "Epoch 215/310\n",
      "18/18 [==============================] - 1s 36ms/step - loss: 3.5644e-05 - categorical_accuracy: 1.0000 - val_loss: 0.0123 - val_categorical_accuracy: 0.9929\n",
      "Epoch 216/310\n",
      "18/18 [==============================] - 1s 36ms/step - loss: 3.2624e-05 - categorical_accuracy: 1.0000 - val_loss: 0.0128 - val_categorical_accuracy: 0.9929\n",
      "Epoch 217/310\n",
      "18/18 [==============================] - 1s 36ms/step - loss: 3.5788e-05 - categorical_accuracy: 1.0000 - val_loss: 0.0122 - val_categorical_accuracy: 0.9929\n",
      "Epoch 218/310\n",
      "18/18 [==============================] - 1s 36ms/step - loss: 3.7286e-05 - categorical_accuracy: 1.0000 - val_loss: 0.0125 - val_categorical_accuracy: 0.9929\n",
      "Epoch 219/310\n",
      "18/18 [==============================] - 1s 38ms/step - loss: 4.4836e-05 - categorical_accuracy: 1.0000 - val_loss: 0.0128 - val_categorical_accuracy: 0.9929\n",
      "Epoch 220/310\n",
      "18/18 [==============================] - 1s 38ms/step - loss: 3.5168e-05 - categorical_accuracy: 1.0000 - val_loss: 0.0125 - val_categorical_accuracy: 0.9929\n",
      "Epoch 221/310\n",
      "18/18 [==============================] - 1s 36ms/step - loss: 3.0917e-05 - categorical_accuracy: 1.0000 - val_loss: 0.0127 - val_categorical_accuracy: 0.9929\n",
      "Epoch 222/310\n",
      "18/18 [==============================] - 1s 36ms/step - loss: 3.2039e-05 - categorical_accuracy: 1.0000 - val_loss: 0.0129 - val_categorical_accuracy: 0.9929\n",
      "Epoch 223/310\n",
      "18/18 [==============================] - 1s 36ms/step - loss: 3.0224e-05 - categorical_accuracy: 1.0000 - val_loss: 0.0128 - val_categorical_accuracy: 0.9929\n",
      "Epoch 224/310\n",
      "18/18 [==============================] - 1s 36ms/step - loss: 3.0144e-05 - categorical_accuracy: 1.0000 - val_loss: 0.0128 - val_categorical_accuracy: 0.9929\n",
      "Epoch 225/310\n",
      "18/18 [==============================] - 1s 36ms/step - loss: 2.7485e-05 - categorical_accuracy: 1.0000 - val_loss: 0.0124 - val_categorical_accuracy: 0.9929\n",
      "Epoch 226/310\n",
      "18/18 [==============================] - 1s 36ms/step - loss: 3.4606e-05 - categorical_accuracy: 1.0000 - val_loss: 0.0125 - val_categorical_accuracy: 0.9929\n",
      "Epoch 227/310\n",
      "18/18 [==============================] - 1s 36ms/step - loss: 2.6269e-05 - categorical_accuracy: 1.0000 - val_loss: 0.0127 - val_categorical_accuracy: 0.9929\n",
      "Epoch 228/310\n",
      "18/18 [==============================] - 1s 36ms/step - loss: 2.5203e-05 - categorical_accuracy: 1.0000 - val_loss: 0.0125 - val_categorical_accuracy: 0.9929\n",
      "Epoch 229/310\n",
      "18/18 [==============================] - 1s 36ms/step - loss: 2.5371e-05 - categorical_accuracy: 1.0000 - val_loss: 0.0125 - val_categorical_accuracy: 0.9929\n",
      "Epoch 230/310\n",
      "18/18 [==============================] - 1s 36ms/step - loss: 2.7036e-05 - categorical_accuracy: 1.0000 - val_loss: 0.0127 - val_categorical_accuracy: 0.9929\n",
      "Epoch 231/310\n",
      "18/18 [==============================] - 1s 36ms/step - loss: 2.9061e-05 - categorical_accuracy: 1.0000 - val_loss: 0.0128 - val_categorical_accuracy: 0.9929\n",
      "Epoch 232/310\n",
      "18/18 [==============================] - 1s 36ms/step - loss: 3.0038e-05 - categorical_accuracy: 1.0000 - val_loss: 0.0126 - val_categorical_accuracy: 0.9929\n",
      "Epoch 233/310\n",
      "18/18 [==============================] - 1s 36ms/step - loss: 3.1178e-05 - categorical_accuracy: 1.0000 - val_loss: 0.0130 - val_categorical_accuracy: 0.9929\n",
      "Epoch 234/310\n",
      "18/18 [==============================] - 1s 36ms/step - loss: 2.6660e-05 - categorical_accuracy: 1.0000 - val_loss: 0.0125 - val_categorical_accuracy: 0.9929\n",
      "Epoch 235/310\n",
      "18/18 [==============================] - 1s 36ms/step - loss: 2.0102e-05 - categorical_accuracy: 1.0000 - val_loss: 0.0129 - val_categorical_accuracy: 0.9929\n",
      "Epoch 236/310\n",
      "18/18 [==============================] - 1s 36ms/step - loss: 3.1228e-05 - categorical_accuracy: 1.0000 - val_loss: 0.0130 - val_categorical_accuracy: 0.9929\n",
      "Epoch 237/310\n",
      "18/18 [==============================] - 1s 40ms/step - loss: 2.3534e-05 - categorical_accuracy: 1.0000 - val_loss: 0.0127 - val_categorical_accuracy: 0.9929\n",
      "Epoch 238/310\n",
      "18/18 [==============================] - 1s 40ms/step - loss: 2.8557e-05 - categorical_accuracy: 1.0000 - val_loss: 0.0125 - val_categorical_accuracy: 0.9929\n",
      "Epoch 239/310\n",
      "18/18 [==============================] - 1s 37ms/step - loss: 2.6538e-05 - categorical_accuracy: 1.0000 - val_loss: 0.0127 - val_categorical_accuracy: 0.9929\n",
      "Epoch 240/310\n",
      "18/18 [==============================] - 1s 37ms/step - loss: 2.5960e-05 - categorical_accuracy: 1.0000 - val_loss: 0.0131 - val_categorical_accuracy: 0.9929\n",
      "Epoch 241/310\n",
      "18/18 [==============================] - 1s 38ms/step - loss: 2.1097e-05 - categorical_accuracy: 1.0000 - val_loss: 0.0125 - val_categorical_accuracy: 0.9929\n",
      "Epoch 242/310\n",
      "18/18 [==============================] - 1s 36ms/step - loss: 2.6866e-05 - categorical_accuracy: 1.0000 - val_loss: 0.0128 - val_categorical_accuracy: 0.9929\n",
      "Epoch 243/310\n",
      "18/18 [==============================] - 1s 36ms/step - loss: 2.4028e-05 - categorical_accuracy: 1.0000 - val_loss: 0.0123 - val_categorical_accuracy: 0.9929\n",
      "Epoch 244/310\n",
      "18/18 [==============================] - 1s 36ms/step - loss: 2.4141e-05 - categorical_accuracy: 1.0000 - val_loss: 0.0122 - val_categorical_accuracy: 0.9929\n",
      "Epoch 245/310\n",
      "18/18 [==============================] - 1s 36ms/step - loss: 2.1286e-05 - categorical_accuracy: 1.0000 - val_loss: 0.0123 - val_categorical_accuracy: 0.9929\n",
      "Epoch 246/310\n",
      "18/18 [==============================] - 1s 36ms/step - loss: 1.6932e-05 - categorical_accuracy: 1.0000 - val_loss: 0.0123 - val_categorical_accuracy: 0.9929\n",
      "Epoch 247/310\n",
      "18/18 [==============================] - 1s 36ms/step - loss: 2.5144e-05 - categorical_accuracy: 1.0000 - val_loss: 0.0128 - val_categorical_accuracy: 0.9929\n",
      "Epoch 248/310\n",
      "18/18 [==============================] - 1s 36ms/step - loss: 1.9216e-05 - categorical_accuracy: 1.0000 - val_loss: 0.0125 - val_categorical_accuracy: 0.9929\n",
      "Epoch 249/310\n",
      "18/18 [==============================] - 1s 37ms/step - loss: 2.0272e-05 - categorical_accuracy: 1.0000 - val_loss: 0.0127 - val_categorical_accuracy: 0.9929\n",
      "Epoch 250/310\n",
      "18/18 [==============================] - 1s 36ms/step - loss: 1.8138e-05 - categorical_accuracy: 1.0000 - val_loss: 0.0122 - val_categorical_accuracy: 0.9929\n",
      "Epoch 251/310\n",
      "18/18 [==============================] - 1s 37ms/step - loss: 1.7685e-05 - categorical_accuracy: 1.0000 - val_loss: 0.0120 - val_categorical_accuracy: 0.9929\n",
      "Epoch 252/310\n",
      "18/18 [==============================] - 1s 37ms/step - loss: 1.9724e-05 - categorical_accuracy: 1.0000 - val_loss: 0.0126 - val_categorical_accuracy: 0.9929\n",
      "Epoch 253/310\n",
      "18/18 [==============================] - 1s 36ms/step - loss: 1.9096e-05 - categorical_accuracy: 1.0000 - val_loss: 0.0122 - val_categorical_accuracy: 0.9929\n",
      "Epoch 254/310\n",
      "18/18 [==============================] - 1s 36ms/step - loss: 1.8416e-05 - categorical_accuracy: 1.0000 - val_loss: 0.0123 - val_categorical_accuracy: 0.9929\n",
      "Epoch 255/310\n",
      "18/18 [==============================] - 1s 36ms/step - loss: 2.0364e-05 - categorical_accuracy: 1.0000 - val_loss: 0.0123 - val_categorical_accuracy: 0.9929\n",
      "Epoch 256/310\n",
      "18/18 [==============================] - 1s 36ms/step - loss: 1.8224e-05 - categorical_accuracy: 1.0000 - val_loss: 0.0125 - val_categorical_accuracy: 0.9929\n",
      "Epoch 257/310\n",
      "18/18 [==============================] - 1s 36ms/step - loss: 1.7861e-05 - categorical_accuracy: 1.0000 - val_loss: 0.0126 - val_categorical_accuracy: 0.9929\n",
      "Epoch 258/310\n",
      "18/18 [==============================] - 1s 36ms/step - loss: 2.1772e-05 - categorical_accuracy: 1.0000 - val_loss: 0.0125 - val_categorical_accuracy: 0.9929\n",
      "Epoch 259/310\n",
      "18/18 [==============================] - 1s 36ms/step - loss: 1.8068e-05 - categorical_accuracy: 1.0000 - val_loss: 0.0124 - val_categorical_accuracy: 0.9929\n",
      "Epoch 260/310\n",
      "18/18 [==============================] - 1s 36ms/step - loss: 1.4651e-05 - categorical_accuracy: 1.0000 - val_loss: 0.0126 - val_categorical_accuracy: 0.9929\n",
      "Epoch 261/310\n",
      "18/18 [==============================] - 1s 36ms/step - loss: 1.2929e-05 - categorical_accuracy: 1.0000 - val_loss: 0.0127 - val_categorical_accuracy: 0.9929\n",
      "Epoch 262/310\n",
      "18/18 [==============================] - 1s 36ms/step - loss: 1.3787e-05 - categorical_accuracy: 1.0000 - val_loss: 0.0130 - val_categorical_accuracy: 0.9929\n",
      "Epoch 263/310\n",
      "18/18 [==============================] - 1s 36ms/step - loss: 1.3449e-05 - categorical_accuracy: 1.0000 - val_loss: 0.0123 - val_categorical_accuracy: 0.9929\n",
      "Epoch 264/310\n",
      "18/18 [==============================] - 1s 36ms/step - loss: 1.6465e-05 - categorical_accuracy: 1.0000 - val_loss: 0.0126 - val_categorical_accuracy: 0.9929\n",
      "Epoch 265/310\n",
      "18/18 [==============================] - 1s 36ms/step - loss: 1.5145e-05 - categorical_accuracy: 1.0000 - val_loss: 0.0128 - val_categorical_accuracy: 0.9929\n",
      "Epoch 266/310\n",
      "18/18 [==============================] - 1s 36ms/step - loss: 1.3348e-05 - categorical_accuracy: 1.0000 - val_loss: 0.0126 - val_categorical_accuracy: 0.9929\n",
      "Epoch 267/310\n",
      "18/18 [==============================] - 1s 36ms/step - loss: 1.3359e-05 - categorical_accuracy: 1.0000 - val_loss: 0.0129 - val_categorical_accuracy: 0.9929\n",
      "Epoch 268/310\n",
      "18/18 [==============================] - 1s 36ms/step - loss: 1.3767e-05 - categorical_accuracy: 1.0000 - val_loss: 0.0124 - val_categorical_accuracy: 0.9929\n",
      "Epoch 269/310\n",
      "18/18 [==============================] - 1s 36ms/step - loss: 1.5737e-05 - categorical_accuracy: 1.0000 - val_loss: 0.0135 - val_categorical_accuracy: 0.9929\n",
      "Epoch 270/310\n",
      "18/18 [==============================] - 1s 36ms/step - loss: 1.3209e-05 - categorical_accuracy: 1.0000 - val_loss: 0.0133 - val_categorical_accuracy: 0.9929\n",
      "Epoch 271/310\n",
      "18/18 [==============================] - 1s 36ms/step - loss: 1.2094e-05 - categorical_accuracy: 1.0000 - val_loss: 0.0131 - val_categorical_accuracy: 0.9929\n",
      "Epoch 272/310\n",
      "18/18 [==============================] - 1s 36ms/step - loss: 1.6863e-05 - categorical_accuracy: 1.0000 - val_loss: 0.0133 - val_categorical_accuracy: 0.9929\n",
      "Epoch 273/310\n",
      "18/18 [==============================] - 1s 36ms/step - loss: 1.2270e-05 - categorical_accuracy: 1.0000 - val_loss: 0.0128 - val_categorical_accuracy: 0.9929\n",
      "Epoch 274/310\n",
      "18/18 [==============================] - 1s 36ms/step - loss: 1.2563e-05 - categorical_accuracy: 1.0000 - val_loss: 0.0127 - val_categorical_accuracy: 0.9929\n",
      "Epoch 275/310\n",
      "18/18 [==============================] - 1s 36ms/step - loss: 1.4997e-05 - categorical_accuracy: 1.0000 - val_loss: 0.0132 - val_categorical_accuracy: 0.9929\n",
      "Epoch 276/310\n",
      "18/18 [==============================] - 1s 37ms/step - loss: 1.3017e-05 - categorical_accuracy: 1.0000 - val_loss: 0.0130 - val_categorical_accuracy: 0.9929\n",
      "Epoch 277/310\n",
      "18/18 [==============================] - 1s 37ms/step - loss: 1.3325e-05 - categorical_accuracy: 1.0000 - val_loss: 0.0131 - val_categorical_accuracy: 0.9929\n",
      "Epoch 278/310\n",
      "18/18 [==============================] - 1s 38ms/step - loss: 1.3412e-05 - categorical_accuracy: 1.0000 - val_loss: 0.0125 - val_categorical_accuracy: 0.9929\n",
      "Epoch 279/310\n",
      "18/18 [==============================] - 1s 38ms/step - loss: 1.0934e-05 - categorical_accuracy: 1.0000 - val_loss: 0.0133 - val_categorical_accuracy: 0.9929\n",
      "Epoch 280/310\n",
      "18/18 [==============================] - 1s 38ms/step - loss: 1.0591e-05 - categorical_accuracy: 1.0000 - val_loss: 0.0131 - val_categorical_accuracy: 0.9929\n",
      "Epoch 281/310\n",
      "18/18 [==============================] - 1s 37ms/step - loss: 1.4888e-05 - categorical_accuracy: 1.0000 - val_loss: 0.0134 - val_categorical_accuracy: 0.9929\n",
      "Epoch 282/310\n",
      "18/18 [==============================] - 1s 39ms/step - loss: 1.0903e-05 - categorical_accuracy: 1.0000 - val_loss: 0.0131 - val_categorical_accuracy: 0.9929\n",
      "Epoch 283/310\n",
      "18/18 [==============================] - 1s 38ms/step - loss: 9.1018e-06 - categorical_accuracy: 1.0000 - val_loss: 0.0133 - val_categorical_accuracy: 0.9929\n",
      "Epoch 284/310\n",
      "18/18 [==============================] - 1s 39ms/step - loss: 1.2729e-05 - categorical_accuracy: 1.0000 - val_loss: 0.0132 - val_categorical_accuracy: 0.9929\n",
      "Epoch 285/310\n",
      "18/18 [==============================] - 1s 37ms/step - loss: 1.0120e-05 - categorical_accuracy: 1.0000 - val_loss: 0.0131 - val_categorical_accuracy: 0.9929\n",
      "Epoch 286/310\n",
      "18/18 [==============================] - 1s 37ms/step - loss: 1.0202e-05 - categorical_accuracy: 1.0000 - val_loss: 0.0131 - val_categorical_accuracy: 0.9929\n",
      "Epoch 287/310\n",
      "18/18 [==============================] - 1s 37ms/step - loss: 1.3014e-05 - categorical_accuracy: 1.0000 - val_loss: 0.0134 - val_categorical_accuracy: 0.9929\n",
      "Epoch 288/310\n",
      "18/18 [==============================] - 1s 38ms/step - loss: 1.0953e-05 - categorical_accuracy: 1.0000 - val_loss: 0.0133 - val_categorical_accuracy: 0.9929\n",
      "Epoch 289/310\n",
      "18/18 [==============================] - 1s 37ms/step - loss: 1.4728e-05 - categorical_accuracy: 1.0000 - val_loss: 0.0130 - val_categorical_accuracy: 0.9929\n"
     ]
    },
    {
     "name": "stdout",
     "output_type": "stream",
     "text": [
      "Epoch 290/310\n",
      "18/18 [==============================] - 1s 36ms/step - loss: 7.7232e-06 - categorical_accuracy: 1.0000 - val_loss: 0.0130 - val_categorical_accuracy: 0.9929\n",
      "Epoch 291/310\n",
      "18/18 [==============================] - 1s 36ms/step - loss: 9.7495e-06 - categorical_accuracy: 1.0000 - val_loss: 0.0134 - val_categorical_accuracy: 0.9929\n",
      "Epoch 292/310\n",
      "18/18 [==============================] - 1s 36ms/step - loss: 8.9295e-06 - categorical_accuracy: 1.0000 - val_loss: 0.0133 - val_categorical_accuracy: 0.9929\n",
      "Epoch 293/310\n",
      "18/18 [==============================] - 1s 36ms/step - loss: 6.6669e-06 - categorical_accuracy: 1.0000 - val_loss: 0.0133 - val_categorical_accuracy: 0.9929\n",
      "Epoch 294/310\n",
      "18/18 [==============================] - 1s 36ms/step - loss: 8.2305e-06 - categorical_accuracy: 1.0000 - val_loss: 0.0135 - val_categorical_accuracy: 0.9929\n",
      "Epoch 295/310\n",
      "18/18 [==============================] - 1s 36ms/step - loss: 9.5346e-06 - categorical_accuracy: 1.0000 - val_loss: 0.0134 - val_categorical_accuracy: 0.9929\n",
      "Epoch 296/310\n",
      "18/18 [==============================] - 1s 46ms/step - loss: 9.4414e-06 - categorical_accuracy: 1.0000 - val_loss: 0.0131 - val_categorical_accuracy: 0.9929\n",
      "Epoch 297/310\n",
      "18/18 [==============================] - 1s 45ms/step - loss: 1.1313e-05 - categorical_accuracy: 1.0000 - val_loss: 0.0137 - val_categorical_accuracy: 0.9929\n",
      "Epoch 298/310\n",
      "18/18 [==============================] - 1s 37ms/step - loss: 9.6314e-06 - categorical_accuracy: 1.0000 - val_loss: 0.0135 - val_categorical_accuracy: 0.9929\n",
      "Epoch 299/310\n",
      "18/18 [==============================] - 1s 36ms/step - loss: 7.1347e-06 - categorical_accuracy: 1.0000 - val_loss: 0.0132 - val_categorical_accuracy: 0.9929\n",
      "Epoch 300/310\n",
      "18/18 [==============================] - 1s 36ms/step - loss: 1.1281e-05 - categorical_accuracy: 1.0000 - val_loss: 0.0138 - val_categorical_accuracy: 0.9929\n",
      "Epoch 301/310\n",
      "18/18 [==============================] - 1s 36ms/step - loss: 1.1260e-05 - categorical_accuracy: 1.0000 - val_loss: 0.0135 - val_categorical_accuracy: 0.9929\n",
      "Epoch 302/310\n",
      "18/18 [==============================] - 1s 36ms/step - loss: 8.8202e-06 - categorical_accuracy: 1.0000 - val_loss: 0.0137 - val_categorical_accuracy: 0.9929\n",
      "Epoch 303/310\n",
      "18/18 [==============================] - 1s 36ms/step - loss: 7.2669e-06 - categorical_accuracy: 1.0000 - val_loss: 0.0136 - val_categorical_accuracy: 0.9929\n",
      "Epoch 304/310\n",
      "18/18 [==============================] - 1s 36ms/step - loss: 5.8987e-06 - categorical_accuracy: 1.0000 - val_loss: 0.0131 - val_categorical_accuracy: 0.9929\n",
      "Epoch 305/310\n",
      "18/18 [==============================] - 1s 36ms/step - loss: 6.6202e-06 - categorical_accuracy: 1.0000 - val_loss: 0.0140 - val_categorical_accuracy: 0.9929\n",
      "Epoch 306/310\n",
      "18/18 [==============================] - 1s 36ms/step - loss: 8.6729e-06 - categorical_accuracy: 1.0000 - val_loss: 0.0143 - val_categorical_accuracy: 0.9929\n",
      "Epoch 307/310\n",
      "18/18 [==============================] - 1s 36ms/step - loss: 5.4990e-06 - categorical_accuracy: 1.0000 - val_loss: 0.0139 - val_categorical_accuracy: 0.9929\n",
      "Epoch 308/310\n",
      "18/18 [==============================] - 1s 36ms/step - loss: 6.2831e-06 - categorical_accuracy: 1.0000 - val_loss: 0.0135 - val_categorical_accuracy: 0.9929\n",
      "Epoch 309/310\n",
      "18/18 [==============================] - 1s 36ms/step - loss: 5.1768e-06 - categorical_accuracy: 1.0000 - val_loss: 0.0138 - val_categorical_accuracy: 0.9929\n",
      "Epoch 310/310\n",
      "18/18 [==============================] - 1s 36ms/step - loss: 7.3097e-06 - categorical_accuracy: 1.0000 - val_loss: 0.0137 - val_categorical_accuracy: 0.9929\n"
     ]
    }
   ],
   "source": [
    "history = model.fit(X_train, y_train, epochs=310, callbacks=[tb_callback],validation_data=(X_val,y_val))"
   ]
  },
  {
   "cell_type": "code",
   "execution_count": 96,
   "metadata": {
    "scrolled": true
   },
   "outputs": [
    {
     "name": "stdout",
     "output_type": "stream",
     "text": [
      "Model: \"sequential_3\"\n",
      "_________________________________________________________________\n",
      "Layer (type)                 Output Shape              Param #   \n",
      "=================================================================\n",
      "lstm_9 (LSTM)                (None, 30, 64)            32768     \n",
      "_________________________________________________________________\n",
      "lstm_10 (LSTM)               (None, 30, 128)           98816     \n",
      "_________________________________________________________________\n",
      "lstm_11 (LSTM)               (None, 64)                49408     \n",
      "_________________________________________________________________\n",
      "dense_8 (Dense)              (None, 64)                4160      \n",
      "_________________________________________________________________\n",
      "dense_9 (Dense)              (None, 32)                2080      \n",
      "_________________________________________________________________\n",
      "dense_10 (Dense)             (None, 7)                 231       \n",
      "=================================================================\n",
      "Total params: 187,463\n",
      "Trainable params: 187,463\n",
      "Non-trainable params: 0\n",
      "_________________________________________________________________\n"
     ]
    }
   ],
   "source": [
    "model.summary()"
   ]
  },
  {
   "cell_type": "code",
   "execution_count": 98,
   "metadata": {
    "scrolled": true
   },
   "outputs": [],
   "source": [
    "# Train model\n",
    "import matplotlib.pyplot as pyplot\n"
   ]
  },
  {
   "cell_type": "code",
   "execution_count": 99,
   "metadata": {
    "scrolled": true
   },
   "outputs": [
    {
     "data": {
      "image/png": "[encoded data removed]",
      "text/plain": [
       "<Figure size 1440x720 with 2 Axes>"
      ]
     },
     "metadata": {
      "needs_background": "light"
     },
     "output_type": "display_data"
    }
   ],
   "source": [
    "import matplotlib.pyplot as pyplot\n",
    "pyplot.figure(figsize=(20,10))\n",
    "pyplot.subplot(211)\n",
    "pyplot.title('Loss')\n",
    "pyplot.plot(history.history['loss'], label='train')\n",
    "pyplot.plot(history.history['val_loss'], label='validation')\n",
    "pyplot.legend()\n",
    "# plot accuracy during training\n",
    "pyplot.subplot(212)\n",
    "pyplot.title('Accuracy')\n",
    "pyplot.plot(history.history['categorical_accuracy'], label='train')\n",
    "pyplot.plot(history.history['val_categorical_accuracy'], label='validation')\n",
    "pyplot.legend()\n",
    "pyplot.show()"
   ]
  },
  {
   "cell_type": "markdown",
   "metadata": {},
   "source": [
    "# 7777 Trainmodel follow papper"
   ]
  },
  {
   "cell_type": "code",
   "execution_count": 20,
   "metadata": {},
   "outputs": [],
   "source": [
    "from tensorflow.keras.models import Sequential\n",
    "from tensorflow.keras.layers import LSTM, Dense, Flatten,Dropout\n",
    "from tensorflow.keras.callbacks import TensorBoard"
   ]
  },
  {
   "cell_type": "code",
   "execution_count": 21,
   "metadata": {},
   "outputs": [],
   "source": [
    "log_dir = os.path.join('Logs_paper_18_4')\n",
    "tb_callback = TensorBoard(log_dir=log_dir)"
   ]
  },
  {
   "cell_type": "code",
   "execution_count": 22,
   "metadata": {},
   "outputs": [],
   "source": [
    "model = Sequential()\n",
    "model.add(LSTM(units=256, return_sequences=True, input_shape=(30,63)))\n",
    "model.add(Dropout(0.2))\n",
    "model.add(LSTM(units=128, return_sequences=True))\n",
    "model.add(Dropout(0.2))\n",
    "model.add(Flatten())\n",
    "model.add(Dense(actions_train.shape[0], activation='softmax'))"
   ]
  },
  {
   "cell_type": "code",
   "execution_count": 23,
   "metadata": {},
   "outputs": [],
   "source": [
    "model.compile(optimizer='Adam', loss=tf.keras.losses.MeanSquaredError(), metrics=['categorical_accuracy'])"
   ]
  },
  {
   "cell_type": "code",
   "execution_count": 24,
   "metadata": {},
   "outputs": [
    {
     "name": "stdout",
     "output_type": "stream",
     "text": [
      "Model: \"sequential\"\n",
      "_________________________________________________________________\n",
      "Layer (type)                 Output Shape              Param #   \n",
      "=================================================================\n",
      "lstm (LSTM)                  (None, 30, 256)           327680    \n",
      "_________________________________________________________________\n",
      "dropout (Dropout)            (None, 30, 256)           0         \n",
      "_________________________________________________________________\n",
      "lstm_1 (LSTM)                (None, 30, 128)           197120    \n",
      "_________________________________________________________________\n",
      "dropout_1 (Dropout)          (None, 30, 128)           0         \n",
      "_________________________________________________________________\n",
      "flatten (Flatten)            (None, 3840)              0         \n",
      "_________________________________________________________________\n",
      "dense (Dense)                (None, 12)                46092     \n",
      "=================================================================\n",
      "Total params: 570,892\n",
      "Trainable params: 570,892\n",
      "Non-trainable params: 0\n",
      "_________________________________________________________________\n"
     ]
    }
   ],
   "source": [
    "model.summary()"
   ]
  },
  {
   "cell_type": "code",
   "execution_count": 33,
   "metadata": {},
   "outputs": [
    {
     "name": "stdout",
     "output_type": "stream",
     "text": [
      "Epoch 1/170\n",
      "19/19 [==============================] - 4s 90ms/step - loss: 0.1155 - categorical_accuracy: 0.3007 - val_loss: 0.0870 - val_categorical_accuracy: 0.5524\n",
      "Epoch 2/170\n",
      "19/19 [==============================] - 1s 59ms/step - loss: 0.0594 - categorical_accuracy: 0.7214 - val_loss: 0.0388 - val_categorical_accuracy: 0.8000\n",
      "Epoch 3/170\n",
      "19/19 [==============================] - 1s 57ms/step - loss: 0.0243 - categorical_accuracy: 0.8977 - val_loss: 0.0101 - val_categorical_accuracy: 0.9619\n",
      "Epoch 4/170\n",
      "19/19 [==============================] - 1s 57ms/step - loss: 0.0049 - categorical_accuracy: 0.9842 - val_loss: 0.0044 - val_categorical_accuracy: 0.9810\n",
      "Epoch 5/170\n",
      "19/19 [==============================] - 1s 56ms/step - loss: 0.0024 - categorical_accuracy: 0.9912 - val_loss: 0.0013 - val_categorical_accuracy: 1.0000\n",
      "Epoch 6/170\n",
      "19/19 [==============================] - 1s 54ms/step - loss: 0.0015 - categorical_accuracy: 0.9970 - val_loss: 0.0014 - val_categorical_accuracy: 0.9905\n",
      "Epoch 7/170\n",
      "19/19 [==============================] - 1s 57ms/step - loss: 0.0015 - categorical_accuracy: 0.9929 - val_loss: 0.0072 - val_categorical_accuracy: 0.9619\n",
      "Epoch 8/170\n",
      "19/19 [==============================] - 1s 56ms/step - loss: 0.0028 - categorical_accuracy: 0.9842 - val_loss: 9.9316e-04 - val_categorical_accuracy: 0.9905\n",
      "Epoch 9/170\n",
      "19/19 [==============================] - 1s 59ms/step - loss: 6.8837e-04 - categorical_accuracy: 0.9979 - val_loss: 0.0012 - val_categorical_accuracy: 0.9905\n",
      "Epoch 10/170\n",
      "19/19 [==============================] - 1s 62ms/step - loss: 7.4476e-05 - categorical_accuracy: 1.0000 - val_loss: 0.0013 - val_categorical_accuracy: 0.9905\n",
      "Epoch 11/170\n",
      "19/19 [==============================] - 1s 59ms/step - loss: 1.0668e-04 - categorical_accuracy: 1.0000 - val_loss: 0.0013 - val_categorical_accuracy: 0.9905\n",
      "Epoch 12/170\n",
      "19/19 [==============================] - 1s 58ms/step - loss: 4.1182e-05 - categorical_accuracy: 1.0000 - val_loss: 0.0011 - val_categorical_accuracy: 0.9905\n",
      "Epoch 13/170\n",
      "19/19 [==============================] - 1s 57ms/step - loss: 1.2038e-05 - categorical_accuracy: 1.0000 - val_loss: 0.0010 - val_categorical_accuracy: 0.9905\n",
      "Epoch 14/170\n",
      "19/19 [==============================] - 1s 60ms/step - loss: 7.0979e-06 - categorical_accuracy: 1.0000 - val_loss: 0.0010 - val_categorical_accuracy: 0.9905\n",
      "Epoch 15/170\n",
      "19/19 [==============================] - 1s 56ms/step - loss: 5.0478e-06 - categorical_accuracy: 1.0000 - val_loss: 0.0010 - val_categorical_accuracy: 0.9905\n",
      "Epoch 16/170\n",
      "19/19 [==============================] - 1s 59ms/step - loss: 4.7855e-06 - categorical_accuracy: 1.0000 - val_loss: 0.0010 - val_categorical_accuracy: 0.9905\n",
      "Epoch 17/170\n",
      "19/19 [==============================] - 1s 58ms/step - loss: 3.6477e-06 - categorical_accuracy: 1.0000 - val_loss: 0.0010 - val_categorical_accuracy: 0.9905\n",
      "Epoch 18/170\n",
      "19/19 [==============================] - 1s 62ms/step - loss: 4.2997e-06 - categorical_accuracy: 1.0000 - val_loss: 0.0010 - val_categorical_accuracy: 0.9905\n",
      "Epoch 19/170\n",
      "19/19 [==============================] - 1s 61ms/step - loss: 4.9032e-06 - categorical_accuracy: 1.0000 - val_loss: 0.0010 - val_categorical_accuracy: 0.9905\n",
      "Epoch 20/170\n",
      "19/19 [==============================] - 1s 73ms/step - loss: 4.3039e-06 - categorical_accuracy: 1.0000 - val_loss: 0.0010 - val_categorical_accuracy: 0.9905\n",
      "Epoch 21/170\n",
      "19/19 [==============================] - 1s 77ms/step - loss: 3.1444e-06 - categorical_accuracy: 1.0000 - val_loss: 0.0010 - val_categorical_accuracy: 0.9905\n",
      "Epoch 22/170\n",
      "19/19 [==============================] - 1s 66ms/step - loss: 3.3193e-06 - categorical_accuracy: 1.0000 - val_loss: 0.0010 - val_categorical_accuracy: 0.9905\n",
      "Epoch 23/170\n",
      "19/19 [==============================] - 1s 65ms/step - loss: 2.3291e-06 - categorical_accuracy: 1.0000 - val_loss: 0.0010 - val_categorical_accuracy: 0.9905\n",
      "Epoch 24/170\n",
      "19/19 [==============================] - 1s 66ms/step - loss: 3.4313e-06 - categorical_accuracy: 1.0000 - val_loss: 0.0010 - val_categorical_accuracy: 0.9905\n",
      "Epoch 25/170\n",
      "19/19 [==============================] - 1s 67ms/step - loss: 3.0419e-06 - categorical_accuracy: 1.0000 - val_loss: 0.0010 - val_categorical_accuracy: 0.9905\n",
      "Epoch 26/170\n",
      "19/19 [==============================] - 1s 65ms/step - loss: 2.3362e-06 - categorical_accuracy: 1.0000 - val_loss: 0.0010 - val_categorical_accuracy: 0.9905\n",
      "Epoch 27/170\n",
      "19/19 [==============================] - 1s 65ms/step - loss: 2.9131e-06 - categorical_accuracy: 1.0000 - val_loss: 0.0010 - val_categorical_accuracy: 0.9905\n",
      "Epoch 28/170\n",
      "19/19 [==============================] - 1s 68ms/step - loss: 1.2975e-06 - categorical_accuracy: 1.0000 - val_loss: 0.0010 - val_categorical_accuracy: 0.9905\n",
      "Epoch 29/170\n",
      "19/19 [==============================] - 1s 66ms/step - loss: 4.3145e-06 - categorical_accuracy: 1.0000 - val_loss: 0.0010 - val_categorical_accuracy: 0.9905\n",
      "Epoch 30/170\n",
      "19/19 [==============================] - 1s 66ms/step - loss: 1.9801e-06 - categorical_accuracy: 1.0000 - val_loss: 0.0010 - val_categorical_accuracy: 0.9905\n",
      "Epoch 31/170\n",
      "19/19 [==============================] - 1s 65ms/step - loss: 2.0921e-06 - categorical_accuracy: 1.0000 - val_loss: 0.0011 - val_categorical_accuracy: 0.9905\n",
      "Epoch 32/170\n",
      "19/19 [==============================] - 1s 66ms/step - loss: 1.8738e-06 - categorical_accuracy: 1.0000 - val_loss: 0.0010 - val_categorical_accuracy: 0.9905\n",
      "Epoch 33/170\n",
      "19/19 [==============================] - 1s 64ms/step - loss: 2.3242e-06 - categorical_accuracy: 1.0000 - val_loss: 0.0011 - val_categorical_accuracy: 0.9905\n",
      "Epoch 34/170\n",
      "19/19 [==============================] - 1s 67ms/step - loss: 1.3024e-06 - categorical_accuracy: 1.0000 - val_loss: 0.0011 - val_categorical_accuracy: 0.9905\n",
      "Epoch 35/170\n",
      "19/19 [==============================] - 1s 66ms/step - loss: 1.7294e-06 - categorical_accuracy: 1.0000 - val_loss: 0.0011 - val_categorical_accuracy: 0.9905\n",
      "Epoch 36/170\n",
      "19/19 [==============================] - 1s 66ms/step - loss: 1.5665e-06 - categorical_accuracy: 1.0000 - val_loss: 0.0011 - val_categorical_accuracy: 0.9905\n",
      "Epoch 37/170\n",
      "19/19 [==============================] - 1s 66ms/step - loss: 1.5535e-06 - categorical_accuracy: 1.0000 - val_loss: 0.0011 - val_categorical_accuracy: 0.9905\n",
      "Epoch 38/170\n",
      "19/19 [==============================] - 1s 65ms/step - loss: 9.9579e-07 - categorical_accuracy: 1.0000 - val_loss: 0.0011 - val_categorical_accuracy: 0.9905\n",
      "Epoch 39/170\n",
      "19/19 [==============================] - 1s 66ms/step - loss: 1.6955e-06 - categorical_accuracy: 1.0000 - val_loss: 0.0011 - val_categorical_accuracy: 0.9905\n",
      "Epoch 40/170\n",
      "19/19 [==============================] - 1s 64ms/step - loss: 1.8716e-06 - categorical_accuracy: 1.0000 - val_loss: 0.0011 - val_categorical_accuracy: 0.9905\n",
      "Epoch 41/170\n",
      "19/19 [==============================] - 1s 64ms/step - loss: 1.5591e-06 - categorical_accuracy: 1.0000 - val_loss: 0.0011 - val_categorical_accuracy: 0.9905\n",
      "Epoch 42/170\n",
      "19/19 [==============================] - 1s 65ms/step - loss: 1.1166e-06 - categorical_accuracy: 1.0000 - val_loss: 0.0011 - val_categorical_accuracy: 0.9905\n",
      "Epoch 43/170\n",
      "19/19 [==============================] - 1s 65ms/step - loss: 1.3291e-06 - categorical_accuracy: 1.0000 - val_loss: 0.0011 - val_categorical_accuracy: 0.9905\n",
      "Epoch 44/170\n",
      "19/19 [==============================] - 1s 64ms/step - loss: 1.0702e-06 - categorical_accuracy: 1.0000 - val_loss: 0.0011 - val_categorical_accuracy: 0.9905\n",
      "Epoch 45/170\n",
      "19/19 [==============================] - 1s 64ms/step - loss: 1.4442e-06 - categorical_accuracy: 1.0000 - val_loss: 0.0011 - val_categorical_accuracy: 0.9905\n",
      "Epoch 46/170\n",
      "19/19 [==============================] - 1s 65ms/step - loss: 1.3835e-06 - categorical_accuracy: 1.0000 - val_loss: 0.0011 - val_categorical_accuracy: 0.9905\n",
      "Epoch 47/170\n",
      "19/19 [==============================] - 1s 64ms/step - loss: 1.2818e-06 - categorical_accuracy: 1.0000 - val_loss: 0.0011 - val_categorical_accuracy: 0.9905\n",
      "Epoch 48/170\n",
      "19/19 [==============================] - 1s 64ms/step - loss: 1.0764e-06 - categorical_accuracy: 1.0000 - val_loss: 0.0011 - val_categorical_accuracy: 0.9905\n",
      "Epoch 49/170\n",
      "19/19 [==============================] - 1s 68ms/step - loss: 1.1277e-06 - categorical_accuracy: 1.0000 - val_loss: 0.0011 - val_categorical_accuracy: 0.9905\n",
      "Epoch 50/170\n",
      "19/19 [==============================] - 1s 66ms/step - loss: 9.1164e-07 - categorical_accuracy: 1.0000 - val_loss: 0.0011 - val_categorical_accuracy: 0.9905\n",
      "Epoch 51/170\n",
      "19/19 [==============================] - 1s 65ms/step - loss: 8.1079e-07 - categorical_accuracy: 1.0000 - val_loss: 0.0011 - val_categorical_accuracy: 0.9905\n",
      "Epoch 52/170\n",
      "19/19 [==============================] - 1s 65ms/step - loss: 6.8219e-07 - categorical_accuracy: 1.0000 - val_loss: 0.0011 - val_categorical_accuracy: 0.9905\n",
      "Epoch 53/170\n",
      "19/19 [==============================] - 1s 66ms/step - loss: 1.0257e-06 - categorical_accuracy: 1.0000 - val_loss: 0.0011 - val_categorical_accuracy: 0.9905\n",
      "Epoch 54/170\n",
      "19/19 [==============================] - 1s 67ms/step - loss: 3.1821e-06 - categorical_accuracy: 1.0000 - val_loss: 0.0012 - val_categorical_accuracy: 0.9905\n",
      "Epoch 55/170\n",
      "19/19 [==============================] - 1s 69ms/step - loss: 7.5396e-07 - categorical_accuracy: 1.0000 - val_loss: 0.0012 - val_categorical_accuracy: 0.9905\n",
      "Epoch 56/170\n",
      "19/19 [==============================] - 1s 68ms/step - loss: 7.8641e-07 - categorical_accuracy: 1.0000 - val_loss: 0.0012 - val_categorical_accuracy: 0.9905\n",
      "Epoch 57/170\n",
      "19/19 [==============================] - 2s 80ms/step - loss: 7.1011e-07 - categorical_accuracy: 1.0000 - val_loss: 0.0012 - val_categorical_accuracy: 0.9905\n",
      "Epoch 58/170\n",
      "19/19 [==============================] - 1s 70ms/step - loss: 6.7968e-07 - categorical_accuracy: 1.0000 - val_loss: 0.0012 - val_categorical_accuracy: 0.9905\n",
      "Epoch 59/170\n",
      "19/19 [==============================] - 1s 68ms/step - loss: 8.6249e-07 - categorical_accuracy: 1.0000 - val_loss: 0.0012 - val_categorical_accuracy: 0.9905\n",
      "Epoch 60/170\n",
      "19/19 [==============================] - 1s 66ms/step - loss: 6.0015e-07 - categorical_accuracy: 1.0000 - val_loss: 0.0012 - val_categorical_accuracy: 0.9905\n",
      "Epoch 61/170\n",
      "19/19 [==============================] - 1s 66ms/step - loss: 5.5599e-07 - categorical_accuracy: 1.0000 - val_loss: 0.0012 - val_categorical_accuracy: 0.9905\n",
      "Epoch 62/170\n",
      "19/19 [==============================] - 1s 66ms/step - loss: 8.2964e-07 - categorical_accuracy: 1.0000 - val_loss: 0.0012 - val_categorical_accuracy: 0.9905\n",
      "Epoch 63/170\n",
      "19/19 [==============================] - 1s 66ms/step - loss: 5.0821e-07 - categorical_accuracy: 1.0000 - val_loss: 0.0012 - val_categorical_accuracy: 0.9905\n",
      "Epoch 64/170\n",
      "19/19 [==============================] - 1s 66ms/step - loss: 6.1703e-07 - categorical_accuracy: 1.0000 - val_loss: 0.0012 - val_categorical_accuracy: 0.9905\n",
      "Epoch 65/170\n",
      "19/19 [==============================] - 1s 65ms/step - loss: 6.9328e-07 - categorical_accuracy: 1.0000 - val_loss: 0.0012 - val_categorical_accuracy: 0.9905\n",
      "Epoch 66/170\n",
      "19/19 [==============================] - 1s 66ms/step - loss: 5.9011e-07 - categorical_accuracy: 1.0000 - val_loss: 0.0012 - val_categorical_accuracy: 0.9905\n",
      "Epoch 67/170\n",
      "19/19 [==============================] - 1s 71ms/step - loss: 3.7481e-07 - categorical_accuracy: 1.0000 - val_loss: 0.0012 - val_categorical_accuracy: 0.9905\n",
      "Epoch 68/170\n",
      "19/19 [==============================] - 1s 70ms/step - loss: 6.4815e-07 - categorical_accuracy: 1.0000 - val_loss: 0.0012 - val_categorical_accuracy: 0.9905\n",
      "Epoch 69/170\n",
      "19/19 [==============================] - 1s 66ms/step - loss: 5.4222e-07 - categorical_accuracy: 1.0000 - val_loss: 0.0012 - val_categorical_accuracy: 0.9905\n",
      "Epoch 70/170\n",
      "19/19 [==============================] - 1s 66ms/step - loss: 7.1547e-07 - categorical_accuracy: 1.0000 - val_loss: 0.0012 - val_categorical_accuracy: 0.9905\n",
      "Epoch 71/170\n",
      "19/19 [==============================] - 1s 66ms/step - loss: 4.4923e-07 - categorical_accuracy: 1.0000 - val_loss: 0.0012 - val_categorical_accuracy: 0.9905\n",
      "Epoch 72/170\n",
      "19/19 [==============================] - 1s 69ms/step - loss: 1.1559e-06 - categorical_accuracy: 1.0000 - val_loss: 0.0012 - val_categorical_accuracy: 0.9905\n",
      "Epoch 73/170\n",
      "19/19 [==============================] - 1s 63ms/step - loss: 4.1335e-07 - categorical_accuracy: 1.0000 - val_loss: 0.0012 - val_categorical_accuracy: 0.9905\n",
      "Epoch 74/170\n",
      "19/19 [==============================] - 1s 65ms/step - loss: 5.2683e-07 - categorical_accuracy: 1.0000 - val_loss: 0.0012 - val_categorical_accuracy: 0.9905\n",
      "Epoch 75/170\n",
      "19/19 [==============================] - 1s 64ms/step - loss: 4.1179e-07 - categorical_accuracy: 1.0000 - val_loss: 0.0012 - val_categorical_accuracy: 0.9905\n",
      "Epoch 76/170\n",
      "19/19 [==============================] - 1s 62ms/step - loss: 3.9092e-07 - categorical_accuracy: 1.0000 - val_loss: 0.0012 - val_categorical_accuracy: 0.9905\n",
      "Epoch 77/170\n",
      "19/19 [==============================] - 1s 65ms/step - loss: 6.2841e-07 - categorical_accuracy: 1.0000 - val_loss: 0.0012 - val_categorical_accuracy: 0.9905\n",
      "Epoch 78/170\n",
      "19/19 [==============================] - 1s 67ms/step - loss: 5.8636e-07 - categorical_accuracy: 1.0000 - val_loss: 0.0012 - val_categorical_accuracy: 0.9905\n",
      "Epoch 79/170\n",
      "19/19 [==============================] - 1s 65ms/step - loss: 4.9127e-07 - categorical_accuracy: 1.0000 - val_loss: 0.0012 - val_categorical_accuracy: 0.9905\n",
      "Epoch 80/170\n",
      "19/19 [==============================] - 1s 58ms/step - loss: 5.3780e-07 - categorical_accuracy: 1.0000 - val_loss: 0.0012 - val_categorical_accuracy: 0.9905\n",
      "Epoch 81/170\n",
      "19/19 [==============================] - 1s 61ms/step - loss: 5.3113e-07 - categorical_accuracy: 1.0000 - val_loss: 0.0012 - val_categorical_accuracy: 0.9905\n",
      "Epoch 82/170\n",
      "19/19 [==============================] - 1s 59ms/step - loss: 4.0085e-07 - categorical_accuracy: 1.0000 - val_loss: 0.0012 - val_categorical_accuracy: 0.9905\n",
      "Epoch 83/170\n",
      "19/19 [==============================] - 1s 59ms/step - loss: 3.2386e-07 - categorical_accuracy: 1.0000 - val_loss: 0.0012 - val_categorical_accuracy: 0.9905\n",
      "Epoch 84/170\n",
      "19/19 [==============================] - 1s 56ms/step - loss: 3.6239e-07 - categorical_accuracy: 1.0000 - val_loss: 0.0012 - val_categorical_accuracy: 0.9905\n",
      "Epoch 85/170\n",
      "19/19 [==============================] - 1s 56ms/step - loss: 4.5760e-07 - categorical_accuracy: 1.0000 - val_loss: 0.0012 - val_categorical_accuracy: 0.9905\n",
      "Epoch 86/170\n",
      "19/19 [==============================] - 1s 56ms/step - loss: 3.2524e-07 - categorical_accuracy: 1.0000 - val_loss: 0.0012 - val_categorical_accuracy: 0.9905\n",
      "Epoch 87/170\n",
      "19/19 [==============================] - 1s 56ms/step - loss: 3.6852e-07 - categorical_accuracy: 1.0000 - val_loss: 0.0012 - val_categorical_accuracy: 0.9905\n",
      "Epoch 88/170\n",
      "19/19 [==============================] - 1s 56ms/step - loss: 8.9982e-07 - categorical_accuracy: 1.0000 - val_loss: 0.0012 - val_categorical_accuracy: 0.9905\n",
      "Epoch 89/170\n",
      "19/19 [==============================] - 1s 56ms/step - loss: 3.0782e-07 - categorical_accuracy: 1.0000 - val_loss: 0.0012 - val_categorical_accuracy: 0.9905\n",
      "Epoch 90/170\n",
      "19/19 [==============================] - 1s 56ms/step - loss: 2.6835e-07 - categorical_accuracy: 1.0000 - val_loss: 0.0012 - val_categorical_accuracy: 0.9905\n",
      "Epoch 91/170\n",
      "19/19 [==============================] - 1s 56ms/step - loss: 4.5405e-07 - categorical_accuracy: 1.0000 - val_loss: 0.0012 - val_categorical_accuracy: 0.9905\n",
      "Epoch 92/170\n",
      "19/19 [==============================] - 1s 56ms/step - loss: 4.2678e-07 - categorical_accuracy: 1.0000 - val_loss: 0.0012 - val_categorical_accuracy: 0.9905\n",
      "Epoch 93/170\n",
      "19/19 [==============================] - 1s 56ms/step - loss: 3.0288e-07 - categorical_accuracy: 1.0000 - val_loss: 0.0012 - val_categorical_accuracy: 0.9905\n",
      "Epoch 94/170\n",
      "19/19 [==============================] - 1s 56ms/step - loss: 3.0049e-07 - categorical_accuracy: 1.0000 - val_loss: 0.0012 - val_categorical_accuracy: 0.9905\n",
      "Epoch 95/170\n",
      "19/19 [==============================] - 1s 56ms/step - loss: 3.0165e-07 - categorical_accuracy: 1.0000 - val_loss: 0.0012 - val_categorical_accuracy: 0.9905\n",
      "Epoch 96/170\n",
      "19/19 [==============================] - 1s 56ms/step - loss: 4.4666e-07 - categorical_accuracy: 1.0000 - val_loss: 0.0013 - val_categorical_accuracy: 0.9905\n"
     ]
    },
    {
     "name": "stdout",
     "output_type": "stream",
     "text": [
      "Epoch 97/170\n",
      "19/19 [==============================] - 1s 54ms/step - loss: 2.7014e-07 - categorical_accuracy: 1.0000 - val_loss: 0.0013 - val_categorical_accuracy: 0.9905\n",
      "Epoch 98/170\n",
      "19/19 [==============================] - 1s 54ms/step - loss: 3.0983e-07 - categorical_accuracy: 1.0000 - val_loss: 0.0013 - val_categorical_accuracy: 0.9905\n",
      "Epoch 99/170\n",
      "19/19 [==============================] - 1s 54ms/step - loss: 2.3268e-07 - categorical_accuracy: 1.0000 - val_loss: 0.0013 - val_categorical_accuracy: 0.9905\n",
      "Epoch 100/170\n",
      "19/19 [==============================] - 1s 54ms/step - loss: 2.7679e-07 - categorical_accuracy: 1.0000 - val_loss: 0.0013 - val_categorical_accuracy: 0.9905\n",
      "Epoch 101/170\n",
      "19/19 [==============================] - 1s 54ms/step - loss: 2.8608e-07 - categorical_accuracy: 1.0000 - val_loss: 0.0013 - val_categorical_accuracy: 0.9905\n",
      "Epoch 102/170\n",
      "19/19 [==============================] - 1s 54ms/step - loss: 2.5216e-07 - categorical_accuracy: 1.0000 - val_loss: 0.0013 - val_categorical_accuracy: 0.9905\n",
      "Epoch 103/170\n",
      "19/19 [==============================] - 1s 55ms/step - loss: 2.7832e-07 - categorical_accuracy: 1.0000 - val_loss: 0.0013 - val_categorical_accuracy: 0.9905\n",
      "Epoch 104/170\n",
      "19/19 [==============================] - 1s 55ms/step - loss: 2.0664e-07 - categorical_accuracy: 1.0000 - val_loss: 0.0013 - val_categorical_accuracy: 0.9905\n",
      "Epoch 105/170\n",
      "19/19 [==============================] - 1s 55ms/step - loss: 2.9654e-07 - categorical_accuracy: 1.0000 - val_loss: 0.0013 - val_categorical_accuracy: 0.9905\n",
      "Epoch 106/170\n",
      "19/19 [==============================] - 1s 55ms/step - loss: 3.1064e-07 - categorical_accuracy: 1.0000 - val_loss: 0.0013 - val_categorical_accuracy: 0.9905\n",
      "Epoch 107/170\n",
      "19/19 [==============================] - 1s 55ms/step - loss: 2.5029e-07 - categorical_accuracy: 1.0000 - val_loss: 0.0013 - val_categorical_accuracy: 0.9905\n",
      "Epoch 108/170\n",
      "19/19 [==============================] - 1s 54ms/step - loss: 3.7753e-07 - categorical_accuracy: 1.0000 - val_loss: 0.0013 - val_categorical_accuracy: 0.9905\n",
      "Epoch 109/170\n",
      "19/19 [==============================] - 1s 55ms/step - loss: 2.8079e-07 - categorical_accuracy: 1.0000 - val_loss: 0.0013 - val_categorical_accuracy: 0.9905\n",
      "Epoch 110/170\n",
      "19/19 [==============================] - 1s 56ms/step - loss: 2.3933e-07 - categorical_accuracy: 1.0000 - val_loss: 0.0013 - val_categorical_accuracy: 0.9905\n",
      "Epoch 111/170\n",
      "19/19 [==============================] - 1s 56ms/step - loss: 2.5893e-07 - categorical_accuracy: 1.0000 - val_loss: 0.0013 - val_categorical_accuracy: 0.9905\n",
      "Epoch 112/170\n",
      "19/19 [==============================] - 1s 54ms/step - loss: 1.8541e-07 - categorical_accuracy: 1.0000 - val_loss: 0.0013 - val_categorical_accuracy: 0.9905\n",
      "Epoch 113/170\n",
      "19/19 [==============================] - 1s 55ms/step - loss: 2.6158e-07 - categorical_accuracy: 1.0000 - val_loss: 0.0013 - val_categorical_accuracy: 0.9905\n",
      "Epoch 114/170\n",
      "19/19 [==============================] - 1s 54ms/step - loss: 2.0217e-07 - categorical_accuracy: 1.0000 - val_loss: 0.0013 - val_categorical_accuracy: 0.9905\n",
      "Epoch 115/170\n",
      "19/19 [==============================] - 1s 54ms/step - loss: 2.1839e-07 - categorical_accuracy: 1.0000 - val_loss: 0.0013 - val_categorical_accuracy: 0.9905\n",
      "Epoch 116/170\n",
      "19/19 [==============================] - 1s 58ms/step - loss: 2.2149e-07 - categorical_accuracy: 1.0000 - val_loss: 0.0013 - val_categorical_accuracy: 0.9905\n",
      "Epoch 117/170\n",
      "19/19 [==============================] - 1s 55ms/step - loss: 1.7354e-07 - categorical_accuracy: 1.0000 - val_loss: 0.0013 - val_categorical_accuracy: 0.9905\n",
      "Epoch 118/170\n",
      "19/19 [==============================] - 1s 54ms/step - loss: 2.5941e-07 - categorical_accuracy: 1.0000 - val_loss: 0.0013 - val_categorical_accuracy: 0.9905\n",
      "Epoch 119/170\n",
      "19/19 [==============================] - 1s 54ms/step - loss: 2.2204e-07 - categorical_accuracy: 1.0000 - val_loss: 0.0013 - val_categorical_accuracy: 0.9905\n",
      "Epoch 120/170\n",
      "19/19 [==============================] - 1s 54ms/step - loss: 1.8327e-07 - categorical_accuracy: 1.0000 - val_loss: 0.0013 - val_categorical_accuracy: 0.9905\n",
      "Epoch 121/170\n",
      "19/19 [==============================] - 1s 54ms/step - loss: 1.4359e-07 - categorical_accuracy: 1.0000 - val_loss: 0.0013 - val_categorical_accuracy: 0.9905\n",
      "Epoch 122/170\n",
      "19/19 [==============================] - 1s 55ms/step - loss: 2.4783e-07 - categorical_accuracy: 1.0000 - val_loss: 0.0013 - val_categorical_accuracy: 0.9905\n",
      "Epoch 123/170\n",
      "19/19 [==============================] - 1s 55ms/step - loss: 1.9746e-07 - categorical_accuracy: 1.0000 - val_loss: 0.0013 - val_categorical_accuracy: 0.9905\n",
      "Epoch 124/170\n",
      "19/19 [==============================] - 1s 55ms/step - loss: 2.1204e-07 - categorical_accuracy: 1.0000 - val_loss: 0.0013 - val_categorical_accuracy: 0.9905\n",
      "Epoch 125/170\n",
      "19/19 [==============================] - 1s 54ms/step - loss: 1.5304e-07 - categorical_accuracy: 1.0000 - val_loss: 0.0013 - val_categorical_accuracy: 0.9905\n",
      "Epoch 126/170\n",
      "19/19 [==============================] - 1s 54ms/step - loss: 2.2992e-07 - categorical_accuracy: 1.0000 - val_loss: 0.0013 - val_categorical_accuracy: 0.9905\n",
      "Epoch 127/170\n",
      "19/19 [==============================] - 1s 54ms/step - loss: 2.2764e-07 - categorical_accuracy: 1.0000 - val_loss: 0.0013 - val_categorical_accuracy: 0.9905\n",
      "Epoch 128/170\n",
      "19/19 [==============================] - 1s 58ms/step - loss: 1.7214e-07 - categorical_accuracy: 1.0000 - val_loss: 0.0013 - val_categorical_accuracy: 0.9905\n",
      "Epoch 129/170\n",
      "19/19 [==============================] - 1s 67ms/step - loss: 1.2603e-07 - categorical_accuracy: 1.0000 - val_loss: 0.0013 - val_categorical_accuracy: 0.9905\n",
      "Epoch 130/170\n",
      "19/19 [==============================] - 1s 57ms/step - loss: 1.2234e-07 - categorical_accuracy: 1.0000 - val_loss: 0.0013 - val_categorical_accuracy: 0.9905\n",
      "Epoch 131/170\n",
      "19/19 [==============================] - 1s 55ms/step - loss: 1.1845e-07 - categorical_accuracy: 1.0000 - val_loss: 0.0013 - val_categorical_accuracy: 0.9905\n",
      "Epoch 132/170\n",
      "19/19 [==============================] - 1s 55ms/step - loss: 1.9317e-07 - categorical_accuracy: 1.0000 - val_loss: 0.0013 - val_categorical_accuracy: 0.9905\n",
      "Epoch 133/170\n",
      "19/19 [==============================] - 1s 55ms/step - loss: 2.6887e-07 - categorical_accuracy: 1.0000 - val_loss: 0.0013 - val_categorical_accuracy: 0.9905\n",
      "Epoch 134/170\n",
      "19/19 [==============================] - 1s 56ms/step - loss: 2.1729e-07 - categorical_accuracy: 1.0000 - val_loss: 0.0013 - val_categorical_accuracy: 0.9905\n",
      "Epoch 135/170\n",
      "19/19 [==============================] - 1s 55ms/step - loss: 1.4836e-07 - categorical_accuracy: 1.0000 - val_loss: 0.0013 - val_categorical_accuracy: 0.9905\n",
      "Epoch 136/170\n",
      "19/19 [==============================] - 1s 55ms/step - loss: 1.5570e-07 - categorical_accuracy: 1.0000 - val_loss: 0.0013 - val_categorical_accuracy: 0.9905\n",
      "Epoch 137/170\n",
      "19/19 [==============================] - 1s 55ms/step - loss: 1.3795e-07 - categorical_accuracy: 1.0000 - val_loss: 0.0013 - val_categorical_accuracy: 0.9905\n",
      "Epoch 138/170\n",
      "19/19 [==============================] - 1s 55ms/step - loss: 1.9516e-07 - categorical_accuracy: 1.0000 - val_loss: 0.0014 - val_categorical_accuracy: 0.9905\n",
      "Epoch 139/170\n",
      "19/19 [==============================] - 1s 55ms/step - loss: 1.9148e-07 - categorical_accuracy: 1.0000 - val_loss: 0.0014 - val_categorical_accuracy: 0.9905\n",
      "Epoch 140/170\n",
      "19/19 [==============================] - 1s 55ms/step - loss: 1.0651e-07 - categorical_accuracy: 1.0000 - val_loss: 0.0014 - val_categorical_accuracy: 0.9905\n",
      "Epoch 141/170\n",
      "19/19 [==============================] - 1s 55ms/step - loss: 1.3658e-07 - categorical_accuracy: 1.0000 - val_loss: 0.0014 - val_categorical_accuracy: 0.9905\n",
      "Epoch 142/170\n",
      "19/19 [==============================] - 1s 55ms/step - loss: 1.7625e-07 - categorical_accuracy: 1.0000 - val_loss: 0.0014 - val_categorical_accuracy: 0.9905\n",
      "Epoch 143/170\n",
      "19/19 [==============================] - 1s 57ms/step - loss: 1.6199e-07 - categorical_accuracy: 1.0000 - val_loss: 0.0014 - val_categorical_accuracy: 0.9905\n",
      "Epoch 144/170\n",
      "19/19 [==============================] - 1s 56ms/step - loss: 1.9161e-07 - categorical_accuracy: 1.0000 - val_loss: 0.0014 - val_categorical_accuracy: 0.9905\n",
      "Epoch 145/170\n",
      "19/19 [==============================] - 1s 55ms/step - loss: 2.4517e-07 - categorical_accuracy: 1.0000 - val_loss: 0.0014 - val_categorical_accuracy: 0.9905\n",
      "Epoch 146/170\n",
      "19/19 [==============================] - 1s 55ms/step - loss: 1.4180e-07 - categorical_accuracy: 1.0000 - val_loss: 0.0014 - val_categorical_accuracy: 0.9905\n",
      "Epoch 147/170\n",
      "19/19 [==============================] - 1s 54ms/step - loss: 1.6457e-07 - categorical_accuracy: 1.0000 - val_loss: 0.0014 - val_categorical_accuracy: 0.9905\n",
      "Epoch 148/170\n",
      "19/19 [==============================] - 1s 54ms/step - loss: 1.7830e-07 - categorical_accuracy: 1.0000 - val_loss: 0.0014 - val_categorical_accuracy: 0.9905\n",
      "Epoch 149/170\n",
      "19/19 [==============================] - 1s 54ms/step - loss: 1.3764e-07 - categorical_accuracy: 1.0000 - val_loss: 0.0014 - val_categorical_accuracy: 0.9905\n",
      "Epoch 150/170\n",
      "19/19 [==============================] - 1s 54ms/step - loss: 1.5686e-07 - categorical_accuracy: 1.0000 - val_loss: 0.0014 - val_categorical_accuracy: 0.9905\n",
      "Epoch 151/170\n",
      "19/19 [==============================] - 1s 54ms/step - loss: 1.6187e-07 - categorical_accuracy: 1.0000 - val_loss: 0.0014 - val_categorical_accuracy: 0.9905\n",
      "Epoch 152/170\n",
      "19/19 [==============================] - 1s 54ms/step - loss: 1.0644e-07 - categorical_accuracy: 1.0000 - val_loss: 0.0014 - val_categorical_accuracy: 0.9905\n",
      "Epoch 153/170\n",
      "19/19 [==============================] - 1s 54ms/step - loss: 1.4225e-07 - categorical_accuracy: 1.0000 - val_loss: 0.0014 - val_categorical_accuracy: 0.9905\n",
      "Epoch 154/170\n",
      "19/19 [==============================] - 1s 54ms/step - loss: 1.1528e-07 - categorical_accuracy: 1.0000 - val_loss: 0.0014 - val_categorical_accuracy: 0.9905\n",
      "Epoch 155/170\n",
      "19/19 [==============================] - 1s 55ms/step - loss: 1.9543e-07 - categorical_accuracy: 1.0000 - val_loss: 0.0014 - val_categorical_accuracy: 0.9905\n",
      "Epoch 156/170\n",
      "19/19 [==============================] - 1s 55ms/step - loss: 1.2426e-07 - categorical_accuracy: 1.0000 - val_loss: 0.0014 - val_categorical_accuracy: 0.9905\n",
      "Epoch 157/170\n",
      "19/19 [==============================] - 1s 54ms/step - loss: 1.3249e-07 - categorical_accuracy: 1.0000 - val_loss: 0.0014 - val_categorical_accuracy: 0.9905\n",
      "Epoch 158/170\n",
      "19/19 [==============================] - 1s 54ms/step - loss: 1.2651e-07 - categorical_accuracy: 1.0000 - val_loss: 0.0014 - val_categorical_accuracy: 0.9905\n",
      "Epoch 159/170\n",
      "19/19 [==============================] - 1s 54ms/step - loss: 8.5869e-08 - categorical_accuracy: 1.0000 - val_loss: 0.0014 - val_categorical_accuracy: 0.9905\n",
      "Epoch 160/170\n",
      "19/19 [==============================] - 1s 55ms/step - loss: 1.0612e-07 - categorical_accuracy: 1.0000 - val_loss: 0.0014 - val_categorical_accuracy: 0.9905\n",
      "Epoch 161/170\n",
      "19/19 [==============================] - 1s 54ms/step - loss: 1.3484e-07 - categorical_accuracy: 1.0000 - val_loss: 0.0014 - val_categorical_accuracy: 0.9905\n",
      "Epoch 162/170\n",
      "19/19 [==============================] - 1s 54ms/step - loss: 7.2395e-08 - categorical_accuracy: 1.0000 - val_loss: 0.0014 - val_categorical_accuracy: 0.9905\n",
      "Epoch 163/170\n",
      "19/19 [==============================] - 1s 54ms/step - loss: 1.6643e-07 - categorical_accuracy: 1.0000 - val_loss: 0.0014 - val_categorical_accuracy: 0.9905\n",
      "Epoch 164/170\n",
      "19/19 [==============================] - 1s 54ms/step - loss: 1.6938e-07 - categorical_accuracy: 1.0000 - val_loss: 0.0014 - val_categorical_accuracy: 0.9905\n",
      "Epoch 165/170\n",
      "19/19 [==============================] - 1s 54ms/step - loss: 1.2746e-07 - categorical_accuracy: 1.0000 - val_loss: 0.0014 - val_categorical_accuracy: 0.9905\n",
      "Epoch 166/170\n",
      "19/19 [==============================] - 1s 54ms/step - loss: 8.0075e-08 - categorical_accuracy: 1.0000 - val_loss: 0.0014 - val_categorical_accuracy: 0.9905\n",
      "Epoch 167/170\n",
      "19/19 [==============================] - 1s 55ms/step - loss: 1.1633e-07 - categorical_accuracy: 1.0000 - val_loss: 0.0014 - val_categorical_accuracy: 0.9905\n",
      "Epoch 168/170\n",
      "19/19 [==============================] - 1s 54ms/step - loss: 9.3514e-08 - categorical_accuracy: 1.0000 - val_loss: 0.0014 - val_categorical_accuracy: 0.9905\n",
      "Epoch 169/170\n",
      "19/19 [==============================] - 1s 55ms/step - loss: 9.5166e-08 - categorical_accuracy: 1.0000 - val_loss: 0.0014 - val_categorical_accuracy: 0.9905\n",
      "Epoch 170/170\n",
      "19/19 [==============================] - 1s 54ms/step - loss: 8.4227e-08 - categorical_accuracy: 1.0000 - val_loss: 0.0014 - val_categorical_accuracy: 0.9905\n"
     ]
    }
   ],
   "source": [
    "history = model.fit(X_train, y_train, epochs=170,batch_size=32, callbacks=[tb_callback],validation_data=(X_val,y_val))"
   ]
  },
  {
   "cell_type": "code",
   "execution_count": 34,
   "metadata": {},
   "outputs": [
    {
     "data": {
      "image/png": "[encoded data removed]",
      "text/plain": [
       "<Figure size 1440x720 with 2 Axes>"
      ]
     },
     "metadata": {
      "needs_background": "light"
     },
     "output_type": "display_data"
    }
   ],
   "source": [
    "import matplotlib.pyplot as pyplot\n",
    "pyplot.figure(figsize=(20,10))\n",
    "pyplot.subplot(211)\n",
    "pyplot.title('Loss')\n",
    "pyplot.plot(history.history['loss'], label='train')\n",
    "pyplot.plot(history.history['val_loss'], label='validation')\n",
    "pyplot.legend()\n",
    "# plot accuracy during training\n",
    "pyplot.subplot(212)\n",
    "pyplot.title('Accuracy')\n",
    "pyplot.plot(history.history['categorical_accuracy'], label='train')\n",
    "pyplot.plot(history.history['val_categorical_accuracy'], label='validation')\n",
    "pyplot.legend()\n",
    "pyplot.show()"
   ]
  },
  {
   "cell_type": "markdown",
   "metadata": {},
   "source": [
    "# 8. Load data Test"
   ]
  },
  {
   "cell_type": "code",
   "execution_count": 37,
   "metadata": {},
   "outputs": [],
   "source": [
    "sequences_test, labels_test = [], []\n",
    "for action in actions_test:\n",
    "    for sequence in np.array(os.listdir(os.path.join(DATA_PATH_TEST, action))).astype(int):\n",
    "        window_test = []\n",
    "        for frame_num in range(sequence_length):\n",
    "            res_test = np.load(os.path.join(DATA_PATH_TEST, action, str(sequence), \"{}.npy\".format(frame_num)))\n",
    "            window_test.append(res_test)\n",
    "        sequences_test.append(window_test)\n",
    "        labels_test.append(label_map[action])"
   ]
  },
  {
   "cell_type": "code",
   "execution_count": 38,
   "metadata": {
    "scrolled": true
   },
   "outputs": [
    {
     "data": {
      "text/plain": [
       "(140, 30, 63)"
      ]
     },
     "execution_count": 38,
     "metadata": {},
     "output_type": "execute_result"
    }
   ],
   "source": [
    "X_test = np.array(sequences_test)\n",
    "X_test.shape"
   ]
  },
  {
   "cell_type": "code",
   "execution_count": 39,
   "metadata": {},
   "outputs": [
    {
     "data": {
      "text/plain": [
       "(140, 7)"
      ]
     },
     "execution_count": 39,
     "metadata": {},
     "output_type": "execute_result"
    }
   ],
   "source": [
    "y_test = to_categorical(labels_test).astype(int)\n",
    "y_test.shape"
   ]
  },
  {
   "cell_type": "markdown",
   "metadata": {},
   "source": [
    "# 9. Make Predictions"
   ]
  },
  {
   "cell_type": "code",
   "execution_count": 40,
   "metadata": {},
   "outputs": [],
   "source": [
    "res = model.predict(X_test)"
   ]
  },
  {
   "cell_type": "code",
   "execution_count": 41,
   "metadata": {},
   "outputs": [
    {
     "data": {
      "text/plain": [
       "'aw'"
      ]
     },
     "execution_count": 41,
     "metadata": {},
     "output_type": "execute_result"
    }
   ],
   "source": [
    "actions_test[np.argmax(res[2])]"
   ]
  },
  {
   "cell_type": "code",
   "execution_count": 42,
   "metadata": {},
   "outputs": [
    {
     "data": {
      "text/plain": [
       "'aw'"
      ]
     },
     "execution_count": 42,
     "metadata": {},
     "output_type": "execute_result"
    }
   ],
   "source": [
    "actions_test[np.argmax(y_test[2])]"
   ]
  },
  {
   "cell_type": "markdown",
   "metadata": {},
   "source": [
    "# 10. Save Weights"
   ]
  },
  {
   "cell_type": "code",
   "execution_count": 43,
   "metadata": {},
   "outputs": [],
   "source": [
    "model.save('Model_Papper_18_4.h5')"
   ]
  },
  {
   "cell_type": "code",
   "execution_count": 19,
   "metadata": {},
   "outputs": [],
   "source": [
    "del model"
   ]
  },
  {
   "cell_type": "code",
   "execution_count": 25,
   "metadata": {},
   "outputs": [
    {
     "ename": "ValueError",
     "evalue": "Cannot assign to variable dense/kernel:0 due to variable shape (3840, 12) and value shape (3840, 7) are incompatible",
     "output_type": "error",
     "traceback": [
      "\u001b[1;31m---------------------------------------------------------------------------\u001b[0m",
      "\u001b[1;31mValueError\u001b[0m                                Traceback (most recent call last)",
      "\u001b[1;32m~\\AppData\\Local\\Temp\\ipykernel_9312\\2856386571.py\u001b[0m in \u001b[0;36m<module>\u001b[1;34m\u001b[0m\n\u001b[1;32m----> 1\u001b[1;33m \u001b[0mmodel\u001b[0m\u001b[1;33m.\u001b[0m\u001b[0mload_weights\u001b[0m\u001b[1;33m(\u001b[0m\u001b[1;34m'Model_Papper_18_4.h5'\u001b[0m\u001b[1;33m)\u001b[0m\u001b[1;33m\u001b[0m\u001b[1;33m\u001b[0m\u001b[0m\n\u001b[0m",
      "\u001b[1;32m~\\anaconda3\\envs\\test_env\\lib\\site-packages\\tensorflow\\python\\keras\\engine\\training.py\u001b[0m in \u001b[0;36mload_weights\u001b[1;34m(self, filepath, by_name, skip_mismatch, options)\u001b[0m\n\u001b[0;32m   2354\u001b[0m               f, self.layers, skip_mismatch=skip_mismatch)\n\u001b[0;32m   2355\u001b[0m         \u001b[1;32melse\u001b[0m\u001b[1;33m:\u001b[0m\u001b[1;33m\u001b[0m\u001b[1;33m\u001b[0m\u001b[0m\n\u001b[1;32m-> 2356\u001b[1;33m           \u001b[0mhdf5_format\u001b[0m\u001b[1;33m.\u001b[0m\u001b[0mload_weights_from_hdf5_group\u001b[0m\u001b[1;33m(\u001b[0m\u001b[0mf\u001b[0m\u001b[1;33m,\u001b[0m \u001b[0mself\u001b[0m\u001b[1;33m.\u001b[0m\u001b[0mlayers\u001b[0m\u001b[1;33m)\u001b[0m\u001b[1;33m\u001b[0m\u001b[1;33m\u001b[0m\u001b[0m\n\u001b[0m\u001b[0;32m   2357\u001b[0m \u001b[1;33m\u001b[0m\u001b[0m\n\u001b[0;32m   2358\u001b[0m     \u001b[1;31m# Perform any layer defined finalization of the layer state.\u001b[0m\u001b[1;33m\u001b[0m\u001b[1;33m\u001b[0m\u001b[1;33m\u001b[0m\u001b[0m\n",
      "\u001b[1;32m~\\anaconda3\\envs\\test_env\\lib\\site-packages\\tensorflow\\python\\keras\\saving\\hdf5_format.py\u001b[0m in \u001b[0;36mload_weights_from_hdf5_group\u001b[1;34m(f, layers)\u001b[0m\n\u001b[0;32m    711\u001b[0m                        str(len(weight_values)) + ' elements.')\n\u001b[0;32m    712\u001b[0m     \u001b[0mweight_value_tuples\u001b[0m \u001b[1;33m+=\u001b[0m \u001b[0mzip\u001b[0m\u001b[1;33m(\u001b[0m\u001b[0msymbolic_weights\u001b[0m\u001b[1;33m,\u001b[0m \u001b[0mweight_values\u001b[0m\u001b[1;33m)\u001b[0m\u001b[1;33m\u001b[0m\u001b[1;33m\u001b[0m\u001b[0m\n\u001b[1;32m--> 713\u001b[1;33m   \u001b[0mbackend\u001b[0m\u001b[1;33m.\u001b[0m\u001b[0mbatch_set_value\u001b[0m\u001b[1;33m(\u001b[0m\u001b[0mweight_value_tuples\u001b[0m\u001b[1;33m)\u001b[0m\u001b[1;33m\u001b[0m\u001b[1;33m\u001b[0m\u001b[0m\n\u001b[0m\u001b[0;32m    714\u001b[0m \u001b[1;33m\u001b[0m\u001b[0m\n\u001b[0;32m    715\u001b[0m \u001b[1;33m\u001b[0m\u001b[0m\n",
      "\u001b[1;32m~\\anaconda3\\envs\\test_env\\lib\\site-packages\\tensorflow\\python\\util\\dispatch.py\u001b[0m in \u001b[0;36mwrapper\u001b[1;34m(*args, **kwargs)\u001b[0m\n\u001b[0;32m    204\u001b[0m     \u001b[1;34m\"\"\"Call target, and fall back on dispatchers if there is a TypeError.\"\"\"\u001b[0m\u001b[1;33m\u001b[0m\u001b[1;33m\u001b[0m\u001b[0m\n\u001b[0;32m    205\u001b[0m     \u001b[1;32mtry\u001b[0m\u001b[1;33m:\u001b[0m\u001b[1;33m\u001b[0m\u001b[1;33m\u001b[0m\u001b[0m\n\u001b[1;32m--> 206\u001b[1;33m       \u001b[1;32mreturn\u001b[0m \u001b[0mtarget\u001b[0m\u001b[1;33m(\u001b[0m\u001b[1;33m*\u001b[0m\u001b[0margs\u001b[0m\u001b[1;33m,\u001b[0m \u001b[1;33m**\u001b[0m\u001b[0mkwargs\u001b[0m\u001b[1;33m)\u001b[0m\u001b[1;33m\u001b[0m\u001b[1;33m\u001b[0m\u001b[0m\n\u001b[0m\u001b[0;32m    207\u001b[0m     \u001b[1;32mexcept\u001b[0m \u001b[1;33m(\u001b[0m\u001b[0mTypeError\u001b[0m\u001b[1;33m,\u001b[0m \u001b[0mValueError\u001b[0m\u001b[1;33m)\u001b[0m\u001b[1;33m:\u001b[0m\u001b[1;33m\u001b[0m\u001b[1;33m\u001b[0m\u001b[0m\n\u001b[0;32m    208\u001b[0m       \u001b[1;31m# Note: convert_to_eager_tensor currently raises a ValueError, not a\u001b[0m\u001b[1;33m\u001b[0m\u001b[1;33m\u001b[0m\u001b[1;33m\u001b[0m\u001b[0m\n",
      "\u001b[1;32m~\\anaconda3\\envs\\test_env\\lib\\site-packages\\tensorflow\\python\\keras\\backend.py\u001b[0m in \u001b[0;36mbatch_set_value\u001b[1;34m(tuples)\u001b[0m\n\u001b[0;32m   3809\u001b[0m   \u001b[1;32mif\u001b[0m \u001b[0mops\u001b[0m\u001b[1;33m.\u001b[0m\u001b[0mexecuting_eagerly_outside_functions\u001b[0m\u001b[1;33m(\u001b[0m\u001b[1;33m)\u001b[0m\u001b[1;33m:\u001b[0m\u001b[1;33m\u001b[0m\u001b[1;33m\u001b[0m\u001b[0m\n\u001b[0;32m   3810\u001b[0m     \u001b[1;32mfor\u001b[0m \u001b[0mx\u001b[0m\u001b[1;33m,\u001b[0m \u001b[0mvalue\u001b[0m \u001b[1;32min\u001b[0m \u001b[0mtuples\u001b[0m\u001b[1;33m:\u001b[0m\u001b[1;33m\u001b[0m\u001b[1;33m\u001b[0m\u001b[0m\n\u001b[1;32m-> 3811\u001b[1;33m       \u001b[0mx\u001b[0m\u001b[1;33m.\u001b[0m\u001b[0massign\u001b[0m\u001b[1;33m(\u001b[0m\u001b[0mnp\u001b[0m\u001b[1;33m.\u001b[0m\u001b[0masarray\u001b[0m\u001b[1;33m(\u001b[0m\u001b[0mvalue\u001b[0m\u001b[1;33m,\u001b[0m \u001b[0mdtype\u001b[0m\u001b[1;33m=\u001b[0m\u001b[0mdtype_numpy\u001b[0m\u001b[1;33m(\u001b[0m\u001b[0mx\u001b[0m\u001b[1;33m)\u001b[0m\u001b[1;33m)\u001b[0m\u001b[1;33m)\u001b[0m\u001b[1;33m\u001b[0m\u001b[1;33m\u001b[0m\u001b[0m\n\u001b[0m\u001b[0;32m   3812\u001b[0m   \u001b[1;32melse\u001b[0m\u001b[1;33m:\u001b[0m\u001b[1;33m\u001b[0m\u001b[1;33m\u001b[0m\u001b[0m\n\u001b[0;32m   3813\u001b[0m     \u001b[1;32mwith\u001b[0m \u001b[0mget_graph\u001b[0m\u001b[1;33m(\u001b[0m\u001b[1;33m)\u001b[0m\u001b[1;33m.\u001b[0m\u001b[0mas_default\u001b[0m\u001b[1;33m(\u001b[0m\u001b[1;33m)\u001b[0m\u001b[1;33m:\u001b[0m\u001b[1;33m\u001b[0m\u001b[1;33m\u001b[0m\u001b[0m\n",
      "\u001b[1;32m~\\anaconda3\\envs\\test_env\\lib\\site-packages\\tensorflow\\python\\ops\\resource_variable_ops.py\u001b[0m in \u001b[0;36massign\u001b[1;34m(self, value, use_locking, name, read_value)\u001b[0m\n\u001b[0;32m    900\u001b[0m             (\"Cannot assign to variable%s due to variable shape %s and value \"\n\u001b[0;32m    901\u001b[0m              \"shape %s are incompatible\") %\n\u001b[1;32m--> 902\u001b[1;33m             (tensor_name, self._shape, value_tensor.shape))\n\u001b[0m\u001b[0;32m    903\u001b[0m       assign_op = gen_resource_variable_ops.assign_variable_op(\n\u001b[0;32m    904\u001b[0m           self.handle, value_tensor, name=name)\n",
      "\u001b[1;31mValueError\u001b[0m: Cannot assign to variable dense/kernel:0 due to variable shape (3840, 12) and value shape (3840, 7) are incompatible"
     ]
    }
   ],
   "source": [
    "model.load_weights('Model_Papper_18_4.h5')"
   ]
  },
  {
   "cell_type": "markdown",
   "metadata": {},
   "source": [
    "# 11. Evaluation using Confusion Matrix and Accuracy"
   ]
  },
  {
   "cell_type": "code",
   "execution_count": 45,
   "metadata": {},
   "outputs": [],
   "source": [
    "from sklearn.metrics import multilabel_confusion_matrix, accuracy_score\n",
    "from sklearn.metrics import accuracy_score\n",
    "from sklearn.metrics import precision_score\n",
    "from sklearn.metrics import recall_score\n",
    "from sklearn.metrics import f1_score\n",
    "from sklearn.metrics import roc_auc_score\n",
    "from sklearn.metrics import confusion_matrix"
   ]
  },
  {
   "cell_type": "code",
   "execution_count": 46,
   "metadata": {},
   "outputs": [],
   "source": [
    "yhat = model.predict(X_test)"
   ]
  },
  {
   "cell_type": "code",
   "execution_count": 47,
   "metadata": {},
   "outputs": [],
   "source": [
    "ytrue = np.argmax(y_test, axis=1).tolist()\n",
    "yhat = np.argmax(yhat, axis=1).tolist()"
   ]
  },
  {
   "cell_type": "code",
   "execution_count": 48,
   "metadata": {},
   "outputs": [
    {
     "data": {
      "text/plain": [
       "array([[[120,   0],\n",
       "        [  0,  20]],\n",
       "\n",
       "       [[120,   0],\n",
       "        [  0,  20]],\n",
       "\n",
       "       [[119,   1],\n",
       "        [  0,  20]],\n",
       "\n",
       "       [[120,   0],\n",
       "        [  0,  20]],\n",
       "\n",
       "       [[120,   0],\n",
       "        [  1,  19]],\n",
       "\n",
       "       [[119,   1],\n",
       "        [  0,  20]],\n",
       "\n",
       "       [[120,   0],\n",
       "        [  1,  19]]], dtype=int64)"
      ]
     },
     "execution_count": 48,
     "metadata": {},
     "output_type": "execute_result"
    }
   ],
   "source": [
    "multilabel_confusion_matrix(ytrue, yhat)"
   ]
  },
  {
   "cell_type": "code",
   "execution_count": 49,
   "metadata": {
    "scrolled": true
   },
   "outputs": [
    {
     "data": {
      "text/plain": [
       "0.9857142857142858"
      ]
     },
     "execution_count": 49,
     "metadata": {},
     "output_type": "execute_result"
    }
   ],
   "source": [
    "accuracy_score(ytrue, yhat)"
   ]
  },
  {
   "cell_type": "code",
   "execution_count": 50,
   "metadata": {
    "scrolled": true
   },
   "outputs": [
    {
     "name": "stdout",
     "output_type": "stream",
     "text": [
      "Accuracy: 0.985714\n",
      "Precision: 0.986395\n",
      "Recall: 0.985714\n",
      "F1 score: 0.985705\n",
      "ROC AUC: 0.994583\n",
      "[[20  0  0  0  0  0  0]\n",
      " [ 0 20  0  0  0  0  0]\n",
      " [ 0  0 20  0  0  0  0]\n",
      " [ 0  0  0 20  0  0  0]\n",
      " [ 0  0  0  0 19  1  0]\n",
      " [ 0  0  0  0  0 20  0]\n",
      " [ 0  0  1  0  0  0 19]]\n"
     ]
    }
   ],
   "source": [
    "y_hat = model.predict(X_test)\n",
    "y_pred = np.argmax(y_hat, axis=1)\n",
    "y_test_label =  np.argmax(y_test, axis=1)\n",
    "\n",
    "\n",
    "# Tính accuracy: (tp + tn) / (p + n)\n",
    "accuracy = accuracy_score(y_test_label, y_pred)\n",
    "print('Accuracy: %f' % accuracy)\n",
    "# Tính precision tp / (tp + fp)\n",
    "precision = precision_score(y_test_label, y_pred, average='macro')\n",
    "print('Precision: %f' % precision)\n",
    "# Tính recall: tp / (tp + fn)\n",
    "recall = recall_score(y_test_label, y_pred, average='macro')\n",
    "print('Recall: %f' % recall)\n",
    "# Tính f1: 2 tp / (2 tp + fp + fn)\n",
    "f1 = f1_score(y_test_label, y_pred, average='macro')\n",
    "print('F1 score: %f' % f1)\n",
    "# Tính Area under ROC\n",
    "auc = roc_auc_score(y_test, y_hat, multi_class='ovr')\n",
    "print('ROC AUC: %f' % auc)\n",
    "# Tính confusion matrix\n",
    "matrix = confusion_matrix(y_test_label, y_pred)\n",
    "print(matrix)"
   ]
  },
  {
   "cell_type": "code",
   "execution_count": 51,
   "metadata": {},
   "outputs": [
    {
     "data": {
      "text/plain": [
       "<AxesSubplot:>"
      ]
     },
     "execution_count": 51,
     "metadata": {},
     "output_type": "execute_result"
    },
    {
     "data": {
      "image/png": "[encoded data removed]",
      "text/plain": [
       "<Figure size 720x504 with 2 Axes>"
      ]
     },
     "metadata": {
      "needs_background": "light"
     },
     "output_type": "display_data"
    }
   ],
   "source": [
    "import pandas as pd\n",
    "import seaborn as sn\n",
    "df_cm = pd.DataFrame(matrix, index = [i for i in \"0123456\"],\n",
    "                  columns = [i for i in \"0123456\"])\n",
    "pyplot.figure(figsize = (10,7))\n",
    "sn.heatmap(df_cm, annot=True)"
   ]
  },
  {
   "cell_type": "markdown",
   "metadata": {},
   "source": [
    "# 12. Test in Real Time"
   ]
  },
  {
   "cell_type": "code",
   "execution_count": 56,
   "metadata": {},
   "outputs": [],
   "source": [
    "from scipy import stats"
   ]
  },
  {
   "cell_type": "code",
   "execution_count": 14,
   "metadata": {},
   "outputs": [],
   "source": [
    "colors = [(245,117,16), (117,245,16), (16,117,245),(245,117,16), (117,245,16), (16,117,245),(245,117,16)]\n",
    "def prob_viz(res, actions, input_frame, colors):\n",
    "    output_frame = input_frame.copy()\n",
    "    for num, prob in enumerate(res):\n",
    "        cv2.rectangle(output_frame, (0,20+num*40), (int(prob*60), 50+num*40), colors[num], -1)\n",
    "        cv2.putText(output_frame, actions[num], (0, 35+num*40), cv2.FONT_HERSHEY_SIMPLEX, 1, (255,255,255), 2, cv2.LINE_AA)\n",
    "        \n",
    "    return output_frame"
   ]
  },
  {
   "cell_type": "markdown",
   "metadata": {},
   "source": [
    "# 13. Run follow YTB"
   ]
  },
  {
   "cell_type": "code",
   "execution_count": 15,
   "metadata": {},
   "outputs": [
    {
     "name": "stdout",
     "output_type": "stream",
     "text": [
      "<class 'mediapipe.python.solution_base.SolutionOutputs'>\n",
      "fps 1.180542999161239\n",
      "<class 'mediapipe.python.solution_base.SolutionOutputs'>\n",
      "fps 10.02716749463296\n",
      "<class 'mediapipe.python.solution_base.SolutionOutputs'>\n",
      "fps 10.464960890230666\n",
      "<class 'mediapipe.python.solution_base.SolutionOutputs'>\n",
      "fps 17.59178606180586\n",
      "<class 'mediapipe.python.solution_base.SolutionOutputs'>\n",
      "fps 18.37197710020631\n",
      "<class 'mediapipe.python.solution_base.SolutionOutputs'>\n",
      "fps 18.216778721703932\n",
      "<class 'mediapipe.python.solution_base.SolutionOutputs'>\n",
      "fps 18.85292280031464\n",
      "<class 'mediapipe.python.solution_base.SolutionOutputs'>\n",
      "fps 17.9057816028654\n",
      "<class 'mediapipe.python.solution_base.SolutionOutputs'>\n",
      "fps 17.180828011649673\n",
      "<class 'mediapipe.python.solution_base.SolutionOutputs'>\n",
      "fps 18.230318203352848\n",
      "<class 'mediapipe.python.solution_base.SolutionOutputs'>\n",
      "fps 18.22730769063626\n",
      "<class 'mediapipe.python.solution_base.SolutionOutputs'>\n",
      "fps 17.883488605112245\n",
      "<class 'mediapipe.python.solution_base.SolutionOutputs'>\n",
      "fps 18.90970077589977\n",
      "<class 'mediapipe.python.solution_base.SolutionOutputs'>\n",
      "fps 16.7109737002522\n",
      "<class 'mediapipe.python.solution_base.SolutionOutputs'>\n",
      "fps 18.514792220289753\n",
      "<class 'mediapipe.python.solution_base.SolutionOutputs'>\n",
      "fps 18.178013738704575\n",
      "<class 'mediapipe.python.solution_base.SolutionOutputs'>\n",
      "fps 18.383572571278297\n",
      "<class 'mediapipe.python.solution_base.SolutionOutputs'>\n",
      "fps 18.310220937796036\n",
      "<class 'mediapipe.python.solution_base.SolutionOutputs'>\n",
      "fps 12.848542773295103\n",
      "<class 'mediapipe.python.solution_base.SolutionOutputs'>\n",
      "fps 17.237881135464143\n",
      "<class 'mediapipe.python.solution_base.SolutionOutputs'>\n",
      "fps 18.55492638731597\n",
      "<class 'mediapipe.python.solution_base.SolutionOutputs'>\n",
      "fps 18.734858873399233\n",
      "<class 'mediapipe.python.solution_base.SolutionOutputs'>\n",
      "fps 18.410847302879066\n",
      "<class 'mediapipe.python.solution_base.SolutionOutputs'>\n",
      "fps 16.994886506373632\n",
      "<class 'mediapipe.python.solution_base.SolutionOutputs'>\n",
      "fps 18.554351817035677\n",
      "<class 'mediapipe.python.solution_base.SolutionOutputs'>\n",
      "fps 13.368214385884393\n",
      "<class 'mediapipe.python.solution_base.SolutionOutputs'>\n",
      "fps 16.652786380167388\n",
      "<class 'mediapipe.python.solution_base.SolutionOutputs'>\n",
      "fps 18.90654694289681\n",
      "<class 'mediapipe.python.solution_base.SolutionOutputs'>\n",
      "fps 17.887683384510407\n",
      "<class 'mediapipe.python.solution_base.SolutionOutputs'>\n"
     ]
    },
    {
     "ename": "NameError",
     "evalue": "name 'actions_test' is not defined",
     "output_type": "error",
     "traceback": [
      "\u001b[1;31m---------------------------------------------------------------------------\u001b[0m",
      "\u001b[1;31mNameError\u001b[0m                                 Traceback (most recent call last)",
      "\u001b[1;32m~\\AppData\\Local\\Temp\\ipykernel_11156\\1313055350.py\u001b[0m in \u001b[0;36m<module>\u001b[1;34m\u001b[0m\n\u001b[0;32m     30\u001b[0m         \u001b[1;32mif\u001b[0m \u001b[0mlen\u001b[0m\u001b[1;33m(\u001b[0m\u001b[0msequence\u001b[0m\u001b[1;33m)\u001b[0m \u001b[1;33m==\u001b[0m \u001b[1;36m30\u001b[0m\u001b[1;33m:\u001b[0m\u001b[1;33m\u001b[0m\u001b[1;33m\u001b[0m\u001b[0m\n\u001b[0;32m     31\u001b[0m             \u001b[0mres\u001b[0m \u001b[1;33m=\u001b[0m \u001b[0mmodel\u001b[0m\u001b[1;33m.\u001b[0m\u001b[0mpredict\u001b[0m\u001b[1;33m(\u001b[0m\u001b[0mnp\u001b[0m\u001b[1;33m.\u001b[0m\u001b[0mexpand_dims\u001b[0m\u001b[1;33m(\u001b[0m\u001b[0msequence\u001b[0m\u001b[1;33m,\u001b[0m \u001b[0maxis\u001b[0m\u001b[1;33m=\u001b[0m\u001b[1;36m0\u001b[0m\u001b[1;33m)\u001b[0m\u001b[1;33m)\u001b[0m\u001b[1;33m[\u001b[0m\u001b[1;36m0\u001b[0m\u001b[1;33m]\u001b[0m\u001b[1;33m\u001b[0m\u001b[1;33m\u001b[0m\u001b[0m\n\u001b[1;32m---> 32\u001b[1;33m             \u001b[0mprint\u001b[0m\u001b[1;33m(\u001b[0m\u001b[0mactions_test\u001b[0m\u001b[1;33m[\u001b[0m\u001b[0mnp\u001b[0m\u001b[1;33m.\u001b[0m\u001b[0margmax\u001b[0m\u001b[1;33m(\u001b[0m\u001b[0mres\u001b[0m\u001b[1;33m)\u001b[0m\u001b[1;33m]\u001b[0m\u001b[1;33m)\u001b[0m\u001b[1;33m\u001b[0m\u001b[1;33m\u001b[0m\u001b[0m\n\u001b[0m\u001b[0;32m     33\u001b[0m             \u001b[0mpredictions\u001b[0m\u001b[1;33m.\u001b[0m\u001b[0mappend\u001b[0m\u001b[1;33m(\u001b[0m\u001b[0mnp\u001b[0m\u001b[1;33m.\u001b[0m\u001b[0margmax\u001b[0m\u001b[1;33m(\u001b[0m\u001b[0mres\u001b[0m\u001b[1;33m)\u001b[0m\u001b[1;33m)\u001b[0m\u001b[1;33m\u001b[0m\u001b[1;33m\u001b[0m\u001b[0m\n\u001b[0;32m     34\u001b[0m \u001b[1;33m\u001b[0m\u001b[0m\n",
      "\u001b[1;31mNameError\u001b[0m: name 'actions_test' is not defined"
     ]
    }
   ],
   "source": [
    "import time\n",
    "# 1. New detection variables\n",
    "sequence = []\n",
    "sentence = []\n",
    "predictions = []\n",
    "threshold = 0.8\n",
    "count=[]\n",
    "\n",
    "cap = cv2.VideoCapture(0)\n",
    "# Set mediapipe model \n",
    "with mp_holistic.Holistic(min_detection_confidence=0.5, min_tracking_confidence=0.5) as holistic:\n",
    "    while cap.isOpened():\n",
    "        t = time.time()\n",
    "        # Read feed\n",
    "        ret, frame = cap.read()\n",
    "\n",
    "        # Make detections\n",
    "        image, results = mediapipe_detection(frame, holistic)\n",
    "        print(results)\n",
    "        \n",
    "        # Draw landmarks\n",
    "        draw_styled_landmarks(image, results)\n",
    "        \n",
    "        # 2. Prediction logic\n",
    "        keypoints = extract_keypoints(results)\n",
    "        sequence.append(keypoints)\n",
    "        count.append(keypoints)\n",
    "        sequence = sequence[-30:]\n",
    "        \n",
    "        if len(sequence) == 30:\n",
    "            res = model.predict(np.expand_dims(sequence, axis=0))[0]\n",
    "            print(actions_test[np.argmax(res)])\n",
    "            predictions.append(np.argmax(res))\n",
    "            \n",
    "            \n",
    "        #3. Viz logic\n",
    "            if np.unique(predictions[-20:])[0]==np.argmax(res): \n",
    "                if res[np.argmax(res)] > threshold: \n",
    "                    \n",
    "                    if len(sentence) > 0: \n",
    "                        if actions[np.argmax(res)] != sentence[-1]:\n",
    "                            sentence.append(actions[np.argmax(res)])\n",
    "                    else:\n",
    "                            sentence.append(actions[np.argmax(res)])\n",
    "\n",
    "            if len(sentence) > 6: \n",
    "                sentence = sentence[-6:]\n",
    "\n",
    "            # Viz probabilities\n",
    "            image = prob_viz(res, actions, image, colors)\n",
    "            \n",
    "        cv2.rectangle(image, (0,0), (640, 40), (245, 117, 16), -1)\n",
    "        cv2.putText(image, ' '.join(sentence), (3,30), \n",
    "                       cv2.FONT_HERSHEY_SIMPLEX, 1, (255, 255, 255), 2, cv2.LINE_AA)\n",
    "        \n",
    "        # Show to screen\n",
    "        cv2.imshow('OpenCV Feed', image)\n",
    "        print('fps', 1/(time.time()-t))\n",
    "        # Break gracefully\n",
    "        if cv2.waitKey(10) & 0xFF == ord('q'):\n",
    "            break\n",
    "    cap.release()\n",
    "    cv2.destroyAllWindows()"
   ]
  },
  {
   "cell_type": "code",
   "execution_count": 35,
   "metadata": {},
   "outputs": [
    {
     "data": {
      "text/plain": [
       "51"
      ]
     },
     "execution_count": 35,
     "metadata": {},
     "output_type": "execute_result"
    }
   ],
   "source": [
    "len(count)"
   ]
  },
  {
   "cell_type": "code",
   "execution_count": 30,
   "metadata": {},
   "outputs": [
    {
     "data": {
      "text/plain": [
       "30"
      ]
     },
     "execution_count": 30,
     "metadata": {},
     "output_type": "execute_result"
    }
   ],
   "source": [
    "len(sequence)"
   ]
  },
  {
   "cell_type": "code",
   "execution_count": 27,
   "metadata": {
    "scrolled": true
   },
   "outputs": [
    {
     "data": {
      "text/plain": [
       "6"
      ]
     },
     "execution_count": 27,
     "metadata": {},
     "output_type": "execute_result"
    }
   ],
   "source": [
    "np.unique(predictions[-10:])[0]\n"
   ]
  },
  {
   "cell_type": "code",
   "execution_count": 29,
   "metadata": {},
   "outputs": [
    {
     "data": {
      "text/plain": [
       "1.0"
      ]
     },
     "execution_count": 29,
     "metadata": {},
     "output_type": "execute_result"
    }
   ],
   "source": [
    "res[np.argmax(res)]"
   ]
  },
  {
   "cell_type": "code",
   "execution_count": 28,
   "metadata": {},
   "outputs": [
    {
     "data": {
      "text/plain": [
       "['ow', 'nothing', 'ow', 'nothing', 'ow', 'nothing']"
      ]
     },
     "execution_count": 28,
     "metadata": {},
     "output_type": "execute_result"
    }
   ],
   "source": [
    "sentence"
   ]
  },
  {
   "cell_type": "markdown",
   "metadata": {},
   "source": [
    "# 14. Improve Running"
   ]
  },
  {
   "cell_type": "code",
   "execution_count": 16,
   "metadata": {},
   "outputs": [],
   "source": [
    "def draw_class_on_image(label,img):\n",
    "    font = cv2.FONT_HERSHEY_SIMPLEX\n",
    "    bottomLeftCornerOfText = (120,200)\n",
    "    fontScale = 5\n",
    "    fontColor = (20,20,200)\n",
    "    thichkness=8\n",
    "    lineType=2\n",
    "    cv2.putText(img,label,\n",
    "               bottomLeftCornerOfText,\n",
    "               font,\n",
    "               fontScale,\n",
    "               fontColor,\n",
    "               thichkness,\n",
    "               lineType)\n",
    "    return img"
   ]
  },
  {
   "cell_type": "code",
   "execution_count": 17,
   "metadata": {},
   "outputs": [
    {
     "name": "stdout",
     "output_type": "stream",
     "text": [
      "<class 'mediapipe.python.solution_base.SolutionOutputs'>\n",
      "fps 1.8289342237513109\n",
      "<class 'mediapipe.python.solution_base.SolutionOutputs'>\n",
      "fps 17.275297373883816\n",
      "<class 'mediapipe.python.solution_base.SolutionOutputs'>\n",
      "fps 18.901775574583144\n",
      "<class 'mediapipe.python.solution_base.SolutionOutputs'>\n",
      "fps 17.244614018353452\n",
      "<class 'mediapipe.python.solution_base.SolutionOutputs'>\n",
      "fps 17.88592896466143\n",
      "<class 'mediapipe.python.solution_base.SolutionOutputs'>\n",
      "fps 17.928206881812354\n",
      "<class 'mediapipe.python.solution_base.SolutionOutputs'>\n",
      "fps 17.268113943176626\n",
      "<class 'mediapipe.python.solution_base.SolutionOutputs'>\n",
      "fps 17.907998667884925\n",
      "<class 'mediapipe.python.solution_base.SolutionOutputs'>\n",
      "fps 18.209897929501455\n",
      "<class 'mediapipe.python.solution_base.SolutionOutputs'>\n",
      "fps 17.59097447941787\n",
      "<class 'mediapipe.python.solution_base.SolutionOutputs'>\n",
      "fps 18.902201491696523\n",
      "<class 'mediapipe.python.solution_base.SolutionOutputs'>\n",
      "fps 18.038155201183535\n",
      "<class 'mediapipe.python.solution_base.SolutionOutputs'>\n",
      "fps 17.883946121801568\n",
      "<class 'mediapipe.python.solution_base.SolutionOutputs'>\n",
      "fps 14.296537925345714\n",
      "<class 'mediapipe.python.solution_base.SolutionOutputs'>\n",
      "fps 18.399378835667818\n",
      "<class 'mediapipe.python.solution_base.SolutionOutputs'>\n",
      "fps 18.302949903997206\n",
      "<class 'mediapipe.python.solution_base.SolutionOutputs'>\n",
      "fps 19.223084361866437\n",
      "<class 'mediapipe.python.solution_base.SolutionOutputs'>\n",
      "fps 18.51111513220321\n",
      "<class 'mediapipe.python.solution_base.SolutionOutputs'>\n",
      "fps 13.68692689739791\n",
      "<class 'mediapipe.python.solution_base.SolutionOutputs'>\n",
      "fps 18.20294333366606\n",
      "<class 'mediapipe.python.solution_base.SolutionOutputs'>\n",
      "fps 18.567082779991146\n",
      "<class 'mediapipe.python.solution_base.SolutionOutputs'>\n",
      "fps 17.895620712018296\n",
      "<class 'mediapipe.python.solution_base.SolutionOutputs'>\n",
      "fps 18.18715717265273\n",
      "<class 'mediapipe.python.solution_base.SolutionOutputs'>\n",
      "fps 18.90203112254785\n",
      "<class 'mediapipe.python.solution_base.SolutionOutputs'>\n",
      "fps 19.211285926943777\n",
      "<class 'mediapipe.python.solution_base.SolutionOutputs'>\n",
      "fps 18.85800867747229\n",
      "<class 'mediapipe.python.solution_base.SolutionOutputs'>\n",
      "fps 18.545573526940867\n",
      "<class 'mediapipe.python.solution_base.SolutionOutputs'>\n",
      "fps 17.257882544633123\n",
      "<class 'mediapipe.python.solution_base.SolutionOutputs'>\n",
      "fps 18.430587108312498\n",
      "<class 'mediapipe.python.solution_base.SolutionOutputs'>\n",
      "nothing\n",
      "fps 8.177545549370741\n",
      "<class 'mediapipe.python.solution_base.SolutionOutputs'>\n",
      "fps 18.53934352319239\n",
      "<class 'mediapipe.python.solution_base.SolutionOutputs'>\n",
      "fps 18.88917711485805\n",
      "<class 'mediapipe.python.solution_base.SolutionOutputs'>\n",
      "fps 18.51863429451943\n",
      "<class 'mediapipe.python.solution_base.SolutionOutputs'>\n",
      "fps 18.229605097313133\n",
      "<class 'mediapipe.python.solution_base.SolutionOutputs'>\n",
      "fps 18.234994391645724\n",
      "<class 'mediapipe.python.solution_base.SolutionOutputs'>\n",
      "fps 18.50564306198985\n",
      "<class 'mediapipe.python.solution_base.SolutionOutputs'>\n",
      "fps 12.854725163583984\n",
      "<class 'mediapipe.python.solution_base.SolutionOutputs'>\n",
      "fps 13.900206797815366\n",
      "<class 'mediapipe.python.solution_base.SolutionOutputs'>\n",
      "fps 13.370089382483073\n",
      "<class 'mediapipe.python.solution_base.SolutionOutputs'>\n",
      "fps 13.689830635711745\n",
      "<class 'mediapipe.python.solution_base.SolutionOutputs'>\n",
      "fps 11.642920790017904\n",
      "<class 'mediapipe.python.solution_base.SolutionOutputs'>\n",
      "fps 13.382246995274757\n",
      "<class 'mediapipe.python.solution_base.SolutionOutputs'>\n",
      "fps 13.662272515545654\n",
      "<class 'mediapipe.python.solution_base.SolutionOutputs'>\n",
      "fps 13.69805713315284\n",
      "<class 'mediapipe.python.solution_base.SolutionOutputs'>\n",
      "fps 12.758649640143334\n",
      "<class 'mediapipe.python.solution_base.SolutionOutputs'>\n",
      "fps 13.546399677028663\n",
      "<class 'mediapipe.python.solution_base.SolutionOutputs'>\n",
      "fps 13.525475324407296\n",
      "<class 'mediapipe.python.solution_base.SolutionOutputs'>\n",
      "fps 13.19374270606258\n",
      "<class 'mediapipe.python.solution_base.SolutionOutputs'>\n",
      "fps 13.528441858364834\n",
      "<class 'mediapipe.python.solution_base.SolutionOutputs'>\n",
      "fps 9.907508279279833\n",
      "<class 'mediapipe.python.solution_base.SolutionOutputs'>\n",
      "fps 13.310982827728251\n",
      "<class 'mediapipe.python.solution_base.SolutionOutputs'>\n",
      "fps 13.29398042497084\n",
      "<class 'mediapipe.python.solution_base.SolutionOutputs'>\n",
      "fps 11.650488457297138\n",
      "<class 'mediapipe.python.solution_base.SolutionOutputs'>\n",
      "fps 13.187188540490915\n",
      "<class 'mediapipe.python.solution_base.SolutionOutputs'>\n",
      "fps 13.176044834259002\n",
      "<class 'mediapipe.python.solution_base.SolutionOutputs'>\n",
      "fps 12.691398070708416\n",
      "<class 'mediapipe.python.solution_base.SolutionOutputs'>\n",
      "fps 13.002045953352264\n",
      "<class 'mediapipe.python.solution_base.SolutionOutputs'>\n",
      "fps 11.375247476418549\n",
      "<class 'mediapipe.python.solution_base.SolutionOutputs'>\n",
      "fps 13.207078531393664\n",
      "<class 'mediapipe.python.solution_base.SolutionOutputs'>\n",
      "fps 13.17819753924267\n",
      "<class 'mediapipe.python.solution_base.SolutionOutputs'>\n",
      "fps 13.352765706827117\n",
      "<class 'mediapipe.python.solution_base.SolutionOutputs'>\n",
      "fps 13.0674260220454\n",
      "<class 'mediapipe.python.solution_base.SolutionOutputs'>\n",
      "fps 13.261195634303348\n",
      "<class 'mediapipe.python.solution_base.SolutionOutputs'>\n",
      "fps 13.176044834259002\n",
      "<class 'mediapipe.python.solution_base.SolutionOutputs'>\n",
      "fps 13.192622228932336\n",
      "<class 'mediapipe.python.solution_base.SolutionOutputs'>\n",
      "fps 13.003859950456219\n",
      "<class 'mediapipe.python.solution_base.SolutionOutputs'>\n",
      "fps 13.538529074740563\n",
      "<class 'mediapipe.python.solution_base.SolutionOutputs'>\n",
      "fps 13.081527502276781\n",
      "<class 'mediapipe.python.solution_base.SolutionOutputs'>\n",
      "fps 12.941108954758768\n",
      "<class 'mediapipe.python.solution_base.SolutionOutputs'>\n",
      "fps 13.420269729790263\n",
      "<class 'mediapipe.python.solution_base.SolutionOutputs'>\n",
      "fps 12.37783601293765\n",
      "<class 'mediapipe.python.solution_base.SolutionOutputs'>\n",
      "fps 13.164424106035925\n",
      "<class 'mediapipe.python.solution_base.SolutionOutputs'>\n",
      "fps 13.338540308475116\n",
      "<class 'mediapipe.python.solution_base.SolutionOutputs'>\n",
      "fps 13.286358236850024\n",
      "<class 'mediapipe.python.solution_base.SolutionOutputs'>\n",
      "fps 13.224109392094485\n",
      "<class 'mediapipe.python.solution_base.SolutionOutputs'>\n",
      "fps 13.185944814187224\n",
      "<class 'mediapipe.python.solution_base.SolutionOutputs'>\n",
      "fps 12.85401605256464\n",
      "<class 'mediapipe.python.solution_base.SolutionOutputs'>\n",
      "fps 11.121669243150222\n",
      "<class 'mediapipe.python.solution_base.SolutionOutputs'>\n",
      "fps 13.196108782924957\n",
      "<class 'mediapipe.python.solution_base.SolutionOutputs'>\n",
      "aw\n",
      "fps 7.5231858400730385\n",
      "<class 'mediapipe.python.solution_base.SolutionOutputs'>\n",
      "fps 13.020774608535843\n",
      "<class 'mediapipe.python.solution_base.SolutionOutputs'>\n",
      "fps 13.020208730419883\n",
      "<class 'mediapipe.python.solution_base.SolutionOutputs'>\n",
      "fps 10.87604694460723\n",
      "<class 'mediapipe.python.solution_base.SolutionOutputs'>\n",
      "fps 12.84366406790664\n",
      "<class 'mediapipe.python.solution_base.SolutionOutputs'>\n",
      "fps 13.274416161079094\n",
      "<class 'mediapipe.python.solution_base.SolutionOutputs'>\n",
      "fps 13.548631345009595\n",
      "<class 'mediapipe.python.solution_base.SolutionOutputs'>\n",
      "fps 13.223817540939157\n",
      "<class 'mediapipe.python.solution_base.SolutionOutputs'>\n",
      "fps 13.18532303900611\n",
      "<class 'mediapipe.python.solution_base.SolutionOutputs'>\n",
      "fps 13.490195069391955\n",
      "<class 'mediapipe.python.solution_base.SolutionOutputs'>\n",
      "fps 13.335868469665801\n",
      "<class 'mediapipe.python.solution_base.SolutionOutputs'>\n",
      "fps 11.65845482467722\n",
      "<class 'mediapipe.python.solution_base.SolutionOutputs'>\n",
      "fps 13.317491514445287\n",
      "<class 'mediapipe.python.solution_base.SolutionOutputs'>\n",
      "fps 13.371794381320377\n",
      "<class 'mediapipe.python.solution_base.SolutionOutputs'>\n",
      "fps 13.020612924055033\n",
      "<class 'mediapipe.python.solution_base.SolutionOutputs'>\n",
      "fps 12.219100501663473\n",
      "<class 'mediapipe.python.solution_base.SolutionOutputs'>\n",
      "fps 13.146845957340103\n",
      "<class 'mediapipe.python.solution_base.SolutionOutputs'>\n",
      "fps 10.134865615236475\n",
      "<class 'mediapipe.python.solution_base.SolutionOutputs'>\n",
      "fps 12.203173642589888\n",
      "<class 'mediapipe.python.solution_base.SolutionOutputs'>\n",
      "fps 13.351448052816206\n",
      "<class 'mediapipe.python.solution_base.SolutionOutputs'>\n",
      "fps 13.03408691869047\n",
      "<class 'mediapipe.python.solution_base.SolutionOutputs'>\n",
      "fps 12.07897707637369\n",
      "<class 'mediapipe.python.solution_base.SolutionOutputs'>\n",
      "fps 13.357868755871909\n",
      "<class 'mediapipe.python.solution_base.SolutionOutputs'>\n",
      "fps 11.796531609825793\n",
      "<class 'mediapipe.python.solution_base.SolutionOutputs'>\n",
      "fps 14.09272164020133\n",
      "<class 'mediapipe.python.solution_base.SolutionOutputs'>\n",
      "fps 13.897719666796997\n"
     ]
    },
    {
     "name": "stdout",
     "output_type": "stream",
     "text": [
      "<class 'mediapipe.python.solution_base.SolutionOutputs'>\n",
      "fps 13.363997565723862\n",
      "<class 'mediapipe.python.solution_base.SolutionOutputs'>\n",
      "fps 13.342401521826956\n",
      "<class 'mediapipe.python.solution_base.SolutionOutputs'>\n",
      "fps 13.10617607999375\n",
      "<class 'mediapipe.python.solution_base.SolutionOutputs'>\n",
      "fps 13.01733967704192\n",
      "<class 'mediapipe.python.solution_base.SolutionOutputs'>\n",
      "fps 13.189344888634526\n",
      "<class 'mediapipe.python.solution_base.SolutionOutputs'>\n",
      "fps 12.981723528519652\n",
      "<class 'mediapipe.python.solution_base.SolutionOutputs'>\n",
      "fps 13.194074735838788\n",
      "<class 'mediapipe.python.solution_base.SolutionOutputs'>\n",
      "fps 13.506920426367822\n",
      "<class 'mediapipe.python.solution_base.SolutionOutputs'>\n",
      "fps 13.533112422522578\n",
      "<class 'mediapipe.python.solution_base.SolutionOutputs'>\n",
      "fps 13.541719938527502\n",
      "<class 'mediapipe.python.solution_base.SolutionOutputs'>\n",
      "fps 13.092430102290853\n",
      "<class 'mediapipe.python.solution_base.SolutionOutputs'>\n",
      "fps 13.198974116906616\n",
      "<class 'mediapipe.python.solution_base.SolutionOutputs'>\n",
      "fps 12.573909081097934\n",
      "<class 'mediapipe.python.solution_base.SolutionOutputs'>\n",
      "fps 10.968913204369464\n",
      "<class 'mediapipe.python.solution_base.SolutionOutputs'>\n",
      "fps 13.28265557853268\n",
      "<class 'mediapipe.python.solution_base.SolutionOutputs'>\n",
      "fps 13.117242889086958\n",
      "<class 'mediapipe.python.solution_base.SolutionOutputs'>\n",
      "fps 13.172817095155242\n",
      "<class 'mediapipe.python.solution_base.SolutionOutputs'>\n",
      "fps 13.166903678868872\n",
      "<class 'mediapipe.python.solution_base.SolutionOutputs'>\n",
      "fps 13.02121926156349\n",
      "<class 'mediapipe.python.solution_base.SolutionOutputs'>\n",
      "fps 13.211862725024806\n",
      "<class 'mediapipe.python.solution_base.SolutionOutputs'>\n",
      "fps 13.082017117049679\n",
      "<class 'mediapipe.python.solution_base.SolutionOutputs'>\n",
      "fps 13.081813106440315\n",
      "<class 'mediapipe.python.solution_base.SolutionOutputs'>\n",
      "fps 13.173230819482656\n",
      "<class 'mediapipe.python.solution_base.SolutionOutputs'>\n",
      "fps 12.855552558664149\n",
      "<class 'mediapipe.python.solution_base.SolutionOutputs'>\n",
      "ee\n",
      "fps 7.211441186483224\n",
      "<class 'mediapipe.python.solution_base.SolutionOutputs'>\n",
      "fps 13.039030319610287\n",
      "<class 'mediapipe.python.solution_base.SolutionOutputs'>\n",
      "fps 12.904081689161542\n",
      "<class 'mediapipe.python.solution_base.SolutionOutputs'>\n",
      "fps 13.024737133026527\n",
      "<class 'mediapipe.python.solution_base.SolutionOutputs'>\n",
      "fps 13.330739843754966\n",
      "<class 'mediapipe.python.solution_base.SolutionOutputs'>\n",
      "fps 13.207702360146742\n",
      "<class 'mediapipe.python.solution_base.SolutionOutputs'>\n",
      "fps 13.212070812070811\n",
      "<class 'mediapipe.python.solution_base.SolutionOutputs'>\n",
      "fps 13.343717390751063\n",
      "<class 'mediapipe.python.solution_base.SolutionOutputs'>\n",
      "fps 13.187934888897972\n",
      "<class 'mediapipe.python.solution_base.SolutionOutputs'>\n",
      "fps 13.509443685742998\n",
      "<class 'mediapipe.python.solution_base.SolutionOutputs'>\n",
      "fps 12.677281684862114\n",
      "<class 'mediapipe.python.solution_base.SolutionOutputs'>\n",
      "fps 13.548543814766003\n",
      "<class 'mediapipe.python.solution_base.SolutionOutputs'>\n",
      "fps 13.185986267951007\n",
      "<class 'mediapipe.python.solution_base.SolutionOutputs'>\n",
      "fps 13.165911737655106\n",
      "<class 'mediapipe.python.solution_base.SolutionOutputs'>\n",
      "fps 13.199264872485587\n",
      "<class 'mediapipe.python.solution_base.SolutionOutputs'>\n",
      "fps 13.49874806094272\n",
      "<class 'mediapipe.python.solution_base.SolutionOutputs'>\n",
      "fps 13.340619145613404\n",
      "<class 'mediapipe.python.solution_base.SolutionOutputs'>\n",
      "fps 13.172155190282078\n",
      "<class 'mediapipe.python.solution_base.SolutionOutputs'>\n",
      "fps 13.341213218103801\n",
      "<class 'mediapipe.python.solution_base.SolutionOutputs'>\n",
      "fps 12.997573590249738\n",
      "<class 'mediapipe.python.solution_base.SolutionOutputs'>\n",
      "fps 13.023402544254314\n",
      "<class 'mediapipe.python.solution_base.SolutionOutputs'>\n",
      "fps 13.24189489968271\n",
      "<class 'mediapipe.python.solution_base.SolutionOutputs'>\n",
      "fps 13.008457675953466\n",
      "<class 'mediapipe.python.solution_base.SolutionOutputs'>\n",
      "fps 12.81544830957728\n",
      "<class 'mediapipe.python.solution_base.SolutionOutputs'>\n",
      "fps 13.513752807106288\n",
      "<class 'mediapipe.python.solution_base.SolutionOutputs'>\n",
      "fps 13.522946073342318\n",
      "<class 'mediapipe.python.solution_base.SolutionOutputs'>\n",
      "fps 13.03732806987551\n",
      "<class 'mediapipe.python.solution_base.SolutionOutputs'>\n",
      "fps 12.526218335812114\n",
      "<class 'mediapipe.python.solution_base.SolutionOutputs'>\n",
      "fps 13.341128347365842\n",
      "<class 'mediapipe.python.solution_base.SolutionOutputs'>\n",
      "fps 13.192746716993001\n",
      "<class 'mediapipe.python.solution_base.SolutionOutputs'>\n",
      "fps 13.171493351924079\n",
      "<class 'mediapipe.python.solution_base.SolutionOutputs'>\n",
      "fps 13.540801864711561\n",
      "<class 'mediapipe.python.solution_base.SolutionOutputs'>\n",
      "fps 13.751049941478671\n",
      "<class 'mediapipe.python.solution_base.SolutionOutputs'>\n",
      "fps 13.365445466625454\n",
      "<class 'mediapipe.python.solution_base.SolutionOutputs'>\n",
      "fps 13.009385681407915\n",
      "<class 'mediapipe.python.solution_base.SolutionOutputs'>\n",
      "fps 12.944863323385173\n",
      "<class 'mediapipe.python.solution_base.SolutionOutputs'>\n",
      "fps 13.367745718902484\n",
      "<class 'mediapipe.python.solution_base.SolutionOutputs'>\n",
      "fps 13.212320525178452\n",
      "<class 'mediapipe.python.solution_base.SolutionOutputs'>\n",
      "fps 13.733759876359278\n",
      "<class 'mediapipe.python.solution_base.SolutionOutputs'>\n",
      "fps 13.89380654094467\n",
      "<class 'mediapipe.python.solution_base.SolutionOutputs'>\n",
      "fps 13.33680137110442\n",
      "<class 'mediapipe.python.solution_base.SolutionOutputs'>\n",
      "fps 12.844136038756224\n",
      "<class 'mediapipe.python.solution_base.SolutionOutputs'>\n",
      "fps 12.840086084180042\n",
      "<class 'mediapipe.python.solution_base.SolutionOutputs'>\n",
      "fps 12.630820702926199\n",
      "<class 'mediapipe.python.solution_base.SolutionOutputs'>\n",
      "fps 13.192248778846123\n",
      "<class 'mediapipe.python.solution_base.SolutionOutputs'>\n",
      "fps 13.347029435163087\n",
      "<class 'mediapipe.python.solution_base.SolutionOutputs'>\n",
      "fps 13.522597285359641\n",
      "<class 'mediapipe.python.solution_base.SolutionOutputs'>\n",
      "fps 13.925034693864\n",
      "<class 'mediapipe.python.solution_base.SolutionOutputs'>\n",
      "fps 13.169218789737922\n",
      "<class 'mediapipe.python.solution_base.SolutionOutputs'>\n",
      "fps 13.176996905483735\n",
      "<class 'mediapipe.python.solution_base.SolutionOutputs'>\n",
      "ee\n",
      "fps 7.572080293617997\n",
      "<class 'mediapipe.python.solution_base.SolutionOutputs'>\n",
      "fps 12.86320115312663\n",
      "<class 'mediapipe.python.solution_base.SolutionOutputs'>\n",
      "fps 12.850196078431372\n",
      "<class 'mediapipe.python.solution_base.SolutionOutputs'>\n",
      "fps 13.003859950456219\n",
      "<class 'mediapipe.python.solution_base.SolutionOutputs'>\n",
      "fps 13.3495782806582\n",
      "<class 'mediapipe.python.solution_base.SolutionOutputs'>\n",
      "fps 12.715021068905932\n",
      "<class 'mediapipe.python.solution_base.SolutionOutputs'>\n",
      "fps 12.524871744336744\n",
      "<class 'mediapipe.python.solution_base.SolutionOutputs'>\n",
      "fps 13.504224191221924\n",
      "<class 'mediapipe.python.solution_base.SolutionOutputs'>\n",
      "fps 12.814939290799211\n",
      "<class 'mediapipe.python.solution_base.SolutionOutputs'>\n",
      "fps 12.204061324309462\n",
      "<class 'mediapipe.python.solution_base.SolutionOutputs'>\n",
      "fps 11.782679536592767\n",
      "<class 'mediapipe.python.solution_base.SolutionOutputs'>\n",
      "fps 11.946895143258354\n",
      "<class 'mediapipe.python.solution_base.SolutionOutputs'>\n",
      "fps 13.174968745484586\n",
      "<class 'mediapipe.python.solution_base.SolutionOutputs'>\n",
      "fps 13.35042811216857\n",
      "<class 'mediapipe.python.solution_base.SolutionOutputs'>\n",
      "fps 13.367745718902484\n",
      "<class 'mediapipe.python.solution_base.SolutionOutputs'>\n",
      "fps 13.352468149317781\n",
      "<class 'mediapipe.python.solution_base.SolutionOutputs'>\n",
      "fps 11.874077093808035\n",
      "<class 'mediapipe.python.solution_base.SolutionOutputs'>\n",
      "fps 9.99950888184794\n",
      "<class 'mediapipe.python.solution_base.SolutionOutputs'>\n",
      "fps 13.146804749307288\n",
      "<class 'mediapipe.python.solution_base.SolutionOutputs'>\n",
      "fps 13.552133482393844\n",
      "<class 'mediapipe.python.solution_base.SolutionOutputs'>\n",
      "fps 13.015885428788655\n",
      "<class 'mediapipe.python.solution_base.SolutionOutputs'>\n",
      "fps 12.99229935260044\n",
      "<class 'mediapipe.python.solution_base.SolutionOutputs'>\n",
      "fps 13.171162457685133\n",
      "<class 'mediapipe.python.solution_base.SolutionOutputs'>\n",
      "fps 11.036364210459842\n",
      "<class 'mediapipe.python.solution_base.SolutionOutputs'>\n",
      "fps 13.186525190599701\n",
      "<class 'mediapipe.python.solution_base.SolutionOutputs'>\n",
      "fps 13.37136809084475\n",
      "<class 'mediapipe.python.solution_base.SolutionOutputs'>\n",
      "fps 13.369876288199723\n",
      "<class 'mediapipe.python.solution_base.SolutionOutputs'>\n",
      "fps 14.100159682651741\n",
      "<class 'mediapipe.python.solution_base.SolutionOutputs'>\n",
      "fps 14.089407844349193\n"
     ]
    },
    {
     "name": "stdout",
     "output_type": "stream",
     "text": [
      "<class 'mediapipe.python.solution_base.SolutionOutputs'>\n",
      "fps 21.33105493085964\n",
      "<class 'mediapipe.python.solution_base.SolutionOutputs'>\n",
      "fps 25.043611177454025\n",
      "<class 'mediapipe.python.solution_base.SolutionOutputs'>\n",
      "fps 26.79741117691782\n",
      "<class 'mediapipe.python.solution_base.SolutionOutputs'>\n",
      "fps 19.15268524564712\n",
      "<class 'mediapipe.python.solution_base.SolutionOutputs'>\n",
      "fps 27.09498708010336\n",
      "<class 'mediapipe.python.solution_base.SolutionOutputs'>\n",
      "fps 20.915257956098095\n",
      "<class 'mediapipe.python.solution_base.SolutionOutputs'>\n",
      "fps 26.270717851393925\n",
      "<class 'mediapipe.python.solution_base.SolutionOutputs'>\n",
      "fps 26.268085399535302\n",
      "<class 'mediapipe.python.solution_base.SolutionOutputs'>\n",
      "fps 25.706062611850655\n",
      "<class 'mediapipe.python.solution_base.SolutionOutputs'>\n",
      "fps 25.707953319603806\n",
      "<class 'mediapipe.python.solution_base.SolutionOutputs'>\n",
      "fps 9.269712734875373\n",
      "<class 'mediapipe.python.solution_base.SolutionOutputs'>\n",
      "fps 13.193410692997052\n",
      "<class 'mediapipe.python.solution_base.SolutionOutputs'>\n",
      "fps 13.377807971881209\n",
      "<class 'mediapipe.python.solution_base.SolutionOutputs'>\n",
      "fps 13.357060513225525\n",
      "<class 'mediapipe.python.solution_base.SolutionOutputs'>\n",
      "fps 12.854291808664525\n",
      "<class 'mediapipe.python.solution_base.SolutionOutputs'>\n",
      "fps 13.321255931245195\n",
      "<class 'mediapipe.python.solution_base.SolutionOutputs'>\n",
      "fps 12.22772115586445\n",
      "<class 'mediapipe.python.solution_base.SolutionOutputs'>\n",
      "fps 12.854606972980925\n",
      "<class 'mediapipe.python.solution_base.SolutionOutputs'>\n",
      "fps 13.168515902169476\n",
      "<class 'mediapipe.python.solution_base.SolutionOutputs'>\n",
      "fps 13.519633313778455\n",
      "<class 'mediapipe.python.solution_base.SolutionOutputs'>\n",
      "fps 12.22818459313767\n",
      "<class 'mediapipe.python.solution_base.SolutionOutputs'>\n",
      "nothing\n",
      "fps 7.684084984143793\n",
      "<class 'mediapipe.python.solution_base.SolutionOutputs'>\n",
      "fps 12.429592970706338\n",
      "<class 'mediapipe.python.solution_base.SolutionOutputs'>\n",
      "fps 13.02089587453162\n",
      "<class 'mediapipe.python.solution_base.SolutionOutputs'>\n",
      "fps 13.183955339995034\n",
      "<class 'mediapipe.python.solution_base.SolutionOutputs'>\n",
      "fps 13.36991890651298\n",
      "<class 'mediapipe.python.solution_base.SolutionOutputs'>\n",
      "fps 13.015319975547618\n",
      "<class 'mediapipe.python.solution_base.SolutionOutputs'>\n",
      "fps 14.074184434288322\n",
      "<class 'mediapipe.python.solution_base.SolutionOutputs'>\n",
      "fps 11.680955351572944\n"
     ]
    },
    {
     "ename": "KeyboardInterrupt",
     "evalue": "",
     "output_type": "error",
     "traceback": [
      "\u001b[1;31m---------------------------------------------------------------------------\u001b[0m",
      "\u001b[1;31mKeyboardInterrupt\u001b[0m                         Traceback (most recent call last)",
      "\u001b[1;32m~\\AppData\\Local\\Temp\\ipykernel_11156\\2343676742.py\u001b[0m in \u001b[0;36m<module>\u001b[1;34m\u001b[0m\n\u001b[0;32m     16\u001b[0m \u001b[1;33m\u001b[0m\u001b[0m\n\u001b[0;32m     17\u001b[0m         \u001b[1;31m# Make detections\u001b[0m\u001b[1;33m\u001b[0m\u001b[1;33m\u001b[0m\u001b[1;33m\u001b[0m\u001b[0m\n\u001b[1;32m---> 18\u001b[1;33m         \u001b[0mimage\u001b[0m\u001b[1;33m,\u001b[0m \u001b[0mresults\u001b[0m \u001b[1;33m=\u001b[0m \u001b[0mmediapipe_detection\u001b[0m\u001b[1;33m(\u001b[0m\u001b[0mframe\u001b[0m\u001b[1;33m,\u001b[0m \u001b[0mholistic\u001b[0m\u001b[1;33m)\u001b[0m\u001b[1;33m\u001b[0m\u001b[1;33m\u001b[0m\u001b[0m\n\u001b[0m\u001b[0;32m     19\u001b[0m         \u001b[0mprint\u001b[0m\u001b[1;33m(\u001b[0m\u001b[0mresults\u001b[0m\u001b[1;33m)\u001b[0m\u001b[1;33m\u001b[0m\u001b[1;33m\u001b[0m\u001b[0m\n\u001b[0;32m     20\u001b[0m \u001b[1;33m\u001b[0m\u001b[0m\n",
      "\u001b[1;32m~\\AppData\\Local\\Temp\\ipykernel_11156\\2065571785.py\u001b[0m in \u001b[0;36mmediapipe_detection\u001b[1;34m(image, model)\u001b[0m\n\u001b[0;32m      2\u001b[0m     \u001b[0mimage\u001b[0m \u001b[1;33m=\u001b[0m \u001b[0mcv2\u001b[0m\u001b[1;33m.\u001b[0m\u001b[0mcvtColor\u001b[0m\u001b[1;33m(\u001b[0m\u001b[0mimage\u001b[0m\u001b[1;33m,\u001b[0m \u001b[0mcv2\u001b[0m\u001b[1;33m.\u001b[0m\u001b[0mCOLOR_BGR2RGB\u001b[0m\u001b[1;33m)\u001b[0m \u001b[1;31m# COLOR CONVERSION BGR 2 RGB\u001b[0m\u001b[1;33m\u001b[0m\u001b[1;33m\u001b[0m\u001b[0m\n\u001b[0;32m      3\u001b[0m     \u001b[0mimage\u001b[0m\u001b[1;33m.\u001b[0m\u001b[0mflags\u001b[0m\u001b[1;33m.\u001b[0m\u001b[0mwriteable\u001b[0m \u001b[1;33m=\u001b[0m \u001b[1;32mFalse\u001b[0m                  \u001b[1;31m# Image is no longer writeable\u001b[0m\u001b[1;33m\u001b[0m\u001b[1;33m\u001b[0m\u001b[0m\n\u001b[1;32m----> 4\u001b[1;33m     \u001b[0mresults\u001b[0m \u001b[1;33m=\u001b[0m \u001b[0mmodel\u001b[0m\u001b[1;33m.\u001b[0m\u001b[0mprocess\u001b[0m\u001b[1;33m(\u001b[0m\u001b[0mimage\u001b[0m\u001b[1;33m)\u001b[0m                 \u001b[1;31m# Make prediction\u001b[0m\u001b[1;33m\u001b[0m\u001b[1;33m\u001b[0m\u001b[0m\n\u001b[0m\u001b[0;32m      5\u001b[0m     \u001b[0mimage\u001b[0m\u001b[1;33m.\u001b[0m\u001b[0mflags\u001b[0m\u001b[1;33m.\u001b[0m\u001b[0mwriteable\u001b[0m \u001b[1;33m=\u001b[0m \u001b[1;32mTrue\u001b[0m                   \u001b[1;31m# Image is now writeable\u001b[0m\u001b[1;33m\u001b[0m\u001b[1;33m\u001b[0m\u001b[0m\n\u001b[0;32m      6\u001b[0m     \u001b[0mimage\u001b[0m \u001b[1;33m=\u001b[0m \u001b[0mcv2\u001b[0m\u001b[1;33m.\u001b[0m\u001b[0mcvtColor\u001b[0m\u001b[1;33m(\u001b[0m\u001b[0mimage\u001b[0m\u001b[1;33m,\u001b[0m \u001b[0mcv2\u001b[0m\u001b[1;33m.\u001b[0m\u001b[0mCOLOR_RGB2BGR\u001b[0m\u001b[1;33m)\u001b[0m \u001b[1;31m# COLOR COVERSION RGB 2 BGR\u001b[0m\u001b[1;33m\u001b[0m\u001b[1;33m\u001b[0m\u001b[0m\n",
      "\u001b[1;32m~\\AppData\\Roaming\\Python\\Python37\\site-packages\\mediapipe\\python\\solutions\\holistic.py\u001b[0m in \u001b[0;36mprocess\u001b[1;34m(self, image)\u001b[0m\n\u001b[0;32m    158\u001b[0m     \"\"\"\n\u001b[0;32m    159\u001b[0m \u001b[1;33m\u001b[0m\u001b[0m\n\u001b[1;32m--> 160\u001b[1;33m     \u001b[0mresults\u001b[0m \u001b[1;33m=\u001b[0m \u001b[0msuper\u001b[0m\u001b[1;33m(\u001b[0m\u001b[1;33m)\u001b[0m\u001b[1;33m.\u001b[0m\u001b[0mprocess\u001b[0m\u001b[1;33m(\u001b[0m\u001b[0minput_data\u001b[0m\u001b[1;33m=\u001b[0m\u001b[1;33m{\u001b[0m\u001b[1;34m'image'\u001b[0m\u001b[1;33m:\u001b[0m \u001b[0mimage\u001b[0m\u001b[1;33m}\u001b[0m\u001b[1;33m)\u001b[0m\u001b[1;33m\u001b[0m\u001b[1;33m\u001b[0m\u001b[0m\n\u001b[0m\u001b[0;32m    161\u001b[0m     \u001b[1;32mif\u001b[0m \u001b[0mresults\u001b[0m\u001b[1;33m.\u001b[0m\u001b[0mpose_landmarks\u001b[0m\u001b[1;33m:\u001b[0m\u001b[1;33m\u001b[0m\u001b[1;33m\u001b[0m\u001b[0m\n\u001b[0;32m    162\u001b[0m       \u001b[1;32mfor\u001b[0m \u001b[0mlandmark\u001b[0m \u001b[1;32min\u001b[0m \u001b[0mresults\u001b[0m\u001b[1;33m.\u001b[0m\u001b[0mpose_landmarks\u001b[0m\u001b[1;33m.\u001b[0m\u001b[0mlandmark\u001b[0m\u001b[1;33m:\u001b[0m\u001b[1;33m\u001b[0m\u001b[1;33m\u001b[0m\u001b[0m\n",
      "\u001b[1;32m~\\AppData\\Roaming\\Python\\Python37\\site-packages\\mediapipe\\python\\solution_base.py\u001b[0m in \u001b[0;36mprocess\u001b[1;34m(self, input_data)\u001b[0m\n\u001b[0;32m    332\u001b[0m                                      data).at(self._simulated_timestamp))\n\u001b[0;32m    333\u001b[0m \u001b[1;33m\u001b[0m\u001b[0m\n\u001b[1;32m--> 334\u001b[1;33m     \u001b[0mself\u001b[0m\u001b[1;33m.\u001b[0m\u001b[0m_graph\u001b[0m\u001b[1;33m.\u001b[0m\u001b[0mwait_until_idle\u001b[0m\u001b[1;33m(\u001b[0m\u001b[1;33m)\u001b[0m\u001b[1;33m\u001b[0m\u001b[1;33m\u001b[0m\u001b[0m\n\u001b[0m\u001b[0;32m    335\u001b[0m     \u001b[1;31m# Create a NamedTuple object where the field names are mapping to the graph\u001b[0m\u001b[1;33m\u001b[0m\u001b[1;33m\u001b[0m\u001b[1;33m\u001b[0m\u001b[0m\n\u001b[0;32m    336\u001b[0m     \u001b[1;31m# output stream names.\u001b[0m\u001b[1;33m\u001b[0m\u001b[1;33m\u001b[0m\u001b[1;33m\u001b[0m\u001b[0m\n",
      "\u001b[1;31mKeyboardInterrupt\u001b[0m: "
     ]
    }
   ],
   "source": [
    "import time\n",
    "# 1. New detection variables\n",
    "sequence = []\n",
    "sentence = []\n",
    "predictions = []\n",
    "threshold = 0.8\n",
    "count=[]\n",
    "\n",
    "cap = cv2.VideoCapture(0)\n",
    "# Set mediapipe model \n",
    "with mp_holistic.Holistic(min_detection_confidence=0.5, min_tracking_confidence=0.5) as holistic:\n",
    "    while cap.isOpened():\n",
    "        t = time.time()\n",
    "        # Read feed\n",
    "        ret, frame = cap.read()\n",
    "\n",
    "        # Make detections\n",
    "        image, results = mediapipe_detection(frame, holistic)\n",
    "        print(results)\n",
    "        \n",
    "        # Draw landmarks\n",
    "        draw_styled_landmarks(image, results)\n",
    "        \n",
    "        # 2. Prediction logic\n",
    "        keypoints = extract_keypoints(results)\n",
    "        sequence.append(keypoints)\n",
    "        count.append(keypoints)\n",
    "        \n",
    "        if len(sequence) == 30:\n",
    "            res = model.predict(np.expand_dims(sequence, axis=0))[0]\n",
    "            print(actions[np.argmax(res)])            \n",
    "            predictions.append(np.argmax(res))            \n",
    "            \n",
    "        #3. Viz logic\n",
    "            if np.unique(predictions[-1:])[0]==np.argmax(res): \n",
    "                if res[np.argmax(res)] > threshold: \n",
    "                    \n",
    "                    if len(sentence) > 0: \n",
    "                        if actions[np.argmax(res)] != sentence[-1]:\n",
    "                            sentence.append(actions[np.argmax(res)])\n",
    "                    else:\n",
    "                        sentence.append(actions[np.argmax(res)])\n",
    "\n",
    "            if len(sentence) > 6: \n",
    "                sentence = sentence[-6:]\n",
    "        elif  len(sequence) > 30 and len(sequence) < 50:\n",
    "            image = draw_class_on_image(\"STOP\", image)\n",
    "            cv2.rectangle(image, (120,200), (int((((len(sequence)-30)/20)*90*4)+150),210), (20,20,200), -1)\n",
    "            \n",
    "        elif  len(sequence) == 50:\n",
    "            sequence = []\n",
    "        \n",
    "        cv2.rectangle(image, (0,0), (640, 40), (245, 117, 16), -1)\n",
    "        cv2.putText(image, ' '.join(sentence), (3,30), \n",
    "                       cv2.FONT_HERSHEY_SIMPLEX, 1, (255, 255, 255), 2, cv2.LINE_AA)\n",
    "        \n",
    "        # Show to screen\n",
    "        cv2.imshow('OpenCV Feed', image)\n",
    "        print('fps', 1/(time.time()-t))\n",
    "        # Break gracefully\n",
    "        if cv2.waitKey(10) & 0xFF == ord('q'):\n",
    "            break\n",
    "    cap.release()\n",
    "    cv2.destroyAllWindows()"
   ]
  },
  {
   "cell_type": "code",
   "execution_count": 147,
   "metadata": {},
   "outputs": [
    {
     "data": {
      "text/plain": [
       "[2, 2]"
      ]
     },
     "execution_count": 147,
     "metadata": {},
     "output_type": "execute_result"
    }
   ],
   "source": [
    "predictions[-2:]"
   ]
  },
  {
   "cell_type": "code",
   "execution_count": 167,
   "metadata": {},
   "outputs": [
    {
     "data": {
      "text/plain": [
       "[6, 5, 6, 1, 2, 0, 4, 4, 4, 0, 1, 1, 1, 2, 1, 1, 2, 1, 1, 1, 6]"
      ]
     },
     "execution_count": 167,
     "metadata": {},
     "output_type": "execute_result"
    }
   ],
   "source": [
    "predictions"
   ]
  },
  {
   "cell_type": "code",
   "execution_count": 168,
   "metadata": {},
   "outputs": [
    {
     "data": {
      "text/plain": [
       "array([0, 1, 2, 4, 5, 6], dtype=int64)"
      ]
     },
     "execution_count": 168,
     "metadata": {},
     "output_type": "execute_result"
    }
   ],
   "source": [
    "np.unique(predictions)"
   ]
  },
  {
   "cell_type": "code",
   "execution_count": 163,
   "metadata": {},
   "outputs": [
    {
     "data": {
      "text/plain": [
       "2"
      ]
     },
     "execution_count": 163,
     "metadata": {},
     "output_type": "execute_result"
    }
   ],
   "source": [
    "np.unique(predictions[-2:])[0]"
   ]
  },
  {
   "cell_type": "code",
   "execution_count": 162,
   "metadata": {},
   "outputs": [
    {
     "data": {
      "text/plain": [
       "2"
      ]
     },
     "execution_count": 162,
     "metadata": {},
     "output_type": "execute_result"
    }
   ],
   "source": [
    "np.argmax(res)"
   ]
  },
  {
   "cell_type": "code",
   "execution_count": 132,
   "metadata": {},
   "outputs": [
    {
     "data": {
      "text/plain": [
       "63"
      ]
     },
     "execution_count": 132,
     "metadata": {},
     "output_type": "execute_result"
    }
   ],
   "source": [
    "len(keypoints)"
   ]
  },
  {
   "cell_type": "code",
   "execution_count": 34,
   "metadata": {},
   "outputs": [
    {
     "data": {
      "text/plain": [
       "31"
      ]
     },
     "execution_count": 34,
     "metadata": {},
     "output_type": "execute_result"
    }
   ],
   "source": [
    "len(sequence)"
   ]
  },
  {
   "cell_type": "code",
   "execution_count": 24,
   "metadata": {},
   "outputs": [
    {
     "data": {
      "text/plain": [
       "'ow'"
      ]
     },
     "execution_count": 24,
     "metadata": {},
     "output_type": "execute_result"
    }
   ],
   "source": [
    "actions[np.argmax(res)]"
   ]
  }
 ],
 "metadata": {
  "kernelspec": {
   "display_name": "Python 3.7 (combine_env9)",
   "language": "python",
   "name": "combine_env9"
  },
  "language_info": {
   "codemirror_mode": {
    "name": "ipython",
    "version": 3
   },
   "file_extension": ".py",
   "mimetype": "text/x-python",
   "name": "python",
   "nbconvert_exporter": "python",
   "pygments_lexer": "ipython3",
   "version": "3.7.13"
  }
 },
 "nbformat": 4,
 "nbformat_minor": 2
}
